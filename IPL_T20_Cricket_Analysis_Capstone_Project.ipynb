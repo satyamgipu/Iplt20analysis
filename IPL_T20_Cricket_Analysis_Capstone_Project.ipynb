{
  "nbformat": 4,
  "nbformat_minor": 0,
  "metadata": {
    "kernelspec": {
      "display_name": "Python 3",
      "language": "python",
      "name": "python3"
    },
    "language_info": {
      "codemirror_mode": {
        "name": "ipython",
        "version": 3
      },
      "file_extension": ".py",
      "mimetype": "text/x-python",
      "name": "python",
      "nbconvert_exporter": "python",
      "pygments_lexer": "ipython3",
      "version": "3.6.6"
    },
    "colab": {
      "name": "IPL T20 Cricket Analysis - Capstone Project.ipynb",
      "provenance": [],
      "collapsed_sections": [],
      "include_colab_link": true
    }
  },
  "cells": [
    {
      "cell_type": "markdown",
      "metadata": {
        "id": "view-in-github",
        "colab_type": "text"
      },
      "source": [
        "<a href=\"https://colab.research.google.com/github/satyamgipu/Iplt20analysis/blob/master/IPL_T20_Cricket_Analysis_Capstone_Project.ipynb\" target=\"_parent\"><img src=\"https://colab.research.google.com/assets/colab-badge.svg\" alt=\"Open In Colab\"/></a>"
      ]
    },
    {
      "cell_type": "markdown",
      "metadata": {
        "id": "Y06xIdG26kRF"
      },
      "source": [
        "## <b> Indian Premier League(IPL) is a professional Twenty20 cricket league in India contested during March or April and May of every year by eight teams representing eight different cities in India. The league was founded by the Board of Control for Cricket in India(BCCI) in 2008. </b>\n",
        "\n",
        "## <b> Explore and analyze the data to discover results and statistics for different teams playing in IPL. </b>"
      ]
    },
    {
      "cell_type": "code",
      "metadata": {
        "id": "dByMsuzT8Tnw"
      },
      "source": [
        "from google.colab import drive\n",
        "import numpy as np\n",
        "import pandas as pd\n",
        "import matplotlib.pyplot as plt"
      ],
      "execution_count": 418,
      "outputs": []
    },
    {
      "cell_type": "code",
      "metadata": {
        "colab": {
          "base_uri": "https://localhost:8080/"
        },
        "id": "H9x0ZzAseBP9",
        "outputId": "25dff1ff-2845-44ba-c1a3-de426b51ef55"
      },
      "source": [
        "drive.mount(\"/content/drive\")"
      ],
      "execution_count": 419,
      "outputs": [
        {
          "output_type": "stream",
          "text": [
            "Drive already mounted at /content/drive; to attempt to forcibly remount, call drive.mount(\"/content/drive\", force_remount=True).\n"
          ],
          "name": "stdout"
        }
      ]
    },
    {
      "cell_type": "code",
      "metadata": {
        "id": "cRbvDMTyedxT"
      },
      "source": [
        "path=\"/content/drive/My Drive/\"\n",
        "teams=pd.read_csv(path+\"teams.csv\")\n",
        "match=pd.read_csv(path+\"matches.csv\")\n",
        "Players=pd.read_excel(path+\"Players.xlsx\")\n",
        "deliveries=pd.read_csv(path+\"deliveries.csv\")\n",
        "teamwise_home_and_away=pd.read_csv(path+\"teamwise_home_and_away.csv\")\n",
        "teams=pd.read_csv(path+\"teams.csv\")\n",
        "most_runs_average_strikerate=pd.read_csv(path+\"most_runs_average_strikerate.csv\")\n",
        "\n"
      ],
      "execution_count": 420,
      "outputs": []
    },
    {
      "cell_type": "markdown",
      "metadata": {
        "id": "ZLgfDD1Ik4xz"
      },
      "source": [
        "TOSS Vs winners"
      ]
    },
    {
      "cell_type": "code",
      "metadata": {
        "colab": {
          "base_uri": "https://localhost:8080/",
          "height": 204
        },
        "id": "Gz30_B_cepY7",
        "outputId": "bc46f256-6efe-4162-c806-24cbd1b97229"
      },
      "source": [
        "Players.head()"
      ],
      "execution_count": 421,
      "outputs": [
        {
          "output_type": "execute_result",
          "data": {
            "text/html": [
              "<div>\n",
              "<style scoped>\n",
              "    .dataframe tbody tr th:only-of-type {\n",
              "        vertical-align: middle;\n",
              "    }\n",
              "\n",
              "    .dataframe tbody tr th {\n",
              "        vertical-align: top;\n",
              "    }\n",
              "\n",
              "    .dataframe thead th {\n",
              "        text-align: right;\n",
              "    }\n",
              "</style>\n",
              "<table border=\"1\" class=\"dataframe\">\n",
              "  <thead>\n",
              "    <tr style=\"text-align: right;\">\n",
              "      <th></th>\n",
              "      <th>Player_Name</th>\n",
              "      <th>DOB</th>\n",
              "      <th>Batting_Hand</th>\n",
              "      <th>Bowling_Skill</th>\n",
              "      <th>Country</th>\n",
              "    </tr>\n",
              "  </thead>\n",
              "  <tbody>\n",
              "    <tr>\n",
              "      <th>0</th>\n",
              "      <td>A Ashish Reddy</td>\n",
              "      <td>1991-02-24</td>\n",
              "      <td>Right_Hand</td>\n",
              "      <td>Right-arm medium</td>\n",
              "      <td>India</td>\n",
              "    </tr>\n",
              "    <tr>\n",
              "      <th>1</th>\n",
              "      <td>A Chandila</td>\n",
              "      <td>1983-12-05</td>\n",
              "      <td>Right_Hand</td>\n",
              "      <td>Right-arm offbreak</td>\n",
              "      <td>India</td>\n",
              "    </tr>\n",
              "    <tr>\n",
              "      <th>2</th>\n",
              "      <td>A Chopra</td>\n",
              "      <td>1977-09-19</td>\n",
              "      <td>Right_Hand</td>\n",
              "      <td>Right-arm offbreak</td>\n",
              "      <td>India</td>\n",
              "    </tr>\n",
              "    <tr>\n",
              "      <th>3</th>\n",
              "      <td>A Choudhary</td>\n",
              "      <td>NaT</td>\n",
              "      <td>Right_hand</td>\n",
              "      <td>Left-arm fast-medium</td>\n",
              "      <td>NaN</td>\n",
              "    </tr>\n",
              "    <tr>\n",
              "      <th>4</th>\n",
              "      <td>A Dananjaya</td>\n",
              "      <td>NaT</td>\n",
              "      <td>Right_Hand</td>\n",
              "      <td>Right-arm offbreak</td>\n",
              "      <td>NaN</td>\n",
              "    </tr>\n",
              "  </tbody>\n",
              "</table>\n",
              "</div>"
            ],
            "text/plain": [
              "      Player_Name        DOB Batting_Hand         Bowling_Skill Country\n",
              "0  A Ashish Reddy 1991-02-24   Right_Hand      Right-arm medium   India\n",
              "1      A Chandila 1983-12-05   Right_Hand    Right-arm offbreak   India\n",
              "2        A Chopra 1977-09-19   Right_Hand    Right-arm offbreak   India\n",
              "3     A Choudhary        NaT   Right_hand  Left-arm fast-medium     NaN\n",
              "4     A Dananjaya        NaT   Right_Hand    Right-arm offbreak     NaN"
            ]
          },
          "metadata": {
            "tags": []
          },
          "execution_count": 421
        }
      ]
    },
    {
      "cell_type": "code",
      "metadata": {
        "id": "BRqED1i-fzWO",
        "colab": {
          "base_uri": "https://localhost:8080/"
        },
        "outputId": "5c404d37-c38d-4bf0-9899-a1e0615cfe89"
      },
      "source": [
        "teams.info()"
      ],
      "execution_count": 422,
      "outputs": [
        {
          "output_type": "stream",
          "text": [
            "<class 'pandas.core.frame.DataFrame'>\n",
            "RangeIndex: 15 entries, 0 to 14\n",
            "Data columns (total 1 columns):\n",
            " #   Column  Non-Null Count  Dtype \n",
            "---  ------  --------------  ----- \n",
            " 0   team1   15 non-null     object\n",
            "dtypes: object(1)\n",
            "memory usage: 248.0+ bytes\n"
          ],
          "name": "stdout"
        }
      ]
    },
    {
      "cell_type": "code",
      "metadata": {
        "colab": {
          "base_uri": "https://localhost:8080/",
          "height": 80
        },
        "id": "s6LRQedq4s7q",
        "outputId": "48091af7-ee34-42f6-ab64-a801a9cd5ca3"
      },
      "source": [
        "most_runs_average_strikerate.head(1)"
      ],
      "execution_count": 423,
      "outputs": [
        {
          "output_type": "execute_result",
          "data": {
            "text/html": [
              "<div>\n",
              "<style scoped>\n",
              "    .dataframe tbody tr th:only-of-type {\n",
              "        vertical-align: middle;\n",
              "    }\n",
              "\n",
              "    .dataframe tbody tr th {\n",
              "        vertical-align: top;\n",
              "    }\n",
              "\n",
              "    .dataframe thead th {\n",
              "        text-align: right;\n",
              "    }\n",
              "</style>\n",
              "<table border=\"1\" class=\"dataframe\">\n",
              "  <thead>\n",
              "    <tr style=\"text-align: right;\">\n",
              "      <th></th>\n",
              "      <th>batsman</th>\n",
              "      <th>total_runs</th>\n",
              "      <th>out</th>\n",
              "      <th>numberofballs</th>\n",
              "      <th>average</th>\n",
              "      <th>strikerate</th>\n",
              "    </tr>\n",
              "  </thead>\n",
              "  <tbody>\n",
              "    <tr>\n",
              "      <th>0</th>\n",
              "      <td>V Kohli</td>\n",
              "      <td>5426</td>\n",
              "      <td>152</td>\n",
              "      <td>4111</td>\n",
              "      <td>35.697368</td>\n",
              "      <td>131.987351</td>\n",
              "    </tr>\n",
              "  </tbody>\n",
              "</table>\n",
              "</div>"
            ],
            "text/plain": [
              "   batsman  total_runs  out  numberofballs    average  strikerate\n",
              "0  V Kohli        5426  152           4111  35.697368  131.987351"
            ]
          },
          "metadata": {
            "tags": []
          },
          "execution_count": 423
        }
      ]
    },
    {
      "cell_type": "code",
      "metadata": {
        "colab": {
          "base_uri": "https://localhost:8080/",
          "height": 80
        },
        "id": "J1R7hZ7i8088",
        "outputId": "a18cf972-3b8f-4e36-b8e5-c2e61042471e"
      },
      "source": [
        "teamwise_home_and_away.head(1)"
      ],
      "execution_count": 424,
      "outputs": [
        {
          "output_type": "execute_result",
          "data": {
            "text/html": [
              "<div>\n",
              "<style scoped>\n",
              "    .dataframe tbody tr th:only-of-type {\n",
              "        vertical-align: middle;\n",
              "    }\n",
              "\n",
              "    .dataframe tbody tr th {\n",
              "        vertical-align: top;\n",
              "    }\n",
              "\n",
              "    .dataframe thead th {\n",
              "        text-align: right;\n",
              "    }\n",
              "</style>\n",
              "<table border=\"1\" class=\"dataframe\">\n",
              "  <thead>\n",
              "    <tr style=\"text-align: right;\">\n",
              "      <th></th>\n",
              "      <th>team</th>\n",
              "      <th>home_wins</th>\n",
              "      <th>away_wins</th>\n",
              "      <th>home_matches</th>\n",
              "      <th>away_matches</th>\n",
              "      <th>home_win_percentage</th>\n",
              "      <th>away_win_percentage</th>\n",
              "    </tr>\n",
              "  </thead>\n",
              "  <tbody>\n",
              "    <tr>\n",
              "      <th>0</th>\n",
              "      <td>Rising Pune Supergiant</td>\n",
              "      <td>5</td>\n",
              "      <td>5</td>\n",
              "      <td>8</td>\n",
              "      <td>8</td>\n",
              "      <td>62.5</td>\n",
              "      <td>62.5</td>\n",
              "    </tr>\n",
              "  </tbody>\n",
              "</table>\n",
              "</div>"
            ],
            "text/plain": [
              "                     team  home_wins  ...  home_win_percentage  away_win_percentage\n",
              "0  Rising Pune Supergiant          5  ...                 62.5                 62.5\n",
              "\n",
              "[1 rows x 7 columns]"
            ]
          },
          "metadata": {
            "tags": []
          },
          "execution_count": 424
        }
      ]
    },
    {
      "cell_type": "code",
      "metadata": {
        "colab": {
          "base_uri": "https://localhost:8080/",
          "height": 394
        },
        "id": "TUKM2vy49Aio",
        "outputId": "3566b39e-7535-4d68-b1c3-b387d916780c"
      },
      "source": [
        "deliveries.head()"
      ],
      "execution_count": 425,
      "outputs": [
        {
          "output_type": "execute_result",
          "data": {
            "text/html": [
              "<div>\n",
              "<style scoped>\n",
              "    .dataframe tbody tr th:only-of-type {\n",
              "        vertical-align: middle;\n",
              "    }\n",
              "\n",
              "    .dataframe tbody tr th {\n",
              "        vertical-align: top;\n",
              "    }\n",
              "\n",
              "    .dataframe thead th {\n",
              "        text-align: right;\n",
              "    }\n",
              "</style>\n",
              "<table border=\"1\" class=\"dataframe\">\n",
              "  <thead>\n",
              "    <tr style=\"text-align: right;\">\n",
              "      <th></th>\n",
              "      <th>match_id</th>\n",
              "      <th>inning</th>\n",
              "      <th>batting_team</th>\n",
              "      <th>bowling_team</th>\n",
              "      <th>over</th>\n",
              "      <th>ball</th>\n",
              "      <th>batsman</th>\n",
              "      <th>non_striker</th>\n",
              "      <th>bowler</th>\n",
              "      <th>is_super_over</th>\n",
              "      <th>wide_runs</th>\n",
              "      <th>bye_runs</th>\n",
              "      <th>legbye_runs</th>\n",
              "      <th>noball_runs</th>\n",
              "      <th>penalty_runs</th>\n",
              "      <th>batsman_runs</th>\n",
              "      <th>extra_runs</th>\n",
              "      <th>total_runs</th>\n",
              "      <th>player_dismissed</th>\n",
              "      <th>dismissal_kind</th>\n",
              "      <th>fielder</th>\n",
              "    </tr>\n",
              "  </thead>\n",
              "  <tbody>\n",
              "    <tr>\n",
              "      <th>0</th>\n",
              "      <td>1</td>\n",
              "      <td>1</td>\n",
              "      <td>Sunrisers Hyderabad</td>\n",
              "      <td>Royal Challengers Bangalore</td>\n",
              "      <td>1</td>\n",
              "      <td>1</td>\n",
              "      <td>DA Warner</td>\n",
              "      <td>S Dhawan</td>\n",
              "      <td>TS Mills</td>\n",
              "      <td>0</td>\n",
              "      <td>0</td>\n",
              "      <td>0</td>\n",
              "      <td>0</td>\n",
              "      <td>0</td>\n",
              "      <td>0</td>\n",
              "      <td>0</td>\n",
              "      <td>0</td>\n",
              "      <td>0</td>\n",
              "      <td>NaN</td>\n",
              "      <td>NaN</td>\n",
              "      <td>NaN</td>\n",
              "    </tr>\n",
              "    <tr>\n",
              "      <th>1</th>\n",
              "      <td>1</td>\n",
              "      <td>1</td>\n",
              "      <td>Sunrisers Hyderabad</td>\n",
              "      <td>Royal Challengers Bangalore</td>\n",
              "      <td>1</td>\n",
              "      <td>2</td>\n",
              "      <td>DA Warner</td>\n",
              "      <td>S Dhawan</td>\n",
              "      <td>TS Mills</td>\n",
              "      <td>0</td>\n",
              "      <td>0</td>\n",
              "      <td>0</td>\n",
              "      <td>0</td>\n",
              "      <td>0</td>\n",
              "      <td>0</td>\n",
              "      <td>0</td>\n",
              "      <td>0</td>\n",
              "      <td>0</td>\n",
              "      <td>NaN</td>\n",
              "      <td>NaN</td>\n",
              "      <td>NaN</td>\n",
              "    </tr>\n",
              "    <tr>\n",
              "      <th>2</th>\n",
              "      <td>1</td>\n",
              "      <td>1</td>\n",
              "      <td>Sunrisers Hyderabad</td>\n",
              "      <td>Royal Challengers Bangalore</td>\n",
              "      <td>1</td>\n",
              "      <td>3</td>\n",
              "      <td>DA Warner</td>\n",
              "      <td>S Dhawan</td>\n",
              "      <td>TS Mills</td>\n",
              "      <td>0</td>\n",
              "      <td>0</td>\n",
              "      <td>0</td>\n",
              "      <td>0</td>\n",
              "      <td>0</td>\n",
              "      <td>0</td>\n",
              "      <td>4</td>\n",
              "      <td>0</td>\n",
              "      <td>4</td>\n",
              "      <td>NaN</td>\n",
              "      <td>NaN</td>\n",
              "      <td>NaN</td>\n",
              "    </tr>\n",
              "    <tr>\n",
              "      <th>3</th>\n",
              "      <td>1</td>\n",
              "      <td>1</td>\n",
              "      <td>Sunrisers Hyderabad</td>\n",
              "      <td>Royal Challengers Bangalore</td>\n",
              "      <td>1</td>\n",
              "      <td>4</td>\n",
              "      <td>DA Warner</td>\n",
              "      <td>S Dhawan</td>\n",
              "      <td>TS Mills</td>\n",
              "      <td>0</td>\n",
              "      <td>0</td>\n",
              "      <td>0</td>\n",
              "      <td>0</td>\n",
              "      <td>0</td>\n",
              "      <td>0</td>\n",
              "      <td>0</td>\n",
              "      <td>0</td>\n",
              "      <td>0</td>\n",
              "      <td>NaN</td>\n",
              "      <td>NaN</td>\n",
              "      <td>NaN</td>\n",
              "    </tr>\n",
              "    <tr>\n",
              "      <th>4</th>\n",
              "      <td>1</td>\n",
              "      <td>1</td>\n",
              "      <td>Sunrisers Hyderabad</td>\n",
              "      <td>Royal Challengers Bangalore</td>\n",
              "      <td>1</td>\n",
              "      <td>5</td>\n",
              "      <td>DA Warner</td>\n",
              "      <td>S Dhawan</td>\n",
              "      <td>TS Mills</td>\n",
              "      <td>0</td>\n",
              "      <td>2</td>\n",
              "      <td>0</td>\n",
              "      <td>0</td>\n",
              "      <td>0</td>\n",
              "      <td>0</td>\n",
              "      <td>0</td>\n",
              "      <td>2</td>\n",
              "      <td>2</td>\n",
              "      <td>NaN</td>\n",
              "      <td>NaN</td>\n",
              "      <td>NaN</td>\n",
              "    </tr>\n",
              "  </tbody>\n",
              "</table>\n",
              "</div>"
            ],
            "text/plain": [
              "   match_id  inning  ... dismissal_kind fielder\n",
              "0         1       1  ...            NaN     NaN\n",
              "1         1       1  ...            NaN     NaN\n",
              "2         1       1  ...            NaN     NaN\n",
              "3         1       1  ...            NaN     NaN\n",
              "4         1       1  ...            NaN     NaN\n",
              "\n",
              "[5 rows x 21 columns]"
            ]
          },
          "metadata": {
            "tags": []
          },
          "execution_count": 425
        }
      ]
    },
    {
      "cell_type": "code",
      "metadata": {
        "colab": {
          "base_uri": "https://localhost:8080/",
          "height": 80
        },
        "id": "Ocu5wrXG9HN8",
        "outputId": "88197eef-132b-47ae-9d5b-367cce00efee"
      },
      "source": [
        "Players.head(1)"
      ],
      "execution_count": 426,
      "outputs": [
        {
          "output_type": "execute_result",
          "data": {
            "text/html": [
              "<div>\n",
              "<style scoped>\n",
              "    .dataframe tbody tr th:only-of-type {\n",
              "        vertical-align: middle;\n",
              "    }\n",
              "\n",
              "    .dataframe tbody tr th {\n",
              "        vertical-align: top;\n",
              "    }\n",
              "\n",
              "    .dataframe thead th {\n",
              "        text-align: right;\n",
              "    }\n",
              "</style>\n",
              "<table border=\"1\" class=\"dataframe\">\n",
              "  <thead>\n",
              "    <tr style=\"text-align: right;\">\n",
              "      <th></th>\n",
              "      <th>Player_Name</th>\n",
              "      <th>DOB</th>\n",
              "      <th>Batting_Hand</th>\n",
              "      <th>Bowling_Skill</th>\n",
              "      <th>Country</th>\n",
              "    </tr>\n",
              "  </thead>\n",
              "  <tbody>\n",
              "    <tr>\n",
              "      <th>0</th>\n",
              "      <td>A Ashish Reddy</td>\n",
              "      <td>1991-02-24</td>\n",
              "      <td>Right_Hand</td>\n",
              "      <td>Right-arm medium</td>\n",
              "      <td>India</td>\n",
              "    </tr>\n",
              "  </tbody>\n",
              "</table>\n",
              "</div>"
            ],
            "text/plain": [
              "      Player_Name        DOB Batting_Hand     Bowling_Skill Country\n",
              "0  A Ashish Reddy 1991-02-24   Right_Hand  Right-arm medium   India"
            ]
          },
          "metadata": {
            "tags": []
          },
          "execution_count": 426
        }
      ]
    },
    {
      "cell_type": "code",
      "metadata": {
        "colab": {
          "base_uri": "https://localhost:8080/",
          "height": 134
        },
        "id": "nbwkKBmkKY5T",
        "outputId": "629458d6-becc-4fbe-e202-eabeed23a040"
      },
      "source": [
        "deliveries.head(1)"
      ],
      "execution_count": 427,
      "outputs": [
        {
          "output_type": "execute_result",
          "data": {
            "text/html": [
              "<div>\n",
              "<style scoped>\n",
              "    .dataframe tbody tr th:only-of-type {\n",
              "        vertical-align: middle;\n",
              "    }\n",
              "\n",
              "    .dataframe tbody tr th {\n",
              "        vertical-align: top;\n",
              "    }\n",
              "\n",
              "    .dataframe thead th {\n",
              "        text-align: right;\n",
              "    }\n",
              "</style>\n",
              "<table border=\"1\" class=\"dataframe\">\n",
              "  <thead>\n",
              "    <tr style=\"text-align: right;\">\n",
              "      <th></th>\n",
              "      <th>match_id</th>\n",
              "      <th>inning</th>\n",
              "      <th>batting_team</th>\n",
              "      <th>bowling_team</th>\n",
              "      <th>over</th>\n",
              "      <th>ball</th>\n",
              "      <th>batsman</th>\n",
              "      <th>non_striker</th>\n",
              "      <th>bowler</th>\n",
              "      <th>is_super_over</th>\n",
              "      <th>wide_runs</th>\n",
              "      <th>bye_runs</th>\n",
              "      <th>legbye_runs</th>\n",
              "      <th>noball_runs</th>\n",
              "      <th>penalty_runs</th>\n",
              "      <th>batsman_runs</th>\n",
              "      <th>extra_runs</th>\n",
              "      <th>total_runs</th>\n",
              "      <th>player_dismissed</th>\n",
              "      <th>dismissal_kind</th>\n",
              "      <th>fielder</th>\n",
              "    </tr>\n",
              "  </thead>\n",
              "  <tbody>\n",
              "    <tr>\n",
              "      <th>0</th>\n",
              "      <td>1</td>\n",
              "      <td>1</td>\n",
              "      <td>Sunrisers Hyderabad</td>\n",
              "      <td>Royal Challengers Bangalore</td>\n",
              "      <td>1</td>\n",
              "      <td>1</td>\n",
              "      <td>DA Warner</td>\n",
              "      <td>S Dhawan</td>\n",
              "      <td>TS Mills</td>\n",
              "      <td>0</td>\n",
              "      <td>0</td>\n",
              "      <td>0</td>\n",
              "      <td>0</td>\n",
              "      <td>0</td>\n",
              "      <td>0</td>\n",
              "      <td>0</td>\n",
              "      <td>0</td>\n",
              "      <td>0</td>\n",
              "      <td>NaN</td>\n",
              "      <td>NaN</td>\n",
              "      <td>NaN</td>\n",
              "    </tr>\n",
              "  </tbody>\n",
              "</table>\n",
              "</div>"
            ],
            "text/plain": [
              "   match_id  inning  ... dismissal_kind fielder\n",
              "0         1       1  ...            NaN     NaN\n",
              "\n",
              "[1 rows x 21 columns]"
            ]
          },
          "metadata": {
            "tags": []
          },
          "execution_count": 427
        }
      ]
    },
    {
      "cell_type": "code",
      "metadata": {
        "colab": {
          "base_uri": "https://localhost:8080/",
          "height": 168
        },
        "id": "ynmI84d_9QP9",
        "outputId": "7b48b375-da00-47c3-8f34-5bfc7c5e1cf3"
      },
      "source": [
        "match.head(1)"
      ],
      "execution_count": 428,
      "outputs": [
        {
          "output_type": "execute_result",
          "data": {
            "text/html": [
              "<div>\n",
              "<style scoped>\n",
              "    .dataframe tbody tr th:only-of-type {\n",
              "        vertical-align: middle;\n",
              "    }\n",
              "\n",
              "    .dataframe tbody tr th {\n",
              "        vertical-align: top;\n",
              "    }\n",
              "\n",
              "    .dataframe thead th {\n",
              "        text-align: right;\n",
              "    }\n",
              "</style>\n",
              "<table border=\"1\" class=\"dataframe\">\n",
              "  <thead>\n",
              "    <tr style=\"text-align: right;\">\n",
              "      <th></th>\n",
              "      <th>id</th>\n",
              "      <th>Season</th>\n",
              "      <th>city</th>\n",
              "      <th>date</th>\n",
              "      <th>team1</th>\n",
              "      <th>team2</th>\n",
              "      <th>toss_winner</th>\n",
              "      <th>toss_decision</th>\n",
              "      <th>result</th>\n",
              "      <th>dl_applied</th>\n",
              "      <th>winner</th>\n",
              "      <th>win_by_runs</th>\n",
              "      <th>win_by_wickets</th>\n",
              "      <th>player_of_match</th>\n",
              "      <th>venue</th>\n",
              "      <th>umpire1</th>\n",
              "      <th>umpire2</th>\n",
              "      <th>umpire3</th>\n",
              "    </tr>\n",
              "  </thead>\n",
              "  <tbody>\n",
              "    <tr>\n",
              "      <th>0</th>\n",
              "      <td>1</td>\n",
              "      <td>IPL-2017</td>\n",
              "      <td>Hyderabad</td>\n",
              "      <td>05-04-2017</td>\n",
              "      <td>Sunrisers Hyderabad</td>\n",
              "      <td>Royal Challengers Bangalore</td>\n",
              "      <td>Royal Challengers Bangalore</td>\n",
              "      <td>field</td>\n",
              "      <td>normal</td>\n",
              "      <td>0</td>\n",
              "      <td>Sunrisers Hyderabad</td>\n",
              "      <td>35</td>\n",
              "      <td>0</td>\n",
              "      <td>Yuvraj Singh</td>\n",
              "      <td>Rajiv Gandhi International Stadium, Uppal</td>\n",
              "      <td>AY Dandekar</td>\n",
              "      <td>NJ Llong</td>\n",
              "      <td>NaN</td>\n",
              "    </tr>\n",
              "  </tbody>\n",
              "</table>\n",
              "</div>"
            ],
            "text/plain": [
              "   id    Season       city  ...      umpire1   umpire2 umpire3\n",
              "0   1  IPL-2017  Hyderabad  ...  AY Dandekar  NJ Llong     NaN\n",
              "\n",
              "[1 rows x 18 columns]"
            ]
          },
          "metadata": {
            "tags": []
          },
          "execution_count": 428
        }
      ]
    },
    {
      "cell_type": "code",
      "metadata": {
        "colab": {
          "base_uri": "https://localhost:8080/",
          "height": 359
        },
        "id": "s4Z_317qlH0y",
        "outputId": "7e672480-eaff-4fd4-eb5e-eeb143e092c0"
      },
      "source": [
        "deliveries.loc[deliveries[\"dismissal_kind\"].notna(),:].groupby(\"dismissal_kind\").agg({\"dismissal_kind\":\"count\"})"
      ],
      "execution_count": 429,
      "outputs": [
        {
          "output_type": "execute_result",
          "data": {
            "text/html": [
              "<div>\n",
              "<style scoped>\n",
              "    .dataframe tbody tr th:only-of-type {\n",
              "        vertical-align: middle;\n",
              "    }\n",
              "\n",
              "    .dataframe tbody tr th {\n",
              "        vertical-align: top;\n",
              "    }\n",
              "\n",
              "    .dataframe thead th {\n",
              "        text-align: right;\n",
              "    }\n",
              "</style>\n",
              "<table border=\"1\" class=\"dataframe\">\n",
              "  <thead>\n",
              "    <tr style=\"text-align: right;\">\n",
              "      <th></th>\n",
              "      <th>dismissal_kind</th>\n",
              "    </tr>\n",
              "    <tr>\n",
              "      <th>dismissal_kind</th>\n",
              "      <th></th>\n",
              "    </tr>\n",
              "  </thead>\n",
              "  <tbody>\n",
              "    <tr>\n",
              "      <th>bowled</th>\n",
              "      <td>1581</td>\n",
              "    </tr>\n",
              "    <tr>\n",
              "      <th>caught</th>\n",
              "      <td>5348</td>\n",
              "    </tr>\n",
              "    <tr>\n",
              "      <th>caught and bowled</th>\n",
              "      <td>211</td>\n",
              "    </tr>\n",
              "    <tr>\n",
              "      <th>hit wicket</th>\n",
              "      <td>10</td>\n",
              "    </tr>\n",
              "    <tr>\n",
              "      <th>lbw</th>\n",
              "      <td>540</td>\n",
              "    </tr>\n",
              "    <tr>\n",
              "      <th>obstructing the field</th>\n",
              "      <td>2</td>\n",
              "    </tr>\n",
              "    <tr>\n",
              "      <th>retired hurt</th>\n",
              "      <td>12</td>\n",
              "    </tr>\n",
              "    <tr>\n",
              "      <th>run out</th>\n",
              "      <td>852</td>\n",
              "    </tr>\n",
              "    <tr>\n",
              "      <th>stumped</th>\n",
              "      <td>278</td>\n",
              "    </tr>\n",
              "  </tbody>\n",
              "</table>\n",
              "</div>"
            ],
            "text/plain": [
              "                       dismissal_kind\n",
              "dismissal_kind                       \n",
              "bowled                           1581\n",
              "caught                           5348\n",
              "caught and bowled                 211\n",
              "hit wicket                         10\n",
              "lbw                               540\n",
              "obstructing the field               2\n",
              "retired hurt                       12\n",
              "run out                           852\n",
              "stumped                           278"
            ]
          },
          "metadata": {
            "tags": []
          },
          "execution_count": 429
        }
      ]
    },
    {
      "cell_type": "code",
      "metadata": {
        "id": "RqIVus_tlvIF"
      },
      "source": [
        "players_dismissed_type=deliveries.loc[deliveries[\"dismissal_kind\"].notna(),:].groupby([\"match_id\",\"inning\",\"dismissal_kind\"]).agg({\"dismissal_kind\":\"count\"})"
      ],
      "execution_count": 430,
      "outputs": []
    },
    {
      "cell_type": "code",
      "metadata": {
        "colab": {
          "base_uri": "https://localhost:8080/",
          "height": 694
        },
        "id": "r4fn-dPkmYoh",
        "outputId": "c30dea1b-2f06-4c87-af26-9dd8837dff1d"
      },
      "source": [
        "deliveries.loc[deliveries[\"dismissal_kind\"].notna(),:]"
      ],
      "execution_count": 431,
      "outputs": [
        {
          "output_type": "execute_result",
          "data": {
            "text/html": [
              "<div>\n",
              "<style scoped>\n",
              "    .dataframe tbody tr th:only-of-type {\n",
              "        vertical-align: middle;\n",
              "    }\n",
              "\n",
              "    .dataframe tbody tr th {\n",
              "        vertical-align: top;\n",
              "    }\n",
              "\n",
              "    .dataframe thead th {\n",
              "        text-align: right;\n",
              "    }\n",
              "</style>\n",
              "<table border=\"1\" class=\"dataframe\">\n",
              "  <thead>\n",
              "    <tr style=\"text-align: right;\">\n",
              "      <th></th>\n",
              "      <th>match_id</th>\n",
              "      <th>inning</th>\n",
              "      <th>batting_team</th>\n",
              "      <th>bowling_team</th>\n",
              "      <th>over</th>\n",
              "      <th>ball</th>\n",
              "      <th>batsman</th>\n",
              "      <th>non_striker</th>\n",
              "      <th>bowler</th>\n",
              "      <th>is_super_over</th>\n",
              "      <th>wide_runs</th>\n",
              "      <th>bye_runs</th>\n",
              "      <th>legbye_runs</th>\n",
              "      <th>noball_runs</th>\n",
              "      <th>penalty_runs</th>\n",
              "      <th>batsman_runs</th>\n",
              "      <th>extra_runs</th>\n",
              "      <th>total_runs</th>\n",
              "      <th>player_dismissed</th>\n",
              "      <th>dismissal_kind</th>\n",
              "      <th>fielder</th>\n",
              "    </tr>\n",
              "  </thead>\n",
              "  <tbody>\n",
              "    <tr>\n",
              "      <th>11</th>\n",
              "      <td>1</td>\n",
              "      <td>1</td>\n",
              "      <td>Sunrisers Hyderabad</td>\n",
              "      <td>Royal Challengers Bangalore</td>\n",
              "      <td>2</td>\n",
              "      <td>5</td>\n",
              "      <td>DA Warner</td>\n",
              "      <td>S Dhawan</td>\n",
              "      <td>A Choudhary</td>\n",
              "      <td>0</td>\n",
              "      <td>0</td>\n",
              "      <td>0</td>\n",
              "      <td>0</td>\n",
              "      <td>0</td>\n",
              "      <td>0</td>\n",
              "      <td>0</td>\n",
              "      <td>0</td>\n",
              "      <td>0</td>\n",
              "      <td>DA Warner</td>\n",
              "      <td>caught</td>\n",
              "      <td>Mandeep Singh</td>\n",
              "    </tr>\n",
              "    <tr>\n",
              "      <th>64</th>\n",
              "      <td>1</td>\n",
              "      <td>1</td>\n",
              "      <td>Sunrisers Hyderabad</td>\n",
              "      <td>Royal Challengers Bangalore</td>\n",
              "      <td>11</td>\n",
              "      <td>3</td>\n",
              "      <td>S Dhawan</td>\n",
              "      <td>MC Henriques</td>\n",
              "      <td>STR Binny</td>\n",
              "      <td>0</td>\n",
              "      <td>0</td>\n",
              "      <td>0</td>\n",
              "      <td>0</td>\n",
              "      <td>0</td>\n",
              "      <td>0</td>\n",
              "      <td>0</td>\n",
              "      <td>0</td>\n",
              "      <td>0</td>\n",
              "      <td>S Dhawan</td>\n",
              "      <td>caught</td>\n",
              "      <td>Sachin Baby</td>\n",
              "    </tr>\n",
              "    <tr>\n",
              "      <th>94</th>\n",
              "      <td>1</td>\n",
              "      <td>1</td>\n",
              "      <td>Sunrisers Hyderabad</td>\n",
              "      <td>Royal Challengers Bangalore</td>\n",
              "      <td>16</td>\n",
              "      <td>2</td>\n",
              "      <td>MC Henriques</td>\n",
              "      <td>Yuvraj Singh</td>\n",
              "      <td>YS Chahal</td>\n",
              "      <td>0</td>\n",
              "      <td>0</td>\n",
              "      <td>0</td>\n",
              "      <td>0</td>\n",
              "      <td>0</td>\n",
              "      <td>0</td>\n",
              "      <td>0</td>\n",
              "      <td>0</td>\n",
              "      <td>0</td>\n",
              "      <td>MC Henriques</td>\n",
              "      <td>caught</td>\n",
              "      <td>Sachin Baby</td>\n",
              "    </tr>\n",
              "    <tr>\n",
              "      <th>116</th>\n",
              "      <td>1</td>\n",
              "      <td>1</td>\n",
              "      <td>Sunrisers Hyderabad</td>\n",
              "      <td>Royal Challengers Bangalore</td>\n",
              "      <td>19</td>\n",
              "      <td>4</td>\n",
              "      <td>Yuvraj Singh</td>\n",
              "      <td>DJ Hooda</td>\n",
              "      <td>TS Mills</td>\n",
              "      <td>0</td>\n",
              "      <td>0</td>\n",
              "      <td>0</td>\n",
              "      <td>0</td>\n",
              "      <td>0</td>\n",
              "      <td>0</td>\n",
              "      <td>0</td>\n",
              "      <td>0</td>\n",
              "      <td>0</td>\n",
              "      <td>Yuvraj Singh</td>\n",
              "      <td>bowled</td>\n",
              "      <td>NaN</td>\n",
              "    </tr>\n",
              "    <tr>\n",
              "      <th>160</th>\n",
              "      <td>1</td>\n",
              "      <td>2</td>\n",
              "      <td>Royal Challengers Bangalore</td>\n",
              "      <td>Sunrisers Hyderabad</td>\n",
              "      <td>6</td>\n",
              "      <td>4</td>\n",
              "      <td>Mandeep Singh</td>\n",
              "      <td>CH Gayle</td>\n",
              "      <td>Rashid Khan</td>\n",
              "      <td>0</td>\n",
              "      <td>0</td>\n",
              "      <td>0</td>\n",
              "      <td>0</td>\n",
              "      <td>0</td>\n",
              "      <td>0</td>\n",
              "      <td>0</td>\n",
              "      <td>0</td>\n",
              "      <td>0</td>\n",
              "      <td>Mandeep Singh</td>\n",
              "      <td>bowled</td>\n",
              "      <td>NaN</td>\n",
              "    </tr>\n",
              "    <tr>\n",
              "      <th>...</th>\n",
              "      <td>...</td>\n",
              "      <td>...</td>\n",
              "      <td>...</td>\n",
              "      <td>...</td>\n",
              "      <td>...</td>\n",
              "      <td>...</td>\n",
              "      <td>...</td>\n",
              "      <td>...</td>\n",
              "      <td>...</td>\n",
              "      <td>...</td>\n",
              "      <td>...</td>\n",
              "      <td>...</td>\n",
              "      <td>...</td>\n",
              "      <td>...</td>\n",
              "      <td>...</td>\n",
              "      <td>...</td>\n",
              "      <td>...</td>\n",
              "      <td>...</td>\n",
              "      <td>...</td>\n",
              "      <td>...</td>\n",
              "      <td>...</td>\n",
              "    </tr>\n",
              "    <tr>\n",
              "      <th>179019</th>\n",
              "      <td>11415</td>\n",
              "      <td>2</td>\n",
              "      <td>Chennai Super Kings</td>\n",
              "      <td>Mumbai Indians</td>\n",
              "      <td>11</td>\n",
              "      <td>3</td>\n",
              "      <td>AT Rayudu</td>\n",
              "      <td>SR Watson</td>\n",
              "      <td>JJ Bumrah</td>\n",
              "      <td>0</td>\n",
              "      <td>0</td>\n",
              "      <td>0</td>\n",
              "      <td>0</td>\n",
              "      <td>0</td>\n",
              "      <td>0</td>\n",
              "      <td>0</td>\n",
              "      <td>0</td>\n",
              "      <td>0</td>\n",
              "      <td>AT Rayudu</td>\n",
              "      <td>caught</td>\n",
              "      <td>Q de Kock</td>\n",
              "    </tr>\n",
              "    <tr>\n",
              "      <th>179033</th>\n",
              "      <td>11415</td>\n",
              "      <td>2</td>\n",
              "      <td>Chennai Super Kings</td>\n",
              "      <td>Mumbai Indians</td>\n",
              "      <td>13</td>\n",
              "      <td>5</td>\n",
              "      <td>SR Watson</td>\n",
              "      <td>MS Dhoni</td>\n",
              "      <td>HH Pandya</td>\n",
              "      <td>0</td>\n",
              "      <td>0</td>\n",
              "      <td>0</td>\n",
              "      <td>0</td>\n",
              "      <td>0</td>\n",
              "      <td>0</td>\n",
              "      <td>1</td>\n",
              "      <td>0</td>\n",
              "      <td>1</td>\n",
              "      <td>MS Dhoni</td>\n",
              "      <td>run out</td>\n",
              "      <td>Ishan Kishan</td>\n",
              "    </tr>\n",
              "    <tr>\n",
              "      <th>179067</th>\n",
              "      <td>11415</td>\n",
              "      <td>2</td>\n",
              "      <td>Chennai Super Kings</td>\n",
              "      <td>Mumbai Indians</td>\n",
              "      <td>19</td>\n",
              "      <td>2</td>\n",
              "      <td>DJ Bravo</td>\n",
              "      <td>SR Watson</td>\n",
              "      <td>JJ Bumrah</td>\n",
              "      <td>0</td>\n",
              "      <td>0</td>\n",
              "      <td>0</td>\n",
              "      <td>0</td>\n",
              "      <td>0</td>\n",
              "      <td>0</td>\n",
              "      <td>0</td>\n",
              "      <td>0</td>\n",
              "      <td>0</td>\n",
              "      <td>DJ Bravo</td>\n",
              "      <td>caught</td>\n",
              "      <td>Q de Kock</td>\n",
              "    </tr>\n",
              "    <tr>\n",
              "      <th>179075</th>\n",
              "      <td>11415</td>\n",
              "      <td>2</td>\n",
              "      <td>Chennai Super Kings</td>\n",
              "      <td>Mumbai Indians</td>\n",
              "      <td>20</td>\n",
              "      <td>4</td>\n",
              "      <td>SR Watson</td>\n",
              "      <td>RA Jadeja</td>\n",
              "      <td>SL Malinga</td>\n",
              "      <td>0</td>\n",
              "      <td>0</td>\n",
              "      <td>0</td>\n",
              "      <td>0</td>\n",
              "      <td>0</td>\n",
              "      <td>0</td>\n",
              "      <td>1</td>\n",
              "      <td>0</td>\n",
              "      <td>1</td>\n",
              "      <td>SR Watson</td>\n",
              "      <td>run out</td>\n",
              "      <td>KH Pandya</td>\n",
              "    </tr>\n",
              "    <tr>\n",
              "      <th>179077</th>\n",
              "      <td>11415</td>\n",
              "      <td>2</td>\n",
              "      <td>Chennai Super Kings</td>\n",
              "      <td>Mumbai Indians</td>\n",
              "      <td>20</td>\n",
              "      <td>6</td>\n",
              "      <td>SN Thakur</td>\n",
              "      <td>RA Jadeja</td>\n",
              "      <td>SL Malinga</td>\n",
              "      <td>0</td>\n",
              "      <td>0</td>\n",
              "      <td>0</td>\n",
              "      <td>0</td>\n",
              "      <td>0</td>\n",
              "      <td>0</td>\n",
              "      <td>0</td>\n",
              "      <td>0</td>\n",
              "      <td>0</td>\n",
              "      <td>SN Thakur</td>\n",
              "      <td>lbw</td>\n",
              "      <td>NaN</td>\n",
              "    </tr>\n",
              "  </tbody>\n",
              "</table>\n",
              "<p>8834 rows × 21 columns</p>\n",
              "</div>"
            ],
            "text/plain": [
              "        match_id  inning  ... dismissal_kind        fielder\n",
              "11             1       1  ...         caught  Mandeep Singh\n",
              "64             1       1  ...         caught    Sachin Baby\n",
              "94             1       1  ...         caught    Sachin Baby\n",
              "116            1       1  ...         bowled            NaN\n",
              "160            1       2  ...         bowled            NaN\n",
              "...          ...     ...  ...            ...            ...\n",
              "179019     11415       2  ...         caught      Q de Kock\n",
              "179033     11415       2  ...        run out   Ishan Kishan\n",
              "179067     11415       2  ...         caught      Q de Kock\n",
              "179075     11415       2  ...        run out      KH Pandya\n",
              "179077     11415       2  ...            lbw            NaN\n",
              "\n",
              "[8834 rows x 21 columns]"
            ]
          },
          "metadata": {
            "tags": []
          },
          "execution_count": 431
        }
      ]
    },
    {
      "cell_type": "code",
      "metadata": {
        "colab": {
          "base_uri": "https://localhost:8080/"
        },
        "id": "Or4HDVwWRu4y",
        "outputId": "d7ffee19-e9cb-4b0a-a9d2-d34ecc656dcb"
      },
      "source": [
        "match_id_with_no_result=list(match[match[\"result\"]==\"no result\"].id)\n",
        "match_id_with_no_result"
      ],
      "execution_count": 432,
      "outputs": [
        {
          "output_type": "execute_result",
          "data": {
            "text/plain": [
              "[301, 546, 571, 11340]"
            ]
          },
          "metadata": {
            "tags": []
          },
          "execution_count": 432
        }
      ]
    },
    {
      "cell_type": "code",
      "metadata": {
        "id": "ZZ-hRY5SEe-7"
      },
      "source": [
        "match=match[~match[\"id\"].isin(match_id_with_no_result)]\n",
        "deliveries=deliveries[~deliveries[\"match_id\"].isin(match_id_with_no_result)]"
      ],
      "execution_count": 433,
      "outputs": []
    },
    {
      "cell_type": "code",
      "metadata": {
        "colab": {
          "base_uri": "https://localhost:8080/",
          "height": 69
        },
        "id": "PPwDBSdyNFOC",
        "outputId": "35956d48-baf7-449a-a6f5-bb5bf016ff20"
      },
      "source": [
        "match[match[\"id\"]==546]"
      ],
      "execution_count": 434,
      "outputs": [
        {
          "output_type": "execute_result",
          "data": {
            "text/html": [
              "<div>\n",
              "<style scoped>\n",
              "    .dataframe tbody tr th:only-of-type {\n",
              "        vertical-align: middle;\n",
              "    }\n",
              "\n",
              "    .dataframe tbody tr th {\n",
              "        vertical-align: top;\n",
              "    }\n",
              "\n",
              "    .dataframe thead th {\n",
              "        text-align: right;\n",
              "    }\n",
              "</style>\n",
              "<table border=\"1\" class=\"dataframe\">\n",
              "  <thead>\n",
              "    <tr style=\"text-align: right;\">\n",
              "      <th></th>\n",
              "      <th>id</th>\n",
              "      <th>Season</th>\n",
              "      <th>city</th>\n",
              "      <th>date</th>\n",
              "      <th>team1</th>\n",
              "      <th>team2</th>\n",
              "      <th>toss_winner</th>\n",
              "      <th>toss_decision</th>\n",
              "      <th>result</th>\n",
              "      <th>dl_applied</th>\n",
              "      <th>winner</th>\n",
              "      <th>win_by_runs</th>\n",
              "      <th>win_by_wickets</th>\n",
              "      <th>player_of_match</th>\n",
              "      <th>venue</th>\n",
              "      <th>umpire1</th>\n",
              "      <th>umpire2</th>\n",
              "      <th>umpire3</th>\n",
              "    </tr>\n",
              "  </thead>\n",
              "  <tbody>\n",
              "  </tbody>\n",
              "</table>\n",
              "</div>"
            ],
            "text/plain": [
              "Empty DataFrame\n",
              "Columns: [id, Season, city, date, team1, team2, toss_winner, toss_decision, result, dl_applied, winner, win_by_runs, win_by_wickets, player_of_match, venue, umpire1, umpire2, umpire3]\n",
              "Index: []"
            ]
          },
          "metadata": {
            "tags": []
          },
          "execution_count": 434
        }
      ]
    },
    {
      "cell_type": "code",
      "metadata": {
        "colab": {
          "base_uri": "https://localhost:8080/"
        },
        "id": "cRoWbFMKTckf",
        "outputId": "57b24d48-7048-4c31-ba42-f21e32a2130e"
      },
      "source": [
        "def inning_finder(winner,toss_decision,toss_winner):\n",
        "  innings_winner=0\n",
        "  print(winner,end=\",\")\n",
        "  print(toss_winner,end=\",\")\n",
        "  print(toss_decision,end=\" /n\")\n",
        "  if toss_winner==winner and toss_decision==\"field\":\n",
        "    innings_winner=2\n",
        "  elif toss_winner==winner and toss_decision==\"bat\":\n",
        "    innings_winner=1\n",
        "  elif toss_winner!=winner and toss_decision==\"bat\":\n",
        "    innings_winner=2\n",
        "  elif toss_winner!=winner and toss_decision==\"field\":\n",
        "    innings_winner=1\n",
        "  return innings_winner\n",
        "match[\"innings_winner\"]=match.apply(lambda x: inning_finder(x[\"winner\"],x[\"toss_decision\"],x[\"toss_winner\"]),\n",
        "                                                                                axis=1)"
      ],
      "execution_count": 435,
      "outputs": [
        {
          "output_type": "stream",
          "text": [
            "Sunrisers Hyderabad,Royal Challengers Bangalore,field /nRising Pune Supergiant,Rising Pune Supergiant,field /nKolkata Knight Riders,Kolkata Knight Riders,field /nKings XI Punjab,Kings XI Punjab,field /nRoyal Challengers Bangalore,Royal Challengers Bangalore,bat /nSunrisers Hyderabad,Sunrisers Hyderabad,field /nMumbai Indians,Mumbai Indians,field /nKings XI Punjab,Royal Challengers Bangalore,bat /nDelhi Daredevils,Rising Pune Supergiant,field /nMumbai Indians,Mumbai Indians,field /nKolkata Knight Riders,Kolkata Knight Riders,field /nMumbai Indians,Mumbai Indians,field /nGujarat Lions,Gujarat Lions,field /nKolkata Knight Riders,Sunrisers Hyderabad,field /nDelhi Daredevils,Delhi Daredevils,bat /nMumbai Indians,Mumbai Indians,field /nRising Pune Supergiant,Royal Challengers Bangalore,field /nKolkata Knight Riders,Delhi Daredevils,bat /nSunrisers Hyderabad,Kings XI Punjab,field /nRoyal Challengers Bangalore,Gujarat Lions,field /nSunrisers Hyderabad,Sunrisers Hyderabad,bat /nMumbai Indians,Mumbai Indians,field /nGujarat Lions,Gujarat Lions,field /nMumbai Indians,Delhi Daredevils,field /nRising Pune Supergiant,Rising Pune Supergiant,field /nKings XI Punjab,Gujarat Lions,field /nKolkata Knight Riders,Royal Challengers Bangalore,field /nRising Pune Supergiant,Mumbai Indians,field /nKolkata Knight Riders,Kolkata Knight Riders,field /nGujarat Lions,Gujarat Lions,field /nKolkata Knight Riders,Kolkata Knight Riders,field /nSunrisers Hyderabad,Kings XI Punjab,field /nRising Pune Supergiant,Royal Challengers Bangalore,field /nMumbai Indians,Gujarat Lions,bat /nKings XI Punjab,Kings XI Punjab,field /nSunrisers Hyderabad,Kolkata Knight Riders,field /nMumbai Indians,Royal Challengers Bangalore,bat /nRising Pune Supergiant,Rising Pune Supergiant,field /nDelhi Daredevils,Delhi Daredevils,field /nRising Pune Supergiant,Rising Pune Supergiant,field /nDelhi Daredevils,Delhi Daredevils,field /nKings XI Punjab,Royal Challengers Bangalore,field /nRising Pune Supergiant,Sunrisers Hyderabad,field /nMumbai Indians,Delhi Daredevils,field /nKolkata Knight Riders,Kolkata Knight Riders,field /nGujarat Lions,Gujarat Lions,field /nSunrisers Hyderabad,Mumbai Indians,bat /nKings XI Punjab,Kolkata Knight Riders,field /nDelhi Daredevils,Delhi Daredevils,field /nKings XI Punjab,Mumbai Indians,field /nDelhi Daredevils,Delhi Daredevils,bat /nSunrisers Hyderabad,Sunrisers Hyderabad,field /nMumbai Indians,Kolkata Knight Riders,field /nRising Pune Supergiant,Rising Pune Supergiant,field /nRoyal Challengers Bangalore,Royal Challengers Bangalore,bat /nRising Pune Supergiant,Mumbai Indians,field /nKolkata Knight Riders,Kolkata Knight Riders,field /nMumbai Indians,Mumbai Indians,field /nMumbai Indians,Mumbai Indians,bat /nKolkata Knight Riders,Royal Challengers Bangalore,field /nChennai Super Kings,Chennai Super Kings,bat /nDelhi Daredevils,Rajasthan Royals,bat /nRoyal Challengers Bangalore,Mumbai Indians,bat /nKolkata Knight Riders,Deccan Chargers,bat /nRajasthan Royals,Kings XI Punjab,bat /nDelhi Daredevils,Deccan Chargers,bat /nChennai Super Kings,Mumbai Indians,field /nRajasthan Royals,Rajasthan Royals,field /nKings XI Punjab,Mumbai Indians,field /nRajasthan Royals,Rajasthan Royals,field /nChennai Super Kings,Kolkata Knight Riders,bat /nDeccan Chargers,Deccan Chargers,field /nKings XI Punjab,Delhi Daredevils,bat /nChennai Super Kings,Chennai Super Kings,bat /nMumbai Indians,Kolkata Knight Riders,bat /nDelhi Daredevils,Royal Challengers Bangalore,field /nKings XI Punjab,Kings XI Punjab,field /nRajasthan Royals,Rajasthan Royals,bat /nDelhi Daredevils,Chennai Super Kings,bat /nRoyal Challengers Bangalore,Deccan Chargers,bat /nKings XI Punjab,Kings XI Punjab,bat /nMumbai Indians,Delhi Daredevils,field /nRajasthan Royals,Chennai Super Kings,bat /nKings XI Punjab,Kings XI Punjab,field /nDeccan Chargers,Deccan Chargers,field /nMumbai Indians,Mumbai Indians,field /nChennai Super Kings,Chennai Super Kings,field /nKolkata Knight Riders,Kolkata Knight Riders,bat /nRajasthan Royals,Rajasthan Royals,field /nMumbai Indians,Mumbai Indians,field /nChennai Super Kings,Kings XI Punjab,field /nKolkata Knight Riders,Kolkata Knight Riders,bat /nRajasthan Royals,Rajasthan Royals,field /nKings XI Punjab,Royal Challengers Bangalore,bat /nKolkata Knight Riders,Kolkata Knight Riders,bat /nMumbai Indians,Mumbai Indians,field /nKings XI Punjab,Rajasthan Royals,field /nDelhi Daredevils,Deccan Chargers,field /nMumbai Indians,Mumbai Indians,field /nKings XI Punjab,Delhi Daredevils,bat /nRajasthan Royals,Royal Challengers Bangalore,field /nMumbai Indians,Deccan Chargers,field /nChennai Super Kings,Kolkata Knight Riders,bat /nDelhi Daredevils,Delhi Daredevils,field /nRajasthan Royals,Rajasthan Royals,field /nKings XI Punjab,Mumbai Indians,field /nRoyal Challengers Bangalore,Royal Challengers Bangalore,bat /nKings XI Punjab,Kings XI Punjab,field /nDelhi Daredevils,Delhi Daredevils,field /nRajasthan Royals,Rajasthan Royals,bat /nRoyal Challengers Bangalore,Deccan Chargers,field /nKolkata Knight Riders,Kings XI Punjab,bat /nRajasthan Royals,Rajasthan Royals,field /nChennai Super Kings,Deccan Chargers,bat /nRajasthan Royals,Delhi Daredevils,field /nChennai Super Kings,Kings XI Punjab,bat /nRajasthan Royals,Rajasthan Royals,field /nMumbai Indians,Chennai Super Kings,field /nRoyal Challengers Bangalore,Royal Challengers Bangalore,bat /nDelhi Daredevils,Delhi Daredevils,field /nDeccan Chargers,Kolkata Knight Riders,bat /nChennai Super Kings,Chennai Super Kings,bat /nKolkata Knight Riders,Kolkata Knight Riders,field /nDeccan Chargers,Deccan Chargers,bat /nDelhi Daredevils,Delhi Daredevils,bat /nRajasthan Royals,Kolkata Knight Riders,field /nKings XI Punjab,Royal Challengers Bangalore,bat /nDeccan Chargers,Deccan Chargers,bat /nDelhi Daredevils,Royal Challengers Bangalore,bat /nKings XI Punjab,Kings XI Punjab,bat /nDeccan Chargers,Deccan Chargers,field /nMumbai Indians,Mumbai Indians,bat /nRajasthan Royals,Delhi Daredevils,bat /nRoyal Challengers Bangalore,Kolkata Knight Riders,bat /nKings XI Punjab,Kings XI Punjab,bat /nDelhi Daredevils,Delhi Daredevils,field /nChennai Super Kings,Rajasthan Royals,field /nMumbai Indians,Mumbai Indians,bat /nRoyal Challengers Bangalore,Royal Challengers Bangalore,bat /nRajasthan Royals,Deccan Chargers,bat /nChennai Super Kings,Delhi Daredevils,field /nKings XI Punjab,Kolkata Knight Riders,bat /nRoyal Challengers Bangalore,Mumbai Indians,bat /nChennai Super Kings,Chennai Super Kings,bat /nRajasthan Royals,Kings XI Punjab,field /nDelhi Daredevils,Kolkata Knight Riders,bat /nDeccan Chargers,Deccan Chargers,bat /nRajasthan Royals,Rajasthan Royals,field /nChennai Super Kings,Chennai Super Kings,bat /nDelhi Daredevils,Mumbai Indians,bat /nKings XI Punjab,Kings XI Punjab,field /nChennai Super Kings,Rajasthan Royals,bat /nMumbai Indians,Mumbai Indians,bat /nDelhi Daredevils,Delhi Daredevils,field /nDeccan Chargers,Deccan Chargers,bat /nRoyal Challengers Bangalore,Royal Challengers Bangalore,field /nMumbai Indians,Kings XI Punjab,bat /nDelhi Daredevils,Deccan Chargers,field /nRoyal Challengers Bangalore,Chennai Super Kings,bat /nRajasthan Royals,Rajasthan Royals,bat /nKings XI Punjab,Kings XI Punjab,field /nChennai Super Kings,Mumbai Indians,bat /nDeccan Chargers,Deccan Chargers,field /nKings XI Punjab,Deccan Chargers,field /nDelhi Daredevils,Delhi Daredevils,bat /nKolkata Knight Riders,Chennai Super Kings,bat /nRoyal Challengers Bangalore,Delhi Daredevils,bat /nKolkata Knight Riders,Kolkata Knight Riders,field /nChennai Super Kings,Chennai Super Kings,bat /nDelhi Daredevils,Delhi Daredevils,field /nRoyal Challengers Bangalore,Royal Challengers Bangalore,bat /nDeccan Chargers,Deccan Chargers,field /nRoyal Challengers Bangalore,Royal Challengers Bangalore,field /nDeccan Chargers,Royal Challengers Bangalore,field /nKolkata Knight Riders,Deccan Chargers,field /nMumbai Indians,Mumbai Indians,bat /nDelhi Daredevils,Delhi Daredevils,field /nKolkata Knight Riders,Kolkata Knight Riders,field /nDeccan Chargers,Deccan Chargers,bat /nDelhi Daredevils,Delhi Daredevils,field /nRoyal Challengers Bangalore,Kings XI Punjab,bat /nChennai Super Kings,Chennai Super Kings,bat /nMumbai Indians,Delhi Daredevils,field /nRoyal Challengers Bangalore,Royal Challengers Bangalore,field /nChennai Super Kings,Delhi Daredevils,bat /nDeccan Chargers,Kings XI Punjab,field /nRajasthan Royals,Rajasthan Royals,bat /nRoyal Challengers Bangalore,Mumbai Indians,bat /nDeccan Chargers,Deccan Chargers,bat /nKings XI Punjab,Chennai Super Kings,field /nMumbai Indians,Kolkata Knight Riders,bat /nRoyal Challengers Bangalore,Chennai Super Kings,field /nRajasthan Royals,Kings XI Punjab,field /nMumbai Indians,Mumbai Indians,field /nRajasthan Royals,Deccan Chargers,bat /nKolkata Knight Riders,Kolkata Knight Riders,bat /nDelhi Daredevils,Royal Challengers Bangalore,field /nRajasthan Royals,Rajasthan Royals,bat /nMumbai Indians,Deccan Chargers,field /nDelhi Daredevils,Delhi Daredevils,bat /nMumbai Indians,Mumbai Indians,field /nChennai Super Kings,Royal Challengers Bangalore,bat /nDelhi Daredevils,Delhi Daredevils,bat /nKolkata Knight Riders,Kolkata Knight Riders,bat /nRoyal Challengers Bangalore,Kings XI Punjab,bat /nChennai Super Kings,Chennai Super Kings,bat /nMumbai Indians,Mumbai Indians,bat /nKings XI Punjab,Kolkata Knight Riders,bat /nDelhi Daredevils,Delhi Daredevils,bat /nRajasthan Royals,Rajasthan Royals,bat /nChennai Super Kings,Chennai Super Kings,bat /nRajasthan Royals,Kings XI Punjab,bat /nKolkata Knight Riders,Kolkata Knight Riders,bat /nDeccan Chargers,Deccan Chargers,field /nKings XI Punjab,Mumbai Indians,bat /nDeccan Chargers,Chennai Super Kings,bat /nRoyal Challengers Bangalore,Royal Challengers Bangalore,field /nKings XI Punjab,Delhi Daredevils,bat /nMumbai Indians,Rajasthan Royals,field /nDeccan Chargers,Royal Challengers Bangalore,field /nMumbai Indians,Mumbai Indians,bat /nChennai Super Kings,Kolkata Knight Riders,bat /nRoyal Challengers Bangalore,Rajasthan Royals,bat /nDelhi Daredevils,Chennai Super Kings,bat /nDeccan Chargers,Deccan Chargers,field /nMumbai Indians,Royal Challengers Bangalore,field /nKolkata Knight Riders,Rajasthan Royals,bat /nChennai Super Kings,Chennai Super Kings,field /nDeccan Chargers,Deccan Chargers,bat /nKolkata Knight Riders,Mumbai Indians,bat /nMumbai Indians,Mumbai Indians,bat /nChennai Super Kings,Chennai Super Kings,bat /nRoyal Challengers Bangalore,Deccan Chargers,bat /nChennai Super Kings,Chennai Super Kings,bat /nChennai Super Kings,Chennai Super Kings,bat /nRajasthan Royals,Rajasthan Royals,field /nRoyal Challengers Bangalore,Kochi Tuskers Kerala,bat /nMumbai Indians,Delhi Daredevils,bat /nPune Warriors,Kings XI Punjab,bat /nKolkata Knight Riders,Kolkata Knight Riders,bat /nRajasthan Royals,Delhi Daredevils,bat /nMumbai Indians,Mumbai Indians,field /nKings XI Punjab,Kings XI Punjab,field /nPune Warriors,Kochi Tuskers Kerala,bat /nDeccan Chargers,Royal Challengers Bangalore,field /nKolkata Knight Riders,Kolkata Knight Riders,field /nKochi Tuskers Kerala,Kochi Tuskers Kerala,field /nChennai Super Kings,Chennai Super Kings,bat /nKings XI Punjab,Kings XI Punjab,field /nDelhi Daredevils,Delhi Daredevils,field /nKolkata Knight Riders,Kolkata Knight Riders,field /nKochi Tuskers Kerala,Kochi Tuskers Kerala,field /nDeccan Chargers,Deccan Chargers,bat /nMumbai Indians,Pune Warriors,bat /nKochi Tuskers Kerala,Kolkata Knight Riders,field /nKings XI Punjab,Rajasthan Royals,field /nMumbai Indians,Chennai Super Kings,field /nRoyal Challengers Bangalore,Royal Challengers Bangalore,field /nDelhi Daredevils,Kings XI Punjab,field /nMumbai Indians,Deccan Chargers,field /nRajasthan Royals,Rajasthan Royals,field /nChennai Super Kings,Pune Warriors,field /nRoyal Challengers Bangalore,Royal Challengers Bangalore,field /nChennai Super Kings,Pune Warriors,bat /nDeccan Chargers,Kochi Tuskers Kerala,field /nKolkata Knight Riders,Delhi Daredevils,field /nRajasthan Royals,Rajasthan Royals,field /nRoyal Challengers Bangalore,Pune Warriors,field /nDelhi Daredevils,Delhi Daredevils,bat /nKolkata Knight Riders,Kolkata Knight Riders,field /nRajasthan Royals,Rajasthan Royals,field /nChennai Super Kings,Chennai Super Kings,bat /nMumbai Indians,Kings XI Punjab,field /nKochi Tuskers Kerala,Kochi Tuskers Kerala,field /nKolkata Knight Riders,Deccan Chargers,field /nChennai Super Kings,Rajasthan Royals,bat /nMumbai Indians,Pune Warriors,field /nKochi Tuskers Kerala,Kolkata Knight Riders,field /nDelhi Daredevils,Delhi Daredevils,field /nRoyal Challengers Bangalore,Kings XI Punjab,field /nKolkata Knight Riders,Chennai Super Kings,bat /nMumbai Indians,Delhi Daredevils,field /nRoyal Challengers Bangalore,Kochi Tuskers Kerala,bat /nPune Warriors,Kings XI Punjab,bat /nChennai Super Kings,Rajasthan Royals,field /nPune Warriors,Deccan Chargers,bat /nKings XI Punjab,Mumbai Indians,field /nRoyal Challengers Bangalore,Royal Challengers Bangalore,field /nChennai Super Kings,Chennai Super Kings,bat /nKings XI Punjab,Kings XI Punjab,field /nRoyal Challengers Bangalore,Royal Challengers Bangalore,field /nDeccan Chargers,Deccan Chargers,bat /nKings XI Punjab,Delhi Daredevils,field /nKochi Tuskers Kerala,Kochi Tuskers Kerala,field /nDeccan Chargers,Deccan Chargers,field /nKings XI Punjab,Kings XI Punjab,bat /nChennai Super Kings,Chennai Super Kings,bat /nKolkata Knight Riders,Kolkata Knight Riders,field /nRajasthan Royals,Mumbai Indians,bat /nDeccan Chargers,Kings XI Punjab,field /nRoyal Challengers Bangalore,Royal Challengers Bangalore,field /nMumbai Indians,Mumbai Indians,field /nChennai Super Kings,Chennai Super Kings,field /nMumbai Indians,Mumbai Indians,field /nRoyal Challengers Bangalore,Mumbai Indians,field /nChennai Super Kings,Chennai Super Kings,bat /nMumbai Indians,Mumbai Indians,field /nDelhi Daredevils,Delhi Daredevils,field /nPune Warriors,Mumbai Indians,field /nRajasthan Royals,Kings XI Punjab,field /nRoyal Challengers Bangalore,Delhi Daredevils,field /nChennai Super Kings,Deccan Chargers,field /nRajasthan Royals,Kolkata Knight Riders,field /nPune Warriors,Pune Warriors,bat /nMumbai Indians,Deccan Chargers,bat /nKolkata Knight Riders,Royal Challengers Bangalore,field /nDelhi Daredevils,Delhi Daredevils,field /nMumbai Indians,Rajasthan Royals,field /nChennai Super Kings,Royal Challengers Bangalore,bat /nKings XI Punjab,Kings XI Punjab,field /nKolkata Knight Riders,Rajasthan Royals,bat /nDelhi Daredevils,Deccan Chargers,bat /nPune Warriors,Chennai Super Kings,bat /nKings XI Punjab,Kolkata Knight Riders,field /nRajasthan Royals,Rajasthan Royals,bat /nDelhi Daredevils,Delhi Daredevils,field /nRajasthan Royals,Deccan Chargers,bat /nRoyal Challengers Bangalore,Pune Warriors,bat /nKolkata Knight Riders,Kings XI Punjab,bat /nDelhi Daredevils,Deccan Chargers,bat /nChennai Super Kings,Pune Warriors,field /nRoyal Challengers Bangalore,Royal Challengers Bangalore,field /nChennai Super Kings,Rajasthan Royals,bat /nPune Warriors,Delhi Daredevils,field /nKings XI Punjab,Mumbai Indians,bat /nKolkata Knight Riders,Kolkata Knight Riders,field /nRoyal Challengers Bangalore,Rajasthan Royals,field /nDelhi Daredevils,Pune Warriors,bat /nMumbai Indians,Kings XI Punjab,bat /nDeccan Chargers,Deccan Chargers,bat /nDelhi Daredevils,Mumbai Indians,field /nKings XI Punjab,Kings XI Punjab,bat /nKolkata Knight Riders,Kolkata Knight Riders,bat /nDelhi Daredevils,Delhi Daredevils,bat /nMumbai Indians,Mumbai Indians,field /nKolkata Knight Riders,Chennai Super Kings,bat /nDeccan Chargers,Deccan Chargers,bat /nDelhi Daredevils,Rajasthan Royals,bat /nKings XI Punjab,Kings XI Punjab,field /nMumbai Indians,Mumbai Indians,bat /nChennai Super Kings,Chennai Super Kings,bat /nKolkata Knight Riders,Kolkata Knight Riders,bat /nRajasthan Royals,Rajasthan Royals,bat /nMumbai Indians,Mumbai Indians,field /nRoyal Challengers Bangalore,Royal Challengers Bangalore,field /nKolkata Knight Riders,Delhi Daredevils,bat /nRajasthan Royals,Pune Warriors,bat /nKings XI Punjab,Deccan Chargers,field /nRoyal Challengers Bangalore,Royal Challengers Bangalore,field /nChennai Super Kings,Chennai Super Kings,field /nRoyal Challengers Bangalore,Pune Warriors,field /nMumbai Indians,Mumbai Indians,bat /nChennai Super Kings,Chennai Super Kings,field /nRajasthan Royals,Rajasthan Royals,bat /nKings XI Punjab,Deccan Chargers,bat /nMumbai Indians,Mumbai Indians,field /nChennai Super Kings,Chennai Super Kings,field /nDelhi Daredevils,Kings XI Punjab,bat /nKolkata Knight Riders,Mumbai Indians,field /nKings XI Punjab,Kings XI Punjab,field /nRoyal Challengers Bangalore,Delhi Daredevils,field /nDeccan Chargers,Rajasthan Royals,bat /nDelhi Daredevils,Delhi Daredevils,field /nKolkata Knight Riders,Kolkata Knight Riders,bat /nDeccan Chargers,Royal Challengers Bangalore,field /nMumbai Indians,Rajasthan Royals,bat /nKolkata Knight Riders,Kolkata Knight Riders,bat /nChennai Super Kings,Mumbai Indians,field /nChennai Super Kings,Delhi Daredevils,field /nKolkata Knight Riders,Chennai Super Kings,bat /nKolkata Knight Riders,Kolkata Knight Riders,field /nRoyal Challengers Bangalore,Mumbai Indians,field /nSunrisers Hyderabad,Pune Warriors,field /nRajasthan Royals,Rajasthan Royals,bat /nMumbai Indians,Mumbai Indians,bat /nKings XI Punjab,Pune Warriors,bat /nSunrisers Hyderabad,Royal Challengers Bangalore,bat /nRajasthan Royals,Kolkata Knight Riders,field /nMumbai Indians,Mumbai Indians,bat /nChennai Super Kings,Chennai Super Kings,field /nRoyal Challengers Bangalore,Royal Challengers Bangalore,field /nPune Warriors,Rajasthan Royals,bat /nSunrisers Hyderabad,Delhi Daredevils,bat /nMumbai Indians,Mumbai Indians,bat /nChennai Super Kings,Chennai Super Kings,field /nKolkata Knight Riders,Kolkata Knight Riders,bat /nRajasthan Royals,Rajasthan Royals,field /nPune Warriors,Pune Warriors,bat /nKings XI Punjab,Kolkata Knight Riders,field /nRoyal Challengers Bangalore,Royal Challengers Bangalore,field /nSunrisers Hyderabad,Pune Warriors,field /nRajasthan Royals,Rajasthan Royals,bat /nChennai Super Kings,Chennai Super Kings,bat /nSunrisers Hyderabad,Kings XI Punjab,bat /nChennai Super Kings,Kolkata Knight Riders,bat /nRoyal Challengers Bangalore,Royal Challengers Bangalore,field /nDelhi Daredevils,Mumbai Indians,bat /nKings XI Punjab,Kings XI Punjab,field /nChennai Super Kings,Rajasthan Royals,bat /nRoyal Challengers Bangalore,Pune Warriors,field /nKings XI Punjab,Delhi Daredevils,field /nMumbai Indians,Kolkata Knight Riders,bat /nChennai Super Kings,Sunrisers Hyderabad,bat /nKolkata Knight Riders,Kings XI Punjab,bat /nRajasthan Royals,Sunrisers Hyderabad,bat /nMumbai Indians,Mumbai Indians,bat /nChennai Super Kings,Kolkata Knight Riders,field /nDelhi Daredevils,Pune Warriors,field /nRajasthan Royals,Rajasthan Royals,field /nMumbai Indians,Mumbai Indians,bat /nChennai Super Kings,Chennai Super Kings,bat /nSunrisers Hyderabad,Mumbai Indians,bat /nDelhi Daredevils,Kolkata Knight Riders,bat /nChennai Super Kings,Chennai Super Kings,bat /nRoyal Challengers Bangalore,Royal Challengers Bangalore,bat /nKolkata Knight Riders,Rajasthan Royals,bat /nSunrisers Hyderabad,Delhi Daredevils,bat /nKings XI Punjab,Kings XI Punjab,field /nMumbai Indians,Mumbai Indians,bat /nRajasthan Royals,Pune Warriors,bat /nRoyal Challengers Bangalore,Sunrisers Hyderabad,bat /nRajasthan Royals,Delhi Daredevils,bat /nMumbai Indians,Mumbai Indians,bat /nChennai Super Kings,Sunrisers Hyderabad,field /nRajasthan Royals,Rajasthan Royals,field /nKolkata Knight Riders,Kolkata Knight Riders,bat /nRoyal Challengers Bangalore,Delhi Daredevils,field /nMumbai Indians,Pune Warriors,bat /nSunrisers Hyderabad,Kings XI Punjab,field /nKolkata Knight Riders,Kolkata Knight Riders,field /nRajasthan Royals,Rajasthan Royals,field /nKings XI Punjab,Kings XI Punjab,field /nMumbai Indians,Sunrisers Hyderabad,bat /nPune Warriors,Kolkata Knight Riders,field /nChennai Super Kings,Chennai Super Kings,bat /nMumbai Indians,Rajasthan Royals,field /nKings XI Punjab,Kings XI Punjab,field /nSunrisers Hyderabad,Sunrisers Hyderabad,bat /nKings XI Punjab,Mumbai Indians,field /nPune Warriors,Pune Warriors,bat /nRoyal Challengers Bangalore,Chennai Super Kings,field /nSunrisers Hyderabad,Kolkata Knight Riders,bat /nChennai Super Kings,Chennai Super Kings,bat /nRajasthan Royals,Sunrisers Hyderabad,bat /nMumbai Indians,Rajasthan Royals,bat /nMumbai Indians,Mumbai Indians,bat /nKolkata Knight Riders,Kolkata Knight Riders,bat /nRoyal Challengers Bangalore,Royal Challengers Bangalore,field /nKings XI Punjab,Chennai Super Kings,bat /nRajasthan Royals,Rajasthan Royals,field /nRoyal Challengers Bangalore,Royal Challengers Bangalore,field /nDelhi Daredevils,Kolkata Knight Riders,bat /nKings XI Punjab,Kings XI Punjab,field /nChennai Super Kings,Chennai Super Kings,bat /nKings XI Punjab,Sunrisers Hyderabad,field /nChennai Super Kings,Rajasthan Royals,field /nKolkata Knight Riders,Royal Challengers Bangalore,field /nSunrisers Hyderabad,Sunrisers Hyderabad,bat /nChennai Super Kings,Mumbai Indians,bat /nRajasthan Royals,Rajasthan Royals,field /nKings XI Punjab,Kolkata Knight Riders,field /nDelhi Daredevils,Mumbai Indians,bat /nChennai Super Kings,Sunrisers Hyderabad,bat /nKings XI Punjab,Kings XI Punjab,field /nRajasthan Royals,Rajasthan Royals,bat /nSunrisers Hyderabad,Mumbai Indians,field /nChennai Super Kings,Chennai Super Kings,bat /nMumbai Indians,Kings XI Punjab,bat /nRajasthan Royals,Rajasthan Royals,field /nRoyal Challengers Bangalore,Royal Challengers Bangalore,field /nRajasthan Royals,Kolkata Knight Riders,field /nChennai Super Kings,Chennai Super Kings,field /nMumbai Indians,Royal Challengers Bangalore,field /nKolkata Knight Riders,Delhi Daredevils,bat /nKings XI Punjab,Chennai Super Kings,field /nSunrisers Hyderabad,Rajasthan Royals,field /nKings XI Punjab,Royal Challengers Bangalore,field /nSunrisers Hyderabad,Sunrisers Hyderabad,field /nChennai Super Kings,Chennai Super Kings,field /nKolkata Knight Riders,Kolkata Knight Riders,field /nRajasthan Royals,Royal Challengers Bangalore,bat /nMumbai Indians,Sunrisers Hyderabad,bat /nChennai Super Kings,Rajasthan Royals,bat /nRoyal Challengers Bangalore,Delhi Daredevils,field /nKings XI Punjab,Kings XI Punjab,field /nKolkata Knight Riders,Kolkata Knight Riders,field /nRajasthan Royals,Delhi Daredevils,field /nRoyal Challengers Bangalore,Chennai Super Kings,bat /nKolkata Knight Riders,Sunrisers Hyderabad,bat /nMumbai Indians,Mumbai Indians,bat /nKings XI Punjab,Kings XI Punjab,field /nSunrisers Hyderabad,Royal Challengers Bangalore,bat /nKolkata Knight Riders,Kolkata Knight Riders,field /nMumbai Indians,Mumbai Indians,field /nKolkata Knight Riders,Royal Challengers Bangalore,field /nSunrisers Hyderabad,Sunrisers Hyderabad,field /nMumbai Indians,Delhi Daredevils,field /nKings XI Punjab,Rajasthan Royals,field /nChennai Super Kings,Chennai Super Kings,field /nKolkata Knight Riders,Kolkata Knight Riders,field /nKings XI Punjab,Kings XI Punjab,field /nMumbai Indians,Mumbai Indians,field /nKolkata Knight Riders,Kings XI Punjab,field /nChennai Super Kings,Chennai Super Kings,field /nKings XI Punjab,Chennai Super Kings,field /nKolkata Knight Riders,Kolkata Knight Riders,field /nKolkata Knight Riders,Kolkata Knight Riders,field /nChennai Super Kings,Delhi Daredevils,field /nRajasthan Royals,Kings XI Punjab,field /nChennai Super Kings,Chennai Super Kings,bat /nRoyal Challengers Bangalore,Royal Challengers Bangalore,field /nRajasthan Royals,Rajasthan Royals,field /nKings XI Punjab,Mumbai Indians,field /nSunrisers Hyderabad,Sunrisers Hyderabad,field /nRajasthan Royals,Mumbai Indians,bat /nKolkata Knight Riders,Kolkata Knight Riders,field /nDelhi Daredevils,Kings XI Punjab,bat /nRajasthan Royals,Rajasthan Royals,field /nChennai Super Kings,Mumbai Indians,bat /nDelhi Daredevils,Delhi Daredevils,bat /nKolkata Knight Riders,Kolkata Knight Riders,field /nRajasthan Royals,Chennai Super Kings,bat /nMumbai Indians,Royal Challengers Bangalore,field /nKolkata Knight Riders,Kolkata Knight Riders,field /nKings XI Punjab,Kings XI Punjab,field /nSunrisers Hyderabad,Kolkata Knight Riders,field /nChennai Super Kings,Royal Challengers Bangalore,field /nDelhi Daredevils,Mumbai Indians,field /nRoyal Challengers Bangalore,Royal Challengers Bangalore,field /nMumbai Indians,Mumbai Indians,bat /nChennai Super Kings,Chennai Super Kings,bat /nRoyal Challengers Bangalore,Royal Challengers Bangalore,field /nSunrisers Hyderabad,Kings XI Punjab,field /nKolkata Knight Riders,Kolkata Knight Riders,bat /nChennai Super Kings,Kolkata Knight Riders,field /nDelhi Daredevils,Delhi Daredevils,field /nMumbai Indians,Rajasthan Royals,field /nRoyal Challengers Bangalore,Royal Challengers Bangalore,field /nSunrisers Hyderabad,Chennai Super Kings,field /nMumbai Indians,Mumbai Indians,bat /nRajasthan Royals,Delhi Daredevils,field /nChennai Super Kings,Chennai Super Kings,bat /nKolkata Knight Riders,Sunrisers Hyderabad,field /nMumbai Indians,Delhi Daredevils,bat /nRoyal Challengers Bangalore,Kings XI Punjab,field /nSunrisers Hyderabad,Rajasthan Royals,field /nMumbai Indians,Chennai Super Kings,bat /nKolkata Knight Riders,Kings XI Punjab,bat /nSunrisers Hyderabad,Sunrisers Hyderabad,bat /nRoyal Challengers Bangalore,Royal Challengers Bangalore,bat /nChennai Super Kings,Chennai Super Kings,bat /nSunrisers Hyderabad,Sunrisers Hyderabad,bat /nDelhi Daredevils,Chennai Super Kings,bat /nKings XI Punjab,Royal Challengers Bangalore,field /nMumbai Indians,Kolkata Knight Riders,field /nRoyal Challengers Bangalore,Sunrisers Hyderabad,bat /nChennai Super Kings,Kings XI Punjab,bat /nRajasthan Royals,Rajasthan Royals,bat /nMumbai Indians,Sunrisers Hyderabad,bat /nMumbai Indians,Mumbai Indians,bat /nRoyal Challengers Bangalore,Royal Challengers Bangalore,bat /nChennai Super Kings,Chennai Super Kings,field /nMumbai Indians,Chennai Super Kings,field /nRising Pune Supergiants,Mumbai Indians,bat /nKolkata Knight Riders,Kolkata Knight Riders,field /nGujarat Lions,Gujarat Lions,field /nRoyal Challengers Bangalore,Sunrisers Hyderabad,field /nMumbai Indians,Mumbai Indians,field /nGujarat Lions,Rising Pune Supergiants,bat /nDelhi Daredevils,Delhi Daredevils,field /nKolkata Knight Riders,Sunrisers Hyderabad,bat /nGujarat Lions,Gujarat Lions,field /nKings XI Punjab,Rising Pune Supergiants,bat /nDelhi Daredevils,Delhi Daredevils,field /nSunrisers Hyderabad,Sunrisers Hyderabad,field /nKolkata Knight Riders,Kolkata Knight Riders,field /nMumbai Indians,Mumbai Indians,field /nSunrisers Hyderabad,Sunrisers Hyderabad,field /nRoyal Challengers Bangalore,Rising Pune Supergiants,field /nDelhi Daredevils,Mumbai Indians,field /nSunrisers Hyderabad,Sunrisers Hyderabad,field /nGujarat Lions,Royal Challengers Bangalore,bat /nKolkata Knight Riders,Kolkata Knight Riders,field /nMumbai Indians,Kings XI Punjab,field /nRising Pune Supergiants,Rising Pune Supergiants,field /nGujarat Lions,Delhi Daredevils,field /nMumbai Indians,Mumbai Indians,field /nGujarat Lions,Gujarat Lions,field /nDelhi Daredevils,Kolkata Knight Riders,field /nSunrisers Hyderabad,Royal Challengers Bangalore,field /nKings XI Punjab,Gujarat Lions,field /nMumbai Indians,Mumbai Indians,field /nKolkata Knight Riders,Kolkata Knight Riders,field /nDelhi Daredevils,Delhi Daredevils,field /nKolkata Knight Riders,Kings XI Punjab,field /nRising Pune Supergiants,Rising Pune Supergiants,field /nSunrisers Hyderabad,Sunrisers Hyderabad,field /nRoyal Challengers Bangalore,Royal Challengers Bangalore,field /nKings XI Punjab,Delhi Daredevils,field /nSunrisers Hyderabad,Mumbai Indians,field /nGujarat Lions,Gujarat Lions,field /nRoyal Challengers Bangalore,Kings XI Punjab,field /nSunrisers Hyderabad,Sunrisers Hyderabad,bat /nMumbai Indians,Mumbai Indians,field /nDelhi Daredevils,Delhi Daredevils,field /nKings XI Punjab,Mumbai Indians,bat /nRoyal Challengers Bangalore,Gujarat Lions,field /nKolkata Knight Riders,Rising Pune Supergiants,bat /nSunrisers Hyderabad,Kings XI Punjab,bat /nMumbai Indians,Delhi Daredevils,field /nRoyal Challengers Bangalore,Royal Challengers Bangalore,field /nRising Pune Supergiants,Rising Pune Supergiants,field /nRoyal Challengers Bangalore,Kings XI Punjab,field /nGujarat Lions,Gujarat Lions,field /nDelhi Daredevils,Delhi Daredevils,field /nRising Pune Supergiants,Kings XI Punjab,bat /nGujarat Lions,Gujarat Lions,field /nKolkata Knight Riders,Sunrisers Hyderabad,field /nRoyal Challengers Bangalore,Royal Challengers Bangalore,field /nRoyal Challengers Bangalore,Royal Challengers Bangalore,field /nSunrisers Hyderabad,Kolkata Knight Riders,field /nSunrisers Hyderabad,Sunrisers Hyderabad,field /nSunrisers Hyderabad,Sunrisers Hyderabad,bat /nChennai Super Kings,Chennai Super Kings,field /nKings XI Punjab,Kings XI Punjab,field /nKolkata Knight Riders,Kolkata Knight Riders,field /nSunrisers Hyderabad,Sunrisers Hyderabad,field /nChennai Super Kings,Chennai Super Kings,field /nRajasthan Royals,Delhi Daredevils,field /nSunrisers Hyderabad,Sunrisers Hyderabad,field /nRoyal Challengers Bangalore,Royal Challengers Bangalore,field /nDelhi Daredevils,Delhi Daredevils,field /nSunrisers Hyderabad,Sunrisers Hyderabad,field /nRajasthan Royals,Royal Challengers Bangalore,field /nKings XI Punjab,Chennai Super Kings,field /nKolkata Knight Riders,Delhi Daredevils,field /nMumbai Indians,Royal Challengers Bangalore,field /nKolkata Knight Riders,Kolkata Knight Riders,field /nKings XI Punjab,Kings XI Punjab,bat /nChennai Super Kings,Rajasthan Royals,field /nKings XI Punjab,Kings XI Punjab,field /nRoyal Challengers Bangalore,Royal Challengers Bangalore,field /nChennai Super Kings,Sunrisers Hyderabad,field /nRajasthan Royals,Mumbai Indians,bat /nKings XI Punjab,Delhi Daredevils,field /nSunrisers Hyderabad,Mumbai Indians,field /nChennai Super Kings,Chennai Super Kings,field /nSunrisers Hyderabad,Kings XI Punjab,field /nDelhi Daredevils,Kolkata Knight Riders,field /nMumbai Indians,Mumbai Indians,field /nSunrisers Hyderabad,Sunrisers Hyderabad,bat /nKolkata Knight Riders,Kolkata Knight Riders,field /nChennai Super Kings,Delhi Daredevils,field /nRoyal Challengers Bangalore,Mumbai Indians,field /nDelhi Daredevils,Rajasthan Royals,field /nKolkata Knight Riders,Kolkata Knight Riders,field /nMumbai Indians,Mumbai Indians,field /nChennai Super Kings,Chennai Super Kings,field /nSunrisers Hyderabad,Delhi Daredevils,bat /nMumbai Indians,Kolkata Knight Riders,field /nKings XI Punjab,Kings XI Punjab,field /nSunrisers Hyderabad,Royal Challengers Bangalore,field /nRajasthan Royals,Rajasthan Royals,bat /nMumbai Indians,Kolkata Knight Riders,field /nSunrisers Hyderabad,Delhi Daredevils,bat /nRajasthan Royals,Chennai Super Kings,bat /nKolkata Knight Riders,Kings XI Punjab,field /nRoyal Challengers Bangalore,Royal Challengers Bangalore,field /nChennai Super Kings,Chennai Super Kings,field /nRajasthan Royals,Rajasthan Royals,field /nRoyal Challengers Bangalore,Royal Challengers Bangalore,field /nKolkata Knight Riders,Kolkata Knight Riders,field /nMumbai Indians,Kings XI Punjab,field /nRoyal Challengers Bangalore,Sunrisers Hyderabad,field /nDelhi Daredevils,Chennai Super Kings,field /nRajasthan Royals,Rajasthan Royals,bat /nKolkata Knight Riders,Sunrisers Hyderabad,bat /nDelhi Daredevils,Delhi Daredevils,bat /nChennai Super Kings,Chennai Super Kings,field /nChennai Super Kings,Chennai Super Kings,field /nKolkata Knight Riders,Rajasthan Royals,field /nSunrisers Hyderabad,Kolkata Knight Riders,field /nChennai Super Kings,Chennai Super Kings,field /nChennai Super Kings,Chennai Super Kings,field /nKolkata Knight Riders,Kolkata Knight Riders,field /nDelhi Capitals,Mumbai Indians,field /nKings XI Punjab,Rajasthan Royals,field /nChennai Super Kings,Delhi Capitals,bat /nKolkata Knight Riders,Kings XI Punjab,field /nMumbai Indians,Royal Challengers Bangalore,field /nSunrisers Hyderabad,Rajasthan Royals,bat /nKings XI Punjab,Kings XI Punjab,field /nDelhi Capitals,Delhi Capitals,field /nSunrisers Hyderabad,Royal Challengers Bangalore,field /nChennai Super Kings,Rajasthan Royals,field /nKings XI Punjab,Delhi Capitals,field /nRajasthan Royals,Rajasthan Royals,field /nMumbai Indians,Chennai Super Kings,field /nSunrisers Hyderabad,Sunrisers Hyderabad,field /nKolkata Knight Riders,Kolkata Knight Riders,field /nChennai Super Kings,Chennai Super Kings,bat /nMumbai Indians,Sunrisers Hyderabad,field /nDelhi Capitals,Delhi Capitals,field /nKolkata Knight Riders,Kolkata Knight Riders,field /nKings XI Punjab,Kings XI Punjab,field /nChennai Super Kings,Chennai Super Kings,field /nMumbai Indians,Mumbai Indians,field /nChennai Super Kings,Chennai Super Kings,field /nDelhi Capitals,Delhi Capitals,field /nRajasthan Royals,Rajasthan Royals,field /nRoyal Challengers Bangalore,Royal Challengers Bangalore,field /nChennai Super Kings,Chennai Super Kings,field /nDelhi Capitals,Sunrisers Hyderabad,field /nMumbai Indians,Mumbai Indians,field /nKings XI Punjab,Rajasthan Royals,field /nSunrisers Hyderabad,Chennai Super Kings,bat /nMumbai Indians,Mumbai Indians,bat /nRoyal Challengers Bangalore,Kolkata Knight Riders,field /nRajasthan Royals,Rajasthan Royals,field /nDelhi Capitals,Delhi Capitals,field /nSunrisers Hyderabad,Sunrisers Hyderabad,field /nRoyal Challengers Bangalore,Chennai Super Kings,field /nDelhi Capitals,Delhi Capitals,field /nChennai Super Kings,Chennai Super Kings,field /nRoyal Challengers Bangalore,Kings XI Punjab,field /nRajasthan Royals,Rajasthan Royals,field /nMumbai Indians,Chennai Super Kings,field /nRajasthan Royals,Rajasthan Royals,field /nDelhi Capitals,Delhi Capitals,bat /nKolkata Knight Riders,Mumbai Indians,field /nSunrisers Hyderabad,Kings XI Punjab,field /nChennai Super Kings,Delhi Capitals,field /nMumbai Indians,Mumbai Indians,bat /nKolkata Knight Riders,Kolkata Knight Riders,field /nDelhi Capitals,Rajasthan Royals,bat /nRoyal Challengers Bangalore,Royal Challengers Bangalore,field /nKings XI Punjab,Kings XI Punjab,field /nMumbai Indians,Mumbai Indians,field /nMumbai Indians,Chennai Super Kings,bat /nDelhi Capitals,Delhi Capitals,field /nChennai Super Kings,Chennai Super Kings,field /nMumbai Indians,Mumbai Indians,bat /n"
          ],
          "name": "stdout"
        }
      ]
    },
    {
      "cell_type": "code",
      "metadata": {
        "colab": {
          "base_uri": "https://localhost:8080/",
          "height": 830
        },
        "id": "aPG6uOE2dSSH",
        "outputId": "3d25d5c2-b258-417c-d0c0-f4f622a2d4e6"
      },
      "source": [
        "match"
      ],
      "execution_count": 436,
      "outputs": [
        {
          "output_type": "execute_result",
          "data": {
            "text/html": [
              "<div>\n",
              "<style scoped>\n",
              "    .dataframe tbody tr th:only-of-type {\n",
              "        vertical-align: middle;\n",
              "    }\n",
              "\n",
              "    .dataframe tbody tr th {\n",
              "        vertical-align: top;\n",
              "    }\n",
              "\n",
              "    .dataframe thead th {\n",
              "        text-align: right;\n",
              "    }\n",
              "</style>\n",
              "<table border=\"1\" class=\"dataframe\">\n",
              "  <thead>\n",
              "    <tr style=\"text-align: right;\">\n",
              "      <th></th>\n",
              "      <th>id</th>\n",
              "      <th>Season</th>\n",
              "      <th>city</th>\n",
              "      <th>date</th>\n",
              "      <th>team1</th>\n",
              "      <th>team2</th>\n",
              "      <th>toss_winner</th>\n",
              "      <th>toss_decision</th>\n",
              "      <th>result</th>\n",
              "      <th>dl_applied</th>\n",
              "      <th>winner</th>\n",
              "      <th>win_by_runs</th>\n",
              "      <th>win_by_wickets</th>\n",
              "      <th>player_of_match</th>\n",
              "      <th>venue</th>\n",
              "      <th>umpire1</th>\n",
              "      <th>umpire2</th>\n",
              "      <th>umpire3</th>\n",
              "      <th>innings_winner</th>\n",
              "    </tr>\n",
              "  </thead>\n",
              "  <tbody>\n",
              "    <tr>\n",
              "      <th>0</th>\n",
              "      <td>1</td>\n",
              "      <td>IPL-2017</td>\n",
              "      <td>Hyderabad</td>\n",
              "      <td>05-04-2017</td>\n",
              "      <td>Sunrisers Hyderabad</td>\n",
              "      <td>Royal Challengers Bangalore</td>\n",
              "      <td>Royal Challengers Bangalore</td>\n",
              "      <td>field</td>\n",
              "      <td>normal</td>\n",
              "      <td>0</td>\n",
              "      <td>Sunrisers Hyderabad</td>\n",
              "      <td>35</td>\n",
              "      <td>0</td>\n",
              "      <td>Yuvraj Singh</td>\n",
              "      <td>Rajiv Gandhi International Stadium, Uppal</td>\n",
              "      <td>AY Dandekar</td>\n",
              "      <td>NJ Llong</td>\n",
              "      <td>NaN</td>\n",
              "      <td>1</td>\n",
              "    </tr>\n",
              "    <tr>\n",
              "      <th>1</th>\n",
              "      <td>2</td>\n",
              "      <td>IPL-2017</td>\n",
              "      <td>Pune</td>\n",
              "      <td>06-04-2017</td>\n",
              "      <td>Mumbai Indians</td>\n",
              "      <td>Rising Pune Supergiant</td>\n",
              "      <td>Rising Pune Supergiant</td>\n",
              "      <td>field</td>\n",
              "      <td>normal</td>\n",
              "      <td>0</td>\n",
              "      <td>Rising Pune Supergiant</td>\n",
              "      <td>0</td>\n",
              "      <td>7</td>\n",
              "      <td>SPD Smith</td>\n",
              "      <td>Maharashtra Cricket Association Stadium</td>\n",
              "      <td>A Nand Kishore</td>\n",
              "      <td>S Ravi</td>\n",
              "      <td>NaN</td>\n",
              "      <td>2</td>\n",
              "    </tr>\n",
              "    <tr>\n",
              "      <th>2</th>\n",
              "      <td>3</td>\n",
              "      <td>IPL-2017</td>\n",
              "      <td>Rajkot</td>\n",
              "      <td>07-04-2017</td>\n",
              "      <td>Gujarat Lions</td>\n",
              "      <td>Kolkata Knight Riders</td>\n",
              "      <td>Kolkata Knight Riders</td>\n",
              "      <td>field</td>\n",
              "      <td>normal</td>\n",
              "      <td>0</td>\n",
              "      <td>Kolkata Knight Riders</td>\n",
              "      <td>0</td>\n",
              "      <td>10</td>\n",
              "      <td>CA Lynn</td>\n",
              "      <td>Saurashtra Cricket Association Stadium</td>\n",
              "      <td>Nitin Menon</td>\n",
              "      <td>CK Nandan</td>\n",
              "      <td>NaN</td>\n",
              "      <td>2</td>\n",
              "    </tr>\n",
              "    <tr>\n",
              "      <th>3</th>\n",
              "      <td>4</td>\n",
              "      <td>IPL-2017</td>\n",
              "      <td>Indore</td>\n",
              "      <td>08-04-2017</td>\n",
              "      <td>Rising Pune Supergiant</td>\n",
              "      <td>Kings XI Punjab</td>\n",
              "      <td>Kings XI Punjab</td>\n",
              "      <td>field</td>\n",
              "      <td>normal</td>\n",
              "      <td>0</td>\n",
              "      <td>Kings XI Punjab</td>\n",
              "      <td>0</td>\n",
              "      <td>6</td>\n",
              "      <td>GJ Maxwell</td>\n",
              "      <td>Holkar Cricket Stadium</td>\n",
              "      <td>AK Chaudhary</td>\n",
              "      <td>C Shamshuddin</td>\n",
              "      <td>NaN</td>\n",
              "      <td>2</td>\n",
              "    </tr>\n",
              "    <tr>\n",
              "      <th>4</th>\n",
              "      <td>5</td>\n",
              "      <td>IPL-2017</td>\n",
              "      <td>Bangalore</td>\n",
              "      <td>08-04-2017</td>\n",
              "      <td>Royal Challengers Bangalore</td>\n",
              "      <td>Delhi Daredevils</td>\n",
              "      <td>Royal Challengers Bangalore</td>\n",
              "      <td>bat</td>\n",
              "      <td>normal</td>\n",
              "      <td>0</td>\n",
              "      <td>Royal Challengers Bangalore</td>\n",
              "      <td>15</td>\n",
              "      <td>0</td>\n",
              "      <td>KM Jadhav</td>\n",
              "      <td>M Chinnaswamy Stadium</td>\n",
              "      <td>NaN</td>\n",
              "      <td>NaN</td>\n",
              "      <td>NaN</td>\n",
              "      <td>1</td>\n",
              "    </tr>\n",
              "    <tr>\n",
              "      <th>...</th>\n",
              "      <td>...</td>\n",
              "      <td>...</td>\n",
              "      <td>...</td>\n",
              "      <td>...</td>\n",
              "      <td>...</td>\n",
              "      <td>...</td>\n",
              "      <td>...</td>\n",
              "      <td>...</td>\n",
              "      <td>...</td>\n",
              "      <td>...</td>\n",
              "      <td>...</td>\n",
              "      <td>...</td>\n",
              "      <td>...</td>\n",
              "      <td>...</td>\n",
              "      <td>...</td>\n",
              "      <td>...</td>\n",
              "      <td>...</td>\n",
              "      <td>...</td>\n",
              "      <td>...</td>\n",
              "    </tr>\n",
              "    <tr>\n",
              "      <th>751</th>\n",
              "      <td>11347</td>\n",
              "      <td>IPL-2019</td>\n",
              "      <td>Mumbai</td>\n",
              "      <td>05-05-2019</td>\n",
              "      <td>Kolkata Knight Riders</td>\n",
              "      <td>Mumbai Indians</td>\n",
              "      <td>Mumbai Indians</td>\n",
              "      <td>field</td>\n",
              "      <td>normal</td>\n",
              "      <td>0</td>\n",
              "      <td>Mumbai Indians</td>\n",
              "      <td>0</td>\n",
              "      <td>9</td>\n",
              "      <td>HH Pandya</td>\n",
              "      <td>Wankhede Stadium</td>\n",
              "      <td>Nanda Kishore</td>\n",
              "      <td>O Nandan</td>\n",
              "      <td>S Ravi</td>\n",
              "      <td>2</td>\n",
              "    </tr>\n",
              "    <tr>\n",
              "      <th>752</th>\n",
              "      <td>11412</td>\n",
              "      <td>IPL-2019</td>\n",
              "      <td>Chennai</td>\n",
              "      <td>07-05-2019</td>\n",
              "      <td>Chennai Super Kings</td>\n",
              "      <td>Mumbai Indians</td>\n",
              "      <td>Chennai Super Kings</td>\n",
              "      <td>bat</td>\n",
              "      <td>normal</td>\n",
              "      <td>0</td>\n",
              "      <td>Mumbai Indians</td>\n",
              "      <td>0</td>\n",
              "      <td>6</td>\n",
              "      <td>AS Yadav</td>\n",
              "      <td>M. A. Chidambaram Stadium</td>\n",
              "      <td>Nigel Llong</td>\n",
              "      <td>Nitin Menon</td>\n",
              "      <td>Ian Gould</td>\n",
              "      <td>2</td>\n",
              "    </tr>\n",
              "    <tr>\n",
              "      <th>753</th>\n",
              "      <td>11413</td>\n",
              "      <td>IPL-2019</td>\n",
              "      <td>Visakhapatnam</td>\n",
              "      <td>08-05-2019</td>\n",
              "      <td>Sunrisers Hyderabad</td>\n",
              "      <td>Delhi Capitals</td>\n",
              "      <td>Delhi Capitals</td>\n",
              "      <td>field</td>\n",
              "      <td>normal</td>\n",
              "      <td>0</td>\n",
              "      <td>Delhi Capitals</td>\n",
              "      <td>0</td>\n",
              "      <td>2</td>\n",
              "      <td>RR Pant</td>\n",
              "      <td>ACA-VDCA Stadium</td>\n",
              "      <td>NaN</td>\n",
              "      <td>NaN</td>\n",
              "      <td>NaN</td>\n",
              "      <td>2</td>\n",
              "    </tr>\n",
              "    <tr>\n",
              "      <th>754</th>\n",
              "      <td>11414</td>\n",
              "      <td>IPL-2019</td>\n",
              "      <td>Visakhapatnam</td>\n",
              "      <td>10-05-2019</td>\n",
              "      <td>Delhi Capitals</td>\n",
              "      <td>Chennai Super Kings</td>\n",
              "      <td>Chennai Super Kings</td>\n",
              "      <td>field</td>\n",
              "      <td>normal</td>\n",
              "      <td>0</td>\n",
              "      <td>Chennai Super Kings</td>\n",
              "      <td>0</td>\n",
              "      <td>6</td>\n",
              "      <td>F du Plessis</td>\n",
              "      <td>ACA-VDCA Stadium</td>\n",
              "      <td>Sundaram Ravi</td>\n",
              "      <td>Bruce Oxenford</td>\n",
              "      <td>Chettithody Shamshuddin</td>\n",
              "      <td>2</td>\n",
              "    </tr>\n",
              "    <tr>\n",
              "      <th>755</th>\n",
              "      <td>11415</td>\n",
              "      <td>IPL-2019</td>\n",
              "      <td>Hyderabad</td>\n",
              "      <td>12-05-2019</td>\n",
              "      <td>Mumbai Indians</td>\n",
              "      <td>Chennai Super Kings</td>\n",
              "      <td>Mumbai Indians</td>\n",
              "      <td>bat</td>\n",
              "      <td>normal</td>\n",
              "      <td>0</td>\n",
              "      <td>Mumbai Indians</td>\n",
              "      <td>1</td>\n",
              "      <td>0</td>\n",
              "      <td>JJ Bumrah</td>\n",
              "      <td>Rajiv Gandhi Intl. Cricket Stadium</td>\n",
              "      <td>Nitin Menon</td>\n",
              "      <td>Ian Gould</td>\n",
              "      <td>Nigel Llong</td>\n",
              "      <td>1</td>\n",
              "    </tr>\n",
              "  </tbody>\n",
              "</table>\n",
              "<p>752 rows × 19 columns</p>\n",
              "</div>"
            ],
            "text/plain": [
              "        id    Season  ...                  umpire3 innings_winner\n",
              "0        1  IPL-2017  ...                      NaN              1\n",
              "1        2  IPL-2017  ...                      NaN              2\n",
              "2        3  IPL-2017  ...                      NaN              2\n",
              "3        4  IPL-2017  ...                      NaN              2\n",
              "4        5  IPL-2017  ...                      NaN              1\n",
              "..     ...       ...  ...                      ...            ...\n",
              "751  11347  IPL-2019  ...                   S Ravi              2\n",
              "752  11412  IPL-2019  ...                Ian Gould              2\n",
              "753  11413  IPL-2019  ...                      NaN              2\n",
              "754  11414  IPL-2019  ...  Chettithody Shamshuddin              2\n",
              "755  11415  IPL-2019  ...              Nigel Llong              1\n",
              "\n",
              "[752 rows x 19 columns]"
            ]
          },
          "metadata": {
            "tags": []
          },
          "execution_count": 436
        }
      ]
    },
    {
      "cell_type": "code",
      "metadata": {
        "id": "iRszgAEq3Xqm"
      },
      "source": [
        ""
      ],
      "execution_count": 436,
      "outputs": []
    },
    {
      "cell_type": "code",
      "metadata": {
        "id": "UqCI5Ct245xI"
      },
      "source": [
        "inning_wise_extra_runs=pd.DataFrame(deliveries.groupby([\"match_id\",\"inning\"]).agg({\"extra_runs\":\"sum\"}))\n"
      ],
      "execution_count": 437,
      "outputs": []
    },
    {
      "cell_type": "code",
      "metadata": {
        "colab": {
          "base_uri": "https://localhost:8080/"
        },
        "id": "zYxbEf-T7D_q",
        "outputId": "1051bcaf-c7af-4440-aaaf-e7b508e4b1bb"
      },
      "source": [
        "inning_wise_extra_runs.shape"
      ],
      "execution_count": 438,
      "outputs": [
        {
          "output_type": "execute_result",
          "data": {
            "text/plain": [
              "(1522, 1)"
            ]
          },
          "metadata": {
            "tags": []
          },
          "execution_count": 438
        }
      ]
    },
    {
      "cell_type": "code",
      "metadata": {
        "id": "h2PsP63T7qZD"
      },
      "source": [
        "inning_wise_extra_runs=inning_wise_extra_runs.reset_index()"
      ],
      "execution_count": 439,
      "outputs": []
    },
    {
      "cell_type": "code",
      "metadata": {
        "id": "Gb6EOr6O8ect"
      },
      "source": [
        "inning_wise_extra_runs.drop(inning_wise_extra_runs[inning_wise_extra_runs[\"inning\"]>2].index,inplace=True )"
      ],
      "execution_count": 440,
      "outputs": []
    },
    {
      "cell_type": "code",
      "metadata": {
        "colab": {
          "base_uri": "https://localhost:8080/",
          "height": 419
        },
        "id": "UZCAAsedDZGI",
        "outputId": "1a530c63-ce0b-491e-a9e9-e2e113e28bef"
      },
      "source": [
        "inning_wise_extra_runs"
      ],
      "execution_count": 441,
      "outputs": [
        {
          "output_type": "execute_result",
          "data": {
            "text/html": [
              "<div>\n",
              "<style scoped>\n",
              "    .dataframe tbody tr th:only-of-type {\n",
              "        vertical-align: middle;\n",
              "    }\n",
              "\n",
              "    .dataframe tbody tr th {\n",
              "        vertical-align: top;\n",
              "    }\n",
              "\n",
              "    .dataframe thead th {\n",
              "        text-align: right;\n",
              "    }\n",
              "</style>\n",
              "<table border=\"1\" class=\"dataframe\">\n",
              "  <thead>\n",
              "    <tr style=\"text-align: right;\">\n",
              "      <th></th>\n",
              "      <th>match_id</th>\n",
              "      <th>inning</th>\n",
              "      <th>extra_runs</th>\n",
              "    </tr>\n",
              "  </thead>\n",
              "  <tbody>\n",
              "    <tr>\n",
              "      <th>0</th>\n",
              "      <td>1</td>\n",
              "      <td>1</td>\n",
              "      <td>7</td>\n",
              "    </tr>\n",
              "    <tr>\n",
              "      <th>1</th>\n",
              "      <td>1</td>\n",
              "      <td>2</td>\n",
              "      <td>6</td>\n",
              "    </tr>\n",
              "    <tr>\n",
              "      <th>2</th>\n",
              "      <td>2</td>\n",
              "      <td>1</td>\n",
              "      <td>8</td>\n",
              "    </tr>\n",
              "    <tr>\n",
              "      <th>3</th>\n",
              "      <td>2</td>\n",
              "      <td>2</td>\n",
              "      <td>4</td>\n",
              "    </tr>\n",
              "    <tr>\n",
              "      <th>4</th>\n",
              "      <td>3</td>\n",
              "      <td>1</td>\n",
              "      <td>4</td>\n",
              "    </tr>\n",
              "    <tr>\n",
              "      <th>...</th>\n",
              "      <td>...</td>\n",
              "      <td>...</td>\n",
              "      <td>...</td>\n",
              "    </tr>\n",
              "    <tr>\n",
              "      <th>1517</th>\n",
              "      <td>11413</td>\n",
              "      <td>2</td>\n",
              "      <td>5</td>\n",
              "    </tr>\n",
              "    <tr>\n",
              "      <th>1518</th>\n",
              "      <td>11414</td>\n",
              "      <td>1</td>\n",
              "      <td>8</td>\n",
              "    </tr>\n",
              "    <tr>\n",
              "      <th>1519</th>\n",
              "      <td>11414</td>\n",
              "      <td>2</td>\n",
              "      <td>11</td>\n",
              "    </tr>\n",
              "    <tr>\n",
              "      <th>1520</th>\n",
              "      <td>11415</td>\n",
              "      <td>1</td>\n",
              "      <td>3</td>\n",
              "    </tr>\n",
              "    <tr>\n",
              "      <th>1521</th>\n",
              "      <td>11415</td>\n",
              "      <td>2</td>\n",
              "      <td>9</td>\n",
              "    </tr>\n",
              "  </tbody>\n",
              "</table>\n",
              "<p>1504 rows × 3 columns</p>\n",
              "</div>"
            ],
            "text/plain": [
              "      match_id  inning  extra_runs\n",
              "0            1       1           7\n",
              "1            1       2           6\n",
              "2            2       1           8\n",
              "3            2       2           4\n",
              "4            3       1           4\n",
              "...        ...     ...         ...\n",
              "1517     11413       2           5\n",
              "1518     11414       1           8\n",
              "1519     11414       2          11\n",
              "1520     11415       1           3\n",
              "1521     11415       2           9\n",
              "\n",
              "[1504 rows x 3 columns]"
            ]
          },
          "metadata": {
            "tags": []
          },
          "execution_count": 441
        }
      ]
    },
    {
      "cell_type": "code",
      "metadata": {
        "id": "KSMPEXa6OQxF"
      },
      "source": [
        "def inning_wise_wins(x,temp=match):\n",
        " if int(match.loc[match[\"id\"]==x[\"match_id\"]][\"innings_winner\"])==x[\"inning\"]:\n",
        "     return \"wins\"\n",
        " else:\n",
        "     return \"Loose\"\n",
        "inning_wise_extra_runs[\"win_Loose\"]=inning_wise_extra_runs.apply(lambda x: inning_wise_wins(x),axis=1)"
      ],
      "execution_count": 442,
      "outputs": []
    },
    {
      "cell_type": "code",
      "metadata": {
        "colab": {
          "base_uri": "https://localhost:8080/",
          "height": 419
        },
        "id": "DzE_C7xXQsx6",
        "outputId": "11c1e77b-92a5-47bb-9a84-21458e69efad"
      },
      "source": [
        "inning_wise_extra_runs"
      ],
      "execution_count": 443,
      "outputs": [
        {
          "output_type": "execute_result",
          "data": {
            "text/html": [
              "<div>\n",
              "<style scoped>\n",
              "    .dataframe tbody tr th:only-of-type {\n",
              "        vertical-align: middle;\n",
              "    }\n",
              "\n",
              "    .dataframe tbody tr th {\n",
              "        vertical-align: top;\n",
              "    }\n",
              "\n",
              "    .dataframe thead th {\n",
              "        text-align: right;\n",
              "    }\n",
              "</style>\n",
              "<table border=\"1\" class=\"dataframe\">\n",
              "  <thead>\n",
              "    <tr style=\"text-align: right;\">\n",
              "      <th></th>\n",
              "      <th>match_id</th>\n",
              "      <th>inning</th>\n",
              "      <th>extra_runs</th>\n",
              "      <th>win_Loose</th>\n",
              "    </tr>\n",
              "  </thead>\n",
              "  <tbody>\n",
              "    <tr>\n",
              "      <th>0</th>\n",
              "      <td>1</td>\n",
              "      <td>1</td>\n",
              "      <td>7</td>\n",
              "      <td>wins</td>\n",
              "    </tr>\n",
              "    <tr>\n",
              "      <th>1</th>\n",
              "      <td>1</td>\n",
              "      <td>2</td>\n",
              "      <td>6</td>\n",
              "      <td>Loose</td>\n",
              "    </tr>\n",
              "    <tr>\n",
              "      <th>2</th>\n",
              "      <td>2</td>\n",
              "      <td>1</td>\n",
              "      <td>8</td>\n",
              "      <td>Loose</td>\n",
              "    </tr>\n",
              "    <tr>\n",
              "      <th>3</th>\n",
              "      <td>2</td>\n",
              "      <td>2</td>\n",
              "      <td>4</td>\n",
              "      <td>wins</td>\n",
              "    </tr>\n",
              "    <tr>\n",
              "      <th>4</th>\n",
              "      <td>3</td>\n",
              "      <td>1</td>\n",
              "      <td>4</td>\n",
              "      <td>Loose</td>\n",
              "    </tr>\n",
              "    <tr>\n",
              "      <th>...</th>\n",
              "      <td>...</td>\n",
              "      <td>...</td>\n",
              "      <td>...</td>\n",
              "      <td>...</td>\n",
              "    </tr>\n",
              "    <tr>\n",
              "      <th>1517</th>\n",
              "      <td>11413</td>\n",
              "      <td>2</td>\n",
              "      <td>5</td>\n",
              "      <td>wins</td>\n",
              "    </tr>\n",
              "    <tr>\n",
              "      <th>1518</th>\n",
              "      <td>11414</td>\n",
              "      <td>1</td>\n",
              "      <td>8</td>\n",
              "      <td>Loose</td>\n",
              "    </tr>\n",
              "    <tr>\n",
              "      <th>1519</th>\n",
              "      <td>11414</td>\n",
              "      <td>2</td>\n",
              "      <td>11</td>\n",
              "      <td>wins</td>\n",
              "    </tr>\n",
              "    <tr>\n",
              "      <th>1520</th>\n",
              "      <td>11415</td>\n",
              "      <td>1</td>\n",
              "      <td>3</td>\n",
              "      <td>wins</td>\n",
              "    </tr>\n",
              "    <tr>\n",
              "      <th>1521</th>\n",
              "      <td>11415</td>\n",
              "      <td>2</td>\n",
              "      <td>9</td>\n",
              "      <td>Loose</td>\n",
              "    </tr>\n",
              "  </tbody>\n",
              "</table>\n",
              "<p>1504 rows × 4 columns</p>\n",
              "</div>"
            ],
            "text/plain": [
              "      match_id  inning  extra_runs win_Loose\n",
              "0            1       1           7      wins\n",
              "1            1       2           6     Loose\n",
              "2            2       1           8     Loose\n",
              "3            2       2           4      wins\n",
              "4            3       1           4     Loose\n",
              "...        ...     ...         ...       ...\n",
              "1517     11413       2           5      wins\n",
              "1518     11414       1           8     Loose\n",
              "1519     11414       2          11      wins\n",
              "1520     11415       1           3      wins\n",
              "1521     11415       2           9     Loose\n",
              "\n",
              "[1504 rows x 4 columns]"
            ]
          },
          "metadata": {
            "tags": []
          },
          "execution_count": 443
        }
      ]
    },
    {
      "cell_type": "code",
      "metadata": {
        "colab": {
          "base_uri": "https://localhost:8080/",
          "height": 830
        },
        "id": "wFdBdjTkRIZl",
        "outputId": "53028091-f4f2-494b-f4d8-b35651183b1a"
      },
      "source": [
        "match"
      ],
      "execution_count": 444,
      "outputs": [
        {
          "output_type": "execute_result",
          "data": {
            "text/html": [
              "<div>\n",
              "<style scoped>\n",
              "    .dataframe tbody tr th:only-of-type {\n",
              "        vertical-align: middle;\n",
              "    }\n",
              "\n",
              "    .dataframe tbody tr th {\n",
              "        vertical-align: top;\n",
              "    }\n",
              "\n",
              "    .dataframe thead th {\n",
              "        text-align: right;\n",
              "    }\n",
              "</style>\n",
              "<table border=\"1\" class=\"dataframe\">\n",
              "  <thead>\n",
              "    <tr style=\"text-align: right;\">\n",
              "      <th></th>\n",
              "      <th>id</th>\n",
              "      <th>Season</th>\n",
              "      <th>city</th>\n",
              "      <th>date</th>\n",
              "      <th>team1</th>\n",
              "      <th>team2</th>\n",
              "      <th>toss_winner</th>\n",
              "      <th>toss_decision</th>\n",
              "      <th>result</th>\n",
              "      <th>dl_applied</th>\n",
              "      <th>winner</th>\n",
              "      <th>win_by_runs</th>\n",
              "      <th>win_by_wickets</th>\n",
              "      <th>player_of_match</th>\n",
              "      <th>venue</th>\n",
              "      <th>umpire1</th>\n",
              "      <th>umpire2</th>\n",
              "      <th>umpire3</th>\n",
              "      <th>innings_winner</th>\n",
              "    </tr>\n",
              "  </thead>\n",
              "  <tbody>\n",
              "    <tr>\n",
              "      <th>0</th>\n",
              "      <td>1</td>\n",
              "      <td>IPL-2017</td>\n",
              "      <td>Hyderabad</td>\n",
              "      <td>05-04-2017</td>\n",
              "      <td>Sunrisers Hyderabad</td>\n",
              "      <td>Royal Challengers Bangalore</td>\n",
              "      <td>Royal Challengers Bangalore</td>\n",
              "      <td>field</td>\n",
              "      <td>normal</td>\n",
              "      <td>0</td>\n",
              "      <td>Sunrisers Hyderabad</td>\n",
              "      <td>35</td>\n",
              "      <td>0</td>\n",
              "      <td>Yuvraj Singh</td>\n",
              "      <td>Rajiv Gandhi International Stadium, Uppal</td>\n",
              "      <td>AY Dandekar</td>\n",
              "      <td>NJ Llong</td>\n",
              "      <td>NaN</td>\n",
              "      <td>1</td>\n",
              "    </tr>\n",
              "    <tr>\n",
              "      <th>1</th>\n",
              "      <td>2</td>\n",
              "      <td>IPL-2017</td>\n",
              "      <td>Pune</td>\n",
              "      <td>06-04-2017</td>\n",
              "      <td>Mumbai Indians</td>\n",
              "      <td>Rising Pune Supergiant</td>\n",
              "      <td>Rising Pune Supergiant</td>\n",
              "      <td>field</td>\n",
              "      <td>normal</td>\n",
              "      <td>0</td>\n",
              "      <td>Rising Pune Supergiant</td>\n",
              "      <td>0</td>\n",
              "      <td>7</td>\n",
              "      <td>SPD Smith</td>\n",
              "      <td>Maharashtra Cricket Association Stadium</td>\n",
              "      <td>A Nand Kishore</td>\n",
              "      <td>S Ravi</td>\n",
              "      <td>NaN</td>\n",
              "      <td>2</td>\n",
              "    </tr>\n",
              "    <tr>\n",
              "      <th>2</th>\n",
              "      <td>3</td>\n",
              "      <td>IPL-2017</td>\n",
              "      <td>Rajkot</td>\n",
              "      <td>07-04-2017</td>\n",
              "      <td>Gujarat Lions</td>\n",
              "      <td>Kolkata Knight Riders</td>\n",
              "      <td>Kolkata Knight Riders</td>\n",
              "      <td>field</td>\n",
              "      <td>normal</td>\n",
              "      <td>0</td>\n",
              "      <td>Kolkata Knight Riders</td>\n",
              "      <td>0</td>\n",
              "      <td>10</td>\n",
              "      <td>CA Lynn</td>\n",
              "      <td>Saurashtra Cricket Association Stadium</td>\n",
              "      <td>Nitin Menon</td>\n",
              "      <td>CK Nandan</td>\n",
              "      <td>NaN</td>\n",
              "      <td>2</td>\n",
              "    </tr>\n",
              "    <tr>\n",
              "      <th>3</th>\n",
              "      <td>4</td>\n",
              "      <td>IPL-2017</td>\n",
              "      <td>Indore</td>\n",
              "      <td>08-04-2017</td>\n",
              "      <td>Rising Pune Supergiant</td>\n",
              "      <td>Kings XI Punjab</td>\n",
              "      <td>Kings XI Punjab</td>\n",
              "      <td>field</td>\n",
              "      <td>normal</td>\n",
              "      <td>0</td>\n",
              "      <td>Kings XI Punjab</td>\n",
              "      <td>0</td>\n",
              "      <td>6</td>\n",
              "      <td>GJ Maxwell</td>\n",
              "      <td>Holkar Cricket Stadium</td>\n",
              "      <td>AK Chaudhary</td>\n",
              "      <td>C Shamshuddin</td>\n",
              "      <td>NaN</td>\n",
              "      <td>2</td>\n",
              "    </tr>\n",
              "    <tr>\n",
              "      <th>4</th>\n",
              "      <td>5</td>\n",
              "      <td>IPL-2017</td>\n",
              "      <td>Bangalore</td>\n",
              "      <td>08-04-2017</td>\n",
              "      <td>Royal Challengers Bangalore</td>\n",
              "      <td>Delhi Daredevils</td>\n",
              "      <td>Royal Challengers Bangalore</td>\n",
              "      <td>bat</td>\n",
              "      <td>normal</td>\n",
              "      <td>0</td>\n",
              "      <td>Royal Challengers Bangalore</td>\n",
              "      <td>15</td>\n",
              "      <td>0</td>\n",
              "      <td>KM Jadhav</td>\n",
              "      <td>M Chinnaswamy Stadium</td>\n",
              "      <td>NaN</td>\n",
              "      <td>NaN</td>\n",
              "      <td>NaN</td>\n",
              "      <td>1</td>\n",
              "    </tr>\n",
              "    <tr>\n",
              "      <th>...</th>\n",
              "      <td>...</td>\n",
              "      <td>...</td>\n",
              "      <td>...</td>\n",
              "      <td>...</td>\n",
              "      <td>...</td>\n",
              "      <td>...</td>\n",
              "      <td>...</td>\n",
              "      <td>...</td>\n",
              "      <td>...</td>\n",
              "      <td>...</td>\n",
              "      <td>...</td>\n",
              "      <td>...</td>\n",
              "      <td>...</td>\n",
              "      <td>...</td>\n",
              "      <td>...</td>\n",
              "      <td>...</td>\n",
              "      <td>...</td>\n",
              "      <td>...</td>\n",
              "      <td>...</td>\n",
              "    </tr>\n",
              "    <tr>\n",
              "      <th>751</th>\n",
              "      <td>11347</td>\n",
              "      <td>IPL-2019</td>\n",
              "      <td>Mumbai</td>\n",
              "      <td>05-05-2019</td>\n",
              "      <td>Kolkata Knight Riders</td>\n",
              "      <td>Mumbai Indians</td>\n",
              "      <td>Mumbai Indians</td>\n",
              "      <td>field</td>\n",
              "      <td>normal</td>\n",
              "      <td>0</td>\n",
              "      <td>Mumbai Indians</td>\n",
              "      <td>0</td>\n",
              "      <td>9</td>\n",
              "      <td>HH Pandya</td>\n",
              "      <td>Wankhede Stadium</td>\n",
              "      <td>Nanda Kishore</td>\n",
              "      <td>O Nandan</td>\n",
              "      <td>S Ravi</td>\n",
              "      <td>2</td>\n",
              "    </tr>\n",
              "    <tr>\n",
              "      <th>752</th>\n",
              "      <td>11412</td>\n",
              "      <td>IPL-2019</td>\n",
              "      <td>Chennai</td>\n",
              "      <td>07-05-2019</td>\n",
              "      <td>Chennai Super Kings</td>\n",
              "      <td>Mumbai Indians</td>\n",
              "      <td>Chennai Super Kings</td>\n",
              "      <td>bat</td>\n",
              "      <td>normal</td>\n",
              "      <td>0</td>\n",
              "      <td>Mumbai Indians</td>\n",
              "      <td>0</td>\n",
              "      <td>6</td>\n",
              "      <td>AS Yadav</td>\n",
              "      <td>M. A. Chidambaram Stadium</td>\n",
              "      <td>Nigel Llong</td>\n",
              "      <td>Nitin Menon</td>\n",
              "      <td>Ian Gould</td>\n",
              "      <td>2</td>\n",
              "    </tr>\n",
              "    <tr>\n",
              "      <th>753</th>\n",
              "      <td>11413</td>\n",
              "      <td>IPL-2019</td>\n",
              "      <td>Visakhapatnam</td>\n",
              "      <td>08-05-2019</td>\n",
              "      <td>Sunrisers Hyderabad</td>\n",
              "      <td>Delhi Capitals</td>\n",
              "      <td>Delhi Capitals</td>\n",
              "      <td>field</td>\n",
              "      <td>normal</td>\n",
              "      <td>0</td>\n",
              "      <td>Delhi Capitals</td>\n",
              "      <td>0</td>\n",
              "      <td>2</td>\n",
              "      <td>RR Pant</td>\n",
              "      <td>ACA-VDCA Stadium</td>\n",
              "      <td>NaN</td>\n",
              "      <td>NaN</td>\n",
              "      <td>NaN</td>\n",
              "      <td>2</td>\n",
              "    </tr>\n",
              "    <tr>\n",
              "      <th>754</th>\n",
              "      <td>11414</td>\n",
              "      <td>IPL-2019</td>\n",
              "      <td>Visakhapatnam</td>\n",
              "      <td>10-05-2019</td>\n",
              "      <td>Delhi Capitals</td>\n",
              "      <td>Chennai Super Kings</td>\n",
              "      <td>Chennai Super Kings</td>\n",
              "      <td>field</td>\n",
              "      <td>normal</td>\n",
              "      <td>0</td>\n",
              "      <td>Chennai Super Kings</td>\n",
              "      <td>0</td>\n",
              "      <td>6</td>\n",
              "      <td>F du Plessis</td>\n",
              "      <td>ACA-VDCA Stadium</td>\n",
              "      <td>Sundaram Ravi</td>\n",
              "      <td>Bruce Oxenford</td>\n",
              "      <td>Chettithody Shamshuddin</td>\n",
              "      <td>2</td>\n",
              "    </tr>\n",
              "    <tr>\n",
              "      <th>755</th>\n",
              "      <td>11415</td>\n",
              "      <td>IPL-2019</td>\n",
              "      <td>Hyderabad</td>\n",
              "      <td>12-05-2019</td>\n",
              "      <td>Mumbai Indians</td>\n",
              "      <td>Chennai Super Kings</td>\n",
              "      <td>Mumbai Indians</td>\n",
              "      <td>bat</td>\n",
              "      <td>normal</td>\n",
              "      <td>0</td>\n",
              "      <td>Mumbai Indians</td>\n",
              "      <td>1</td>\n",
              "      <td>0</td>\n",
              "      <td>JJ Bumrah</td>\n",
              "      <td>Rajiv Gandhi Intl. Cricket Stadium</td>\n",
              "      <td>Nitin Menon</td>\n",
              "      <td>Ian Gould</td>\n",
              "      <td>Nigel Llong</td>\n",
              "      <td>1</td>\n",
              "    </tr>\n",
              "  </tbody>\n",
              "</table>\n",
              "<p>752 rows × 19 columns</p>\n",
              "</div>"
            ],
            "text/plain": [
              "        id    Season  ...                  umpire3 innings_winner\n",
              "0        1  IPL-2017  ...                      NaN              1\n",
              "1        2  IPL-2017  ...                      NaN              2\n",
              "2        3  IPL-2017  ...                      NaN              2\n",
              "3        4  IPL-2017  ...                      NaN              2\n",
              "4        5  IPL-2017  ...                      NaN              1\n",
              "..     ...       ...  ...                      ...            ...\n",
              "751  11347  IPL-2019  ...                   S Ravi              2\n",
              "752  11412  IPL-2019  ...                Ian Gould              2\n",
              "753  11413  IPL-2019  ...                      NaN              2\n",
              "754  11414  IPL-2019  ...  Chettithody Shamshuddin              2\n",
              "755  11415  IPL-2019  ...              Nigel Llong              1\n",
              "\n",
              "[752 rows x 19 columns]"
            ]
          },
          "metadata": {
            "tags": []
          },
          "execution_count": 444
        }
      ]
    },
    {
      "cell_type": "code",
      "metadata": {
        "id": "p86l7u7UVaJY",
        "colab": {
          "base_uri": "https://localhost:8080/"
        },
        "outputId": "1057afa6-0e77-4bce-d3fb-278bd4cd62d9"
      },
      "source": [
        "Loose_Count=inning_wise_extra_runs[inning_wise_extra_runs[\"win_Loose\"]==\"Loose\"].shape[0]\n",
        "Loose_Count"
      ],
      "execution_count": 445,
      "outputs": [
        {
          "output_type": "execute_result",
          "data": {
            "text/plain": [
              "752"
            ]
          },
          "metadata": {
            "tags": []
          },
          "execution_count": 445
        }
      ]
    },
    {
      "cell_type": "code",
      "metadata": {
        "id": "cv_Icq9SbV2E",
        "colab": {
          "base_uri": "https://localhost:8080/"
        },
        "outputId": "52ddd6a6-c5db-40d9-9e1e-626cead1ae92"
      },
      "source": [
        "win_Count=inning_wise_extra_runs[inning_wise_extra_runs[\"win_Loose\"]==\"wins\"].shape[0]\n",
        "win_Count"
      ],
      "execution_count": 446,
      "outputs": [
        {
          "output_type": "execute_result",
          "data": {
            "text/plain": [
              "752"
            ]
          },
          "metadata": {
            "tags": []
          },
          "execution_count": 446
        }
      ]
    },
    {
      "cell_type": "code",
      "metadata": {
        "id": "7GTYFxfxc_Kl"
      },
      "source": [
        "total_match=inning_wise_extra_runs.shape[0]"
      ],
      "execution_count": 447,
      "outputs": []
    },
    {
      "cell_type": "code",
      "metadata": {
        "id": "k4v4tY_FcznQ",
        "colab": {
          "base_uri": "https://localhost:8080/"
        },
        "outputId": "01bdfba2-a4f6-48bd-acd5-902edff36e24"
      },
      "source": [
        "wins_percentage_based_on_batting_first=win_Count/total_match\n",
        "Loose_percentage_based_on_batting_first=Loose_Count/total_match\n",
        "print(Loose_percentage_based_on_batting_first)\n",
        "print(wins_percentage_based_on_batting_first)"
      ],
      "execution_count": 448,
      "outputs": [
        {
          "output_type": "stream",
          "text": [
            "0.5\n",
            "0.5\n"
          ],
          "name": "stdout"
        }
      ]
    },
    {
      "cell_type": "code",
      "metadata": {
        "id": "OsZ0s0P0dMv9",
        "colab": {
          "base_uri": "https://localhost:8080/",
          "height": 265
        },
        "outputId": "5388abc8-762a-4ebd-bed1-8adb65acd42b"
      },
      "source": [
        "plt.pie([wins_percentage_based_on_batting_first,Loose_percentage_based_on_batting_first])\n",
        "plt.legend([\"winning_percentage\",\"Loosing_percentage\"])"
      ],
      "execution_count": 449,
      "outputs": [
        {
          "output_type": "execute_result",
          "data": {
            "text/plain": [
              "<matplotlib.legend.Legend at 0x7f0be58ac310>"
            ]
          },
          "metadata": {
            "tags": []
          },
          "execution_count": 449
        },
        {
          "output_type": "display_data",
          "data": {
            "image/png": "[encoded data removed]",
            "text/plain": [
              "<Figure size 432x288 with 1 Axes>"
            ]
          },
          "metadata": {
            "tags": []
          }
        }
      ]
    },
    {
      "cell_type": "code",
      "metadata": {
        "id": "feIxy_ModlYd"
      },
      "source": [
        "inning_wise_extra_runs.reset_index(inplace=True)"
      ],
      "execution_count": 450,
      "outputs": []
    },
    {
      "cell_type": "code",
      "metadata": {
        "colab": {
          "base_uri": "https://localhost:8080/"
        },
        "id": "1rOwC8oPtRA8",
        "outputId": "5c765935-90db-4d34-b30c-1631a17eebfe"
      },
      "source": [
        "inning_wise_extra_runs.shape"
      ],
      "execution_count": 468,
      "outputs": [
        {
          "output_type": "execute_result",
          "data": {
            "text/plain": [
              "(1504, 5)"
            ]
          },
          "metadata": {
            "tags": []
          },
          "execution_count": 468
        }
      ]
    },
    {
      "cell_type": "code",
      "metadata": {
        "colab": {
          "base_uri": "https://localhost:8080/"
        },
        "id": "KuDTFjUnrbmU",
        "outputId": "0bf0149b-8aa5-4ad1-af5b-79861a341bd1"
      },
      "source": [
        "MoreXtrarunswins=0\n",
        "lessXtrarunsLoose=0\n",
        "independentxtraruns=0\n",
        "for i in range(0,inning_wise_extra_runs.shape[0],2):\n",
        "   if (inning_wise_extra_runs.iloc[i][\"extra_runs\"]>inning_wise_extra_runs.iloc[i+1][\"extra_runs\"]) and inning_wise_extra_runs.iloc[i][\"win_Loose\"]==\"wins\":\n",
        "     MoreXtrarunswins+=1\n",
        "   elif (inning_wise_extra_runs.iloc[i][\"extra_runs\"]<inning_wise_extra_runs.iloc[i+1][\"extra_runs\"]) and inning_wise_extra_runs.iloc[i+1][\"win_Loose\"]==\"wins\":\n",
        "     MoreXtrarunswins+=1\n",
        "   elif (inning_wise_extra_runs.iloc[i][\"extra_runs\"]>inning_wise_extra_runs.iloc[i+1][\"extra_runs\"]) and inning_wise_extra_runs.iloc[i][\"win_Loose\"]==\"Loose\":\n",
        "     lessXtrarunsLoose+=1\n",
        "   elif (inning_wise_extra_runs.iloc[i][\"extra_runs\"]<inning_wise_extra_runs.iloc[i+1][\"extra_runs\"]) and inning_wise_extra_runs.iloc[i+1][\"win_Loose\"]==\"Loose\":\n",
        "     lessXtrarunsLoose+=1\n",
        "   elif (inning_wise_extra_runs.iloc[i][\"extra_runs\"]==inning_wise_extra_runs.iloc[i+1][\"extra_runs\"]):\n",
        "      independentxtraruns+=1\n",
        "print(MoreXtrarunswins)\n",
        "print(lessXtrarunsLoose)\n",
        "print(independentxtraruns)\n",
        "   \n"
      ],
      "execution_count": 478,
      "outputs": [
        {
          "output_type": "stream",
          "text": [
            "353\n",
            "335\n",
            "64\n"
          ],
          "name": "stdout"
        }
      ]
    },
    {
      "cell_type": "code",
      "metadata": {
        "colab": {
          "base_uri": "https://localhost:8080/"
        },
        "id": "zy5s4va_sTvc",
        "outputId": "c97874c1-7ea0-433c-8c8b-192b105ce1d8"
      },
      "source": [
        "XtrarunsWinsPercentage=(MoreXtrarunswins/win_Count)*100\n",
        "XtrarunsWinsPercentage"
      ],
      "execution_count": 475,
      "outputs": [
        {
          "output_type": "execute_result",
          "data": {
            "text/plain": [
              "46.941489361702125"
            ]
          },
          "metadata": {
            "tags": []
          },
          "execution_count": 475
        }
      ]
    },
    {
      "cell_type": "code",
      "metadata": {
        "colab": {
          "base_uri": "https://localhost:8080/"
        },
        "id": "OOPF4yyJzPdO",
        "outputId": "b3fd0f8f-e912-4405-86f7-6e26574af181"
      },
      "source": [
        "XtrarunsLoosePercentage=(lessXtrarunsLoose/win_Count)*100\n",
        "XtrarunsLoosePercentage"
      ],
      "execution_count": 482,
      "outputs": [
        {
          "output_type": "execute_result",
          "data": {
            "text/plain": [
              "44.547872340425535"
            ]
          },
          "metadata": {
            "tags": []
          },
          "execution_count": 482
        }
      ]
    },
    {
      "cell_type": "code",
      "metadata": {
        "colab": {
          "base_uri": "https://localhost:8080/"
        },
        "id": "PwtJdv5pzmR0",
        "outputId": "626fae80-2244-453e-fea4-357a22d2a638"
      },
      "source": [
        "independentxtrarunspercentage=(independentxtraruns/win_Count)*100\n",
        "independentxtrarunspercentage"
      ],
      "execution_count": 483,
      "outputs": [
        {
          "output_type": "execute_result",
          "data": {
            "text/plain": [
              "8.51063829787234"
            ]
          },
          "metadata": {
            "tags": []
          },
          "execution_count": 483
        }
      ]
    },
    {
      "cell_type": "code",
      "metadata": {
        "colab": {
          "base_uri": "https://localhost:8080/",
          "height": 265
        },
        "id": "GIffoNlPz9BS",
        "outputId": "27c39f1a-a47d-46de-f5eb-b0ad204620c5"
      },
      "source": [
        "plt.pie([XtrarunsWinsPercentage,XtrarunsLoosePercentage,independentxtrarunspercentage])\n",
        "plt.legend([\"winning_percentage\",\"Loosing_percentage\"])"
      ],
      "execution_count": 484,
      "outputs": [
        {
          "output_type": "execute_result",
          "data": {
            "text/plain": [
              "<matplotlib.legend.Legend at 0x7f0be5746350>"
            ]
          },
          "metadata": {
            "tags": []
          },
          "execution_count": 484
        },
        {
          "output_type": "display_data",
          "data": {
            "image/png": "[encoded data removed]",
            "text/plain": [
              "<Figure size 432x288 with 1 Axes>"
            ]
          },
          "metadata": {
            "tags": []
          }
        }
      ]
    },
    {
      "cell_type": "code",
      "metadata": {
        "id": "NUu1UvR10RxP"
      },
      "source": [
        ""
      ],
      "execution_count": null,
      "outputs": []
    }
  ]
}