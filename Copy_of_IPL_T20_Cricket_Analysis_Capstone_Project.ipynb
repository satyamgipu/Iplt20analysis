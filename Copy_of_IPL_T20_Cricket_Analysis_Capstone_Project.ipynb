{
  "nbformat": 4,
  "nbformat_minor": 0,
  "metadata": {
    "kernelspec": {
      "display_name": "Python 3",
      "language": "python",
      "name": "python3"
    },
    "language_info": {
      "codemirror_mode": {
        "name": "ipython",
        "version": 3
      },
      "file_extension": ".py",
      "mimetype": "text/x-python",
      "name": "python",
      "nbconvert_exporter": "python",
      "pygments_lexer": "ipython3",
      "version": "3.6.6"
    },
    "colab": {
      "name": "Copy of IPL T20 Cricket Analysis - Capstone Project.ipynb",
      "provenance": [],
      "collapsed_sections": [],
      "include_colab_link": true
    }
  },
  "cells": [
    {
      "cell_type": "markdown",
      "metadata": {
        "id": "view-in-github",
        "colab_type": "text"
      },
      "source": [
        "<a href=\"https://colab.research.google.com/github/satyamgipu/Iplt20analysis/blob/master/Copy_of_IPL_T20_Cricket_Analysis_Capstone_Project.ipynb\" target=\"_parent\"><img src=\"https://colab.research.google.com/assets/colab-badge.svg\" alt=\"Open In Colab\"/></a>"
      ]
    },
    {
      "cell_type": "markdown",
      "metadata": {
        "id": "Y06xIdG26kRF"
      },
      "source": [
        "## <b> Indian Premier League(IPL) is a professional Twenty20 cricket league in India contested during March or April and May of every year by eight teams representing eight different cities in India. The league was founded by the Board of Control for Cricket in India(BCCI) in 2008. </b>\n",
        "\n",
        "## <b> Explore and analyze the data to discover results and statistics for different teams playing in IPL. </b>"
      ]
    },
    {
      "cell_type": "code",
      "metadata": {
        "id": "dByMsuzT8Tnw"
      },
      "source": [
        "from google.colab import drive\n",
        "import numpy as np\n",
        "import pandas as pd\n",
        "import matplotlib.pyplot as plt"
      ],
      "execution_count": 3,
      "outputs": []
    },
    {
      "cell_type": "code",
      "metadata": {
        "colab": {
          "base_uri": "https://localhost:8080/"
        },
        "id": "H9x0ZzAseBP9",
        "outputId": "1f8dd4e9-0be2-4a8b-aa33-b76a65247075"
      },
      "source": [
        "drive.mount(\"/content/drive\")"
      ],
      "execution_count": 4,
      "outputs": [
        {
          "output_type": "stream",
          "text": [
            "Mounted at /content/drive\n",
            "Drive already mounted at /content/drive; to attempt to forcibly remount, call drive.mount(\"/content/drive\", force_remount=True).\n"
          ],
          "name": "stdout"
        }
      ]
    },
    {
      "cell_type": "code",
      "metadata": {
        "id": "cRbvDMTyedxT"
      },
      "source": [
        "path=\"/content/drive/My Drive/\"\n",
        "teams=pd.read_csv(path+\"teams.csv\")\n",
        "match=pd.read_csv(path+\"matches.csv\")\n",
        "Players=pd.read_excel(path+\"Players.xlsx\")\n",
        "deliveries=pd.read_csv(path+\"deliveries.csv\")\n",
        "teamwise_home_and_away=pd.read_csv(path+\"teamwise_home_and_away.csv\")\n",
        "teams=pd.read_csv(path+\"teams.csv\")\n",
        "most_runs_average_strikerate=pd.read_csv(path+\"most_runs_average_strikerate.csv\")\n",
        "\n"
      ],
      "execution_count": 5,
      "outputs": []
    },
    {
      "cell_type": "markdown",
      "metadata": {
        "id": "ZLgfDD1Ik4xz"
      },
      "source": [
        "TOSS Vs winners"
      ]
    },
    {
      "cell_type": "code",
      "metadata": {
        "colab": {
          "base_uri": "https://localhost:8080/"
        },
        "id": "Gz30_B_cepY7",
        "outputId": "c38fbc39-8089-4381-8bc4-67f53153fe28"
      },
      "source": [
        "Players.info()"
      ],
      "execution_count": 6,
      "outputs": [
        {
          "output_type": "stream",
          "text": [
            "<class 'pandas.core.frame.DataFrame'>\n",
            "RangeIndex: 566 entries, 0 to 565\n",
            "Data columns (total 5 columns):\n",
            " #   Column         Non-Null Count  Dtype         \n",
            "---  ------         --------------  -----         \n",
            " 0   Player_Name    566 non-null    object        \n",
            " 1   DOB            471 non-null    datetime64[ns]\n",
            " 2   Batting_Hand   563 non-null    object        \n",
            " 3   Bowling_Skill  502 non-null    object        \n",
            " 4   Country        471 non-null    object        \n",
            "dtypes: datetime64[ns](1), object(4)\n",
            "memory usage: 22.2+ KB\n"
          ],
          "name": "stdout"
        }
      ]
    },
    {
      "cell_type": "code",
      "metadata": {
        "id": "BRqED1i-fzWO",
        "colab": {
          "base_uri": "https://localhost:8080/"
        },
        "outputId": "bb96c713-c6af-44d5-c88e-fc17833d99c6"
      },
      "source": [
        "teams.info()"
      ],
      "execution_count": 7,
      "outputs": [
        {
          "output_type": "stream",
          "text": [
            "<class 'pandas.core.frame.DataFrame'>\n",
            "RangeIndex: 15 entries, 0 to 14\n",
            "Data columns (total 1 columns):\n",
            " #   Column  Non-Null Count  Dtype \n",
            "---  ------  --------------  ----- \n",
            " 0   team1   15 non-null     object\n",
            "dtypes: object(1)\n",
            "memory usage: 248.0+ bytes\n"
          ],
          "name": "stdout"
        }
      ]
    },
    {
      "cell_type": "code",
      "metadata": {
        "colab": {
          "base_uri": "https://localhost:8080/",
          "height": 80
        },
        "id": "s6LRQedq4s7q",
        "outputId": "b36279d3-a557-41f7-e8cc-5d39efc01b28"
      },
      "source": [
        "most_runs_average_strikerate.head(1)"
      ],
      "execution_count": 8,
      "outputs": [
        {
          "output_type": "execute_result",
          "data": {
            "text/html": [
              "<div>\n",
              "<style scoped>\n",
              "    .dataframe tbody tr th:only-of-type {\n",
              "        vertical-align: middle;\n",
              "    }\n",
              "\n",
              "    .dataframe tbody tr th {\n",
              "        vertical-align: top;\n",
              "    }\n",
              "\n",
              "    .dataframe thead th {\n",
              "        text-align: right;\n",
              "    }\n",
              "</style>\n",
              "<table border=\"1\" class=\"dataframe\">\n",
              "  <thead>\n",
              "    <tr style=\"text-align: right;\">\n",
              "      <th></th>\n",
              "      <th>batsman</th>\n",
              "      <th>total_runs</th>\n",
              "      <th>out</th>\n",
              "      <th>numberofballs</th>\n",
              "      <th>average</th>\n",
              "      <th>strikerate</th>\n",
              "    </tr>\n",
              "  </thead>\n",
              "  <tbody>\n",
              "    <tr>\n",
              "      <th>0</th>\n",
              "      <td>V Kohli</td>\n",
              "      <td>5426</td>\n",
              "      <td>152</td>\n",
              "      <td>4111</td>\n",
              "      <td>35.697368</td>\n",
              "      <td>131.987351</td>\n",
              "    </tr>\n",
              "  </tbody>\n",
              "</table>\n",
              "</div>"
            ],
            "text/plain": [
              "   batsman  total_runs  out  numberofballs    average  strikerate\n",
              "0  V Kohli        5426  152           4111  35.697368  131.987351"
            ]
          },
          "metadata": {
            "tags": []
          },
          "execution_count": 8
        }
      ]
    },
    {
      "cell_type": "code",
      "metadata": {
        "colab": {
          "base_uri": "https://localhost:8080/",
          "height": 80
        },
        "id": "J1R7hZ7i8088",
        "outputId": "282f34fe-b9fe-4007-bad8-aeb6569a4097"
      },
      "source": [
        "teamwise_home_and_away.head(1)"
      ],
      "execution_count": 9,
      "outputs": [
        {
          "output_type": "execute_result",
          "data": {
            "text/html": [
              "<div>\n",
              "<style scoped>\n",
              "    .dataframe tbody tr th:only-of-type {\n",
              "        vertical-align: middle;\n",
              "    }\n",
              "\n",
              "    .dataframe tbody tr th {\n",
              "        vertical-align: top;\n",
              "    }\n",
              "\n",
              "    .dataframe thead th {\n",
              "        text-align: right;\n",
              "    }\n",
              "</style>\n",
              "<table border=\"1\" class=\"dataframe\">\n",
              "  <thead>\n",
              "    <tr style=\"text-align: right;\">\n",
              "      <th></th>\n",
              "      <th>team</th>\n",
              "      <th>home_wins</th>\n",
              "      <th>away_wins</th>\n",
              "      <th>home_matches</th>\n",
              "      <th>away_matches</th>\n",
              "      <th>home_win_percentage</th>\n",
              "      <th>away_win_percentage</th>\n",
              "    </tr>\n",
              "  </thead>\n",
              "  <tbody>\n",
              "    <tr>\n",
              "      <th>0</th>\n",
              "      <td>Rising Pune Supergiant</td>\n",
              "      <td>5</td>\n",
              "      <td>5</td>\n",
              "      <td>8</td>\n",
              "      <td>8</td>\n",
              "      <td>62.5</td>\n",
              "      <td>62.5</td>\n",
              "    </tr>\n",
              "  </tbody>\n",
              "</table>\n",
              "</div>"
            ],
            "text/plain": [
              "                     team  home_wins  ...  home_win_percentage  away_win_percentage\n",
              "0  Rising Pune Supergiant          5  ...                 62.5                 62.5\n",
              "\n",
              "[1 rows x 7 columns]"
            ]
          },
          "metadata": {
            "tags": []
          },
          "execution_count": 9
        }
      ]
    },
    {
      "cell_type": "code",
      "metadata": {
        "colab": {
          "base_uri": "https://localhost:8080/",
          "height": 394
        },
        "id": "TUKM2vy49Aio",
        "outputId": "6a664ba6-0f81-4dbc-faf4-f43d55517e29"
      },
      "source": [
        "deliveries.head()"
      ],
      "execution_count": 10,
      "outputs": [
        {
          "output_type": "execute_result",
          "data": {
            "text/html": [
              "<div>\n",
              "<style scoped>\n",
              "    .dataframe tbody tr th:only-of-type {\n",
              "        vertical-align: middle;\n",
              "    }\n",
              "\n",
              "    .dataframe tbody tr th {\n",
              "        vertical-align: top;\n",
              "    }\n",
              "\n",
              "    .dataframe thead th {\n",
              "        text-align: right;\n",
              "    }\n",
              "</style>\n",
              "<table border=\"1\" class=\"dataframe\">\n",
              "  <thead>\n",
              "    <tr style=\"text-align: right;\">\n",
              "      <th></th>\n",
              "      <th>match_id</th>\n",
              "      <th>inning</th>\n",
              "      <th>batting_team</th>\n",
              "      <th>bowling_team</th>\n",
              "      <th>over</th>\n",
              "      <th>ball</th>\n",
              "      <th>batsman</th>\n",
              "      <th>non_striker</th>\n",
              "      <th>bowler</th>\n",
              "      <th>is_super_over</th>\n",
              "      <th>wide_runs</th>\n",
              "      <th>bye_runs</th>\n",
              "      <th>legbye_runs</th>\n",
              "      <th>noball_runs</th>\n",
              "      <th>penalty_runs</th>\n",
              "      <th>batsman_runs</th>\n",
              "      <th>extra_runs</th>\n",
              "      <th>total_runs</th>\n",
              "      <th>player_dismissed</th>\n",
              "      <th>dismissal_kind</th>\n",
              "      <th>fielder</th>\n",
              "    </tr>\n",
              "  </thead>\n",
              "  <tbody>\n",
              "    <tr>\n",
              "      <th>0</th>\n",
              "      <td>1</td>\n",
              "      <td>1</td>\n",
              "      <td>Sunrisers Hyderabad</td>\n",
              "      <td>Royal Challengers Bangalore</td>\n",
              "      <td>1</td>\n",
              "      <td>1</td>\n",
              "      <td>DA Warner</td>\n",
              "      <td>S Dhawan</td>\n",
              "      <td>TS Mills</td>\n",
              "      <td>0</td>\n",
              "      <td>0</td>\n",
              "      <td>0</td>\n",
              "      <td>0</td>\n",
              "      <td>0</td>\n",
              "      <td>0</td>\n",
              "      <td>0</td>\n",
              "      <td>0</td>\n",
              "      <td>0</td>\n",
              "      <td>NaN</td>\n",
              "      <td>NaN</td>\n",
              "      <td>NaN</td>\n",
              "    </tr>\n",
              "    <tr>\n",
              "      <th>1</th>\n",
              "      <td>1</td>\n",
              "      <td>1</td>\n",
              "      <td>Sunrisers Hyderabad</td>\n",
              "      <td>Royal Challengers Bangalore</td>\n",
              "      <td>1</td>\n",
              "      <td>2</td>\n",
              "      <td>DA Warner</td>\n",
              "      <td>S Dhawan</td>\n",
              "      <td>TS Mills</td>\n",
              "      <td>0</td>\n",
              "      <td>0</td>\n",
              "      <td>0</td>\n",
              "      <td>0</td>\n",
              "      <td>0</td>\n",
              "      <td>0</td>\n",
              "      <td>0</td>\n",
              "      <td>0</td>\n",
              "      <td>0</td>\n",
              "      <td>NaN</td>\n",
              "      <td>NaN</td>\n",
              "      <td>NaN</td>\n",
              "    </tr>\n",
              "    <tr>\n",
              "      <th>2</th>\n",
              "      <td>1</td>\n",
              "      <td>1</td>\n",
              "      <td>Sunrisers Hyderabad</td>\n",
              "      <td>Royal Challengers Bangalore</td>\n",
              "      <td>1</td>\n",
              "      <td>3</td>\n",
              "      <td>DA Warner</td>\n",
              "      <td>S Dhawan</td>\n",
              "      <td>TS Mills</td>\n",
              "      <td>0</td>\n",
              "      <td>0</td>\n",
              "      <td>0</td>\n",
              "      <td>0</td>\n",
              "      <td>0</td>\n",
              "      <td>0</td>\n",
              "      <td>4</td>\n",
              "      <td>0</td>\n",
              "      <td>4</td>\n",
              "      <td>NaN</td>\n",
              "      <td>NaN</td>\n",
              "      <td>NaN</td>\n",
              "    </tr>\n",
              "    <tr>\n",
              "      <th>3</th>\n",
              "      <td>1</td>\n",
              "      <td>1</td>\n",
              "      <td>Sunrisers Hyderabad</td>\n",
              "      <td>Royal Challengers Bangalore</td>\n",
              "      <td>1</td>\n",
              "      <td>4</td>\n",
              "      <td>DA Warner</td>\n",
              "      <td>S Dhawan</td>\n",
              "      <td>TS Mills</td>\n",
              "      <td>0</td>\n",
              "      <td>0</td>\n",
              "      <td>0</td>\n",
              "      <td>0</td>\n",
              "      <td>0</td>\n",
              "      <td>0</td>\n",
              "      <td>0</td>\n",
              "      <td>0</td>\n",
              "      <td>0</td>\n",
              "      <td>NaN</td>\n",
              "      <td>NaN</td>\n",
              "      <td>NaN</td>\n",
              "    </tr>\n",
              "    <tr>\n",
              "      <th>4</th>\n",
              "      <td>1</td>\n",
              "      <td>1</td>\n",
              "      <td>Sunrisers Hyderabad</td>\n",
              "      <td>Royal Challengers Bangalore</td>\n",
              "      <td>1</td>\n",
              "      <td>5</td>\n",
              "      <td>DA Warner</td>\n",
              "      <td>S Dhawan</td>\n",
              "      <td>TS Mills</td>\n",
              "      <td>0</td>\n",
              "      <td>2</td>\n",
              "      <td>0</td>\n",
              "      <td>0</td>\n",
              "      <td>0</td>\n",
              "      <td>0</td>\n",
              "      <td>0</td>\n",
              "      <td>2</td>\n",
              "      <td>2</td>\n",
              "      <td>NaN</td>\n",
              "      <td>NaN</td>\n",
              "      <td>NaN</td>\n",
              "    </tr>\n",
              "  </tbody>\n",
              "</table>\n",
              "</div>"
            ],
            "text/plain": [
              "   match_id  inning  ... dismissal_kind fielder\n",
              "0         1       1  ...            NaN     NaN\n",
              "1         1       1  ...            NaN     NaN\n",
              "2         1       1  ...            NaN     NaN\n",
              "3         1       1  ...            NaN     NaN\n",
              "4         1       1  ...            NaN     NaN\n",
              "\n",
              "[5 rows x 21 columns]"
            ]
          },
          "metadata": {
            "tags": []
          },
          "execution_count": 10
        }
      ]
    },
    {
      "cell_type": "code",
      "metadata": {
        "colab": {
          "base_uri": "https://localhost:8080/",
          "height": 80
        },
        "id": "Ocu5wrXG9HN8",
        "outputId": "80d0273f-0a49-4ac7-c2d7-abda8f75488c"
      },
      "source": [
        "Players.head(1)"
      ],
      "execution_count": 11,
      "outputs": [
        {
          "output_type": "execute_result",
          "data": {
            "text/html": [
              "<div>\n",
              "<style scoped>\n",
              "    .dataframe tbody tr th:only-of-type {\n",
              "        vertical-align: middle;\n",
              "    }\n",
              "\n",
              "    .dataframe tbody tr th {\n",
              "        vertical-align: top;\n",
              "    }\n",
              "\n",
              "    .dataframe thead th {\n",
              "        text-align: right;\n",
              "    }\n",
              "</style>\n",
              "<table border=\"1\" class=\"dataframe\">\n",
              "  <thead>\n",
              "    <tr style=\"text-align: right;\">\n",
              "      <th></th>\n",
              "      <th>Player_Name</th>\n",
              "      <th>DOB</th>\n",
              "      <th>Batting_Hand</th>\n",
              "      <th>Bowling_Skill</th>\n",
              "      <th>Country</th>\n",
              "    </tr>\n",
              "  </thead>\n",
              "  <tbody>\n",
              "    <tr>\n",
              "      <th>0</th>\n",
              "      <td>A Ashish Reddy</td>\n",
              "      <td>1991-02-24</td>\n",
              "      <td>Right_Hand</td>\n",
              "      <td>Right-arm medium</td>\n",
              "      <td>India</td>\n",
              "    </tr>\n",
              "  </tbody>\n",
              "</table>\n",
              "</div>"
            ],
            "text/plain": [
              "      Player_Name        DOB Batting_Hand     Bowling_Skill Country\n",
              "0  A Ashish Reddy 1991-02-24   Right_Hand  Right-arm medium   India"
            ]
          },
          "metadata": {
            "tags": []
          },
          "execution_count": 11
        }
      ]
    },
    {
      "cell_type": "code",
      "metadata": {
        "colab": {
          "base_uri": "https://localhost:8080/",
          "height": 134
        },
        "id": "nbwkKBmkKY5T",
        "outputId": "83da21ff-d4bf-4ca0-9689-98c80c981e85"
      },
      "source": [
        "deliveries.head(1)"
      ],
      "execution_count": 12,
      "outputs": [
        {
          "output_type": "execute_result",
          "data": {
            "text/html": [
              "<div>\n",
              "<style scoped>\n",
              "    .dataframe tbody tr th:only-of-type {\n",
              "        vertical-align: middle;\n",
              "    }\n",
              "\n",
              "    .dataframe tbody tr th {\n",
              "        vertical-align: top;\n",
              "    }\n",
              "\n",
              "    .dataframe thead th {\n",
              "        text-align: right;\n",
              "    }\n",
              "</style>\n",
              "<table border=\"1\" class=\"dataframe\">\n",
              "  <thead>\n",
              "    <tr style=\"text-align: right;\">\n",
              "      <th></th>\n",
              "      <th>match_id</th>\n",
              "      <th>inning</th>\n",
              "      <th>batting_team</th>\n",
              "      <th>bowling_team</th>\n",
              "      <th>over</th>\n",
              "      <th>ball</th>\n",
              "      <th>batsman</th>\n",
              "      <th>non_striker</th>\n",
              "      <th>bowler</th>\n",
              "      <th>is_super_over</th>\n",
              "      <th>wide_runs</th>\n",
              "      <th>bye_runs</th>\n",
              "      <th>legbye_runs</th>\n",
              "      <th>noball_runs</th>\n",
              "      <th>penalty_runs</th>\n",
              "      <th>batsman_runs</th>\n",
              "      <th>extra_runs</th>\n",
              "      <th>total_runs</th>\n",
              "      <th>player_dismissed</th>\n",
              "      <th>dismissal_kind</th>\n",
              "      <th>fielder</th>\n",
              "    </tr>\n",
              "  </thead>\n",
              "  <tbody>\n",
              "    <tr>\n",
              "      <th>0</th>\n",
              "      <td>1</td>\n",
              "      <td>1</td>\n",
              "      <td>Sunrisers Hyderabad</td>\n",
              "      <td>Royal Challengers Bangalore</td>\n",
              "      <td>1</td>\n",
              "      <td>1</td>\n",
              "      <td>DA Warner</td>\n",
              "      <td>S Dhawan</td>\n",
              "      <td>TS Mills</td>\n",
              "      <td>0</td>\n",
              "      <td>0</td>\n",
              "      <td>0</td>\n",
              "      <td>0</td>\n",
              "      <td>0</td>\n",
              "      <td>0</td>\n",
              "      <td>0</td>\n",
              "      <td>0</td>\n",
              "      <td>0</td>\n",
              "      <td>NaN</td>\n",
              "      <td>NaN</td>\n",
              "      <td>NaN</td>\n",
              "    </tr>\n",
              "  </tbody>\n",
              "</table>\n",
              "</div>"
            ],
            "text/plain": [
              "   match_id  inning  ... dismissal_kind fielder\n",
              "0         1       1  ...            NaN     NaN\n",
              "\n",
              "[1 rows x 21 columns]"
            ]
          },
          "metadata": {
            "tags": []
          },
          "execution_count": 12
        }
      ]
    },
    {
      "cell_type": "code",
      "metadata": {
        "colab": {
          "base_uri": "https://localhost:8080/",
          "height": 168
        },
        "id": "ynmI84d_9QP9",
        "outputId": "3095da1f-ac74-4e8d-f0f6-7c50cf7c89c1"
      },
      "source": [
        "match.head(1)"
      ],
      "execution_count": 13,
      "outputs": [
        {
          "output_type": "execute_result",
          "data": {
            "text/html": [
              "<div>\n",
              "<style scoped>\n",
              "    .dataframe tbody tr th:only-of-type {\n",
              "        vertical-align: middle;\n",
              "    }\n",
              "\n",
              "    .dataframe tbody tr th {\n",
              "        vertical-align: top;\n",
              "    }\n",
              "\n",
              "    .dataframe thead th {\n",
              "        text-align: right;\n",
              "    }\n",
              "</style>\n",
              "<table border=\"1\" class=\"dataframe\">\n",
              "  <thead>\n",
              "    <tr style=\"text-align: right;\">\n",
              "      <th></th>\n",
              "      <th>id</th>\n",
              "      <th>Season</th>\n",
              "      <th>city</th>\n",
              "      <th>date</th>\n",
              "      <th>team1</th>\n",
              "      <th>team2</th>\n",
              "      <th>toss_winner</th>\n",
              "      <th>toss_decision</th>\n",
              "      <th>result</th>\n",
              "      <th>dl_applied</th>\n",
              "      <th>winner</th>\n",
              "      <th>win_by_runs</th>\n",
              "      <th>win_by_wickets</th>\n",
              "      <th>player_of_match</th>\n",
              "      <th>venue</th>\n",
              "      <th>umpire1</th>\n",
              "      <th>umpire2</th>\n",
              "      <th>umpire3</th>\n",
              "    </tr>\n",
              "  </thead>\n",
              "  <tbody>\n",
              "    <tr>\n",
              "      <th>0</th>\n",
              "      <td>1</td>\n",
              "      <td>IPL-2017</td>\n",
              "      <td>Hyderabad</td>\n",
              "      <td>05-04-2017</td>\n",
              "      <td>Sunrisers Hyderabad</td>\n",
              "      <td>Royal Challengers Bangalore</td>\n",
              "      <td>Royal Challengers Bangalore</td>\n",
              "      <td>field</td>\n",
              "      <td>normal</td>\n",
              "      <td>0</td>\n",
              "      <td>Sunrisers Hyderabad</td>\n",
              "      <td>35</td>\n",
              "      <td>0</td>\n",
              "      <td>Yuvraj Singh</td>\n",
              "      <td>Rajiv Gandhi International Stadium, Uppal</td>\n",
              "      <td>AY Dandekar</td>\n",
              "      <td>NJ Llong</td>\n",
              "      <td>NaN</td>\n",
              "    </tr>\n",
              "  </tbody>\n",
              "</table>\n",
              "</div>"
            ],
            "text/plain": [
              "   id    Season       city  ...      umpire1   umpire2 umpire3\n",
              "0   1  IPL-2017  Hyderabad  ...  AY Dandekar  NJ Llong     NaN\n",
              "\n",
              "[1 rows x 18 columns]"
            ]
          },
          "metadata": {
            "tags": []
          },
          "execution_count": 13
        }
      ]
    },
    {
      "cell_type": "code",
      "metadata": {
        "colab": {
          "base_uri": "https://localhost:8080/"
        },
        "id": "Or4HDVwWRu4y",
        "outputId": "100d8442-536c-40fb-b1cb-97dca740f881"
      },
      "source": [
        "match_id_with_no_result=list(match[match[\"result\"]==\"no result\"].id)\n",
        "match_id_with_no_result"
      ],
      "execution_count": 14,
      "outputs": [
        {
          "output_type": "execute_result",
          "data": {
            "text/plain": [
              "[301, 546, 571, 11340]"
            ]
          },
          "metadata": {
            "tags": []
          },
          "execution_count": 14
        }
      ]
    },
    {
      "cell_type": "code",
      "metadata": {
        "id": "ZZ-hRY5SEe-7"
      },
      "source": [
        "match=match[~match[\"id\"].isin(match_id_with_no_result)]\n",
        "deliveries=deliveries[~deliveries[\"match_id\"].isin(match_id_with_no_result)]"
      ],
      "execution_count": 15,
      "outputs": []
    },
    {
      "cell_type": "code",
      "metadata": {
        "colab": {
          "base_uri": "https://localhost:8080/",
          "height": 69
        },
        "id": "PPwDBSdyNFOC",
        "outputId": "442a2eb3-1d8d-4531-c657-b0b82b29fdcf"
      },
      "source": [
        "match[match[\"id\"]==546]"
      ],
      "execution_count": 16,
      "outputs": [
        {
          "output_type": "execute_result",
          "data": {
            "text/html": [
              "<div>\n",
              "<style scoped>\n",
              "    .dataframe tbody tr th:only-of-type {\n",
              "        vertical-align: middle;\n",
              "    }\n",
              "\n",
              "    .dataframe tbody tr th {\n",
              "        vertical-align: top;\n",
              "    }\n",
              "\n",
              "    .dataframe thead th {\n",
              "        text-align: right;\n",
              "    }\n",
              "</style>\n",
              "<table border=\"1\" class=\"dataframe\">\n",
              "  <thead>\n",
              "    <tr style=\"text-align: right;\">\n",
              "      <th></th>\n",
              "      <th>id</th>\n",
              "      <th>Season</th>\n",
              "      <th>city</th>\n",
              "      <th>date</th>\n",
              "      <th>team1</th>\n",
              "      <th>team2</th>\n",
              "      <th>toss_winner</th>\n",
              "      <th>toss_decision</th>\n",
              "      <th>result</th>\n",
              "      <th>dl_applied</th>\n",
              "      <th>winner</th>\n",
              "      <th>win_by_runs</th>\n",
              "      <th>win_by_wickets</th>\n",
              "      <th>player_of_match</th>\n",
              "      <th>venue</th>\n",
              "      <th>umpire1</th>\n",
              "      <th>umpire2</th>\n",
              "      <th>umpire3</th>\n",
              "    </tr>\n",
              "  </thead>\n",
              "  <tbody>\n",
              "  </tbody>\n",
              "</table>\n",
              "</div>"
            ],
            "text/plain": [
              "Empty DataFrame\n",
              "Columns: [id, Season, city, date, team1, team2, toss_winner, toss_decision, result, dl_applied, winner, win_by_runs, win_by_wickets, player_of_match, venue, umpire1, umpire2, umpire3]\n",
              "Index: []"
            ]
          },
          "metadata": {
            "tags": []
          },
          "execution_count": 16
        }
      ]
    },
    {
      "cell_type": "code",
      "metadata": {
        "id": "cRoWbFMKTckf"
      },
      "source": [
        "def inning_finder(winner,toss_decision,toss_winner):\n",
        "  \"\"\" function return in which inning  a team wins the match\"\"\" \n",
        "  innings_winner=0\n",
        "  if toss_winner==winner and toss_decision==\"field\":\n",
        "    innings_winner=2\n",
        "  elif toss_winner==winner and toss_decision==\"bat\":\n",
        "    innings_winner=1\n",
        "  elif toss_winner!=winner and toss_decision==\"bat\":\n",
        "    innings_winner=2\n",
        "  elif toss_winner!=winner and toss_decision==\"field\":\n",
        "    innings_winner=1\n",
        "  return innings_winner\n",
        "match[\"innings_winner\"]=match.apply(lambda x: inning_finder(x[\"winner\"],x[\"toss_decision\"],x[\"toss_winner\"]),\n",
        "                                                                                axis=1)"
      ],
      "execution_count": 17,
      "outputs": []
    },
    {
      "cell_type": "code",
      "metadata": {
        "id": "aPG6uOE2dSSH"
      },
      "source": [
        "inning_wise_percentage=match[[\"team1\",\"team2\",\"innings_winner\",\"winner\"]].value_counts(\"innings_winner\")/match.shape[0]\n",
        "first_inning_percentage_win=inning_wise_percentage.iloc[0]\n",
        "second_inning_percentage_win=inning_wise_percentage.iloc[1]\n"
      ],
      "execution_count": 18,
      "outputs": []
    },
    {
      "cell_type": "code",
      "metadata": {
        "colab": {
          "base_uri": "https://localhost:8080/"
        },
        "id": "upnwD8-P2LEc",
        "outputId": "040a9e2a-7afa-406a-fe49-bc2a17f1df2f"
      },
      "source": [
        "print(first_inning_percentage_win)\n",
        "second_inning_percentage_win"
      ],
      "execution_count": 19,
      "outputs": [
        {
          "output_type": "stream",
          "text": [
            "0.5545212765957447\n"
          ],
          "name": "stdout"
        },
        {
          "output_type": "execute_result",
          "data": {
            "text/plain": [
              "0.4454787234042553"
            ]
          },
          "metadata": {
            "tags": []
          },
          "execution_count": 19
        }
      ]
    },
    {
      "cell_type": "code",
      "metadata": {
        "colab": {
          "base_uri": "https://localhost:8080/",
          "height": 265
        },
        "id": "1damhaF9610F",
        "outputId": "39d7d107-0243-47c3-bb6a-905ba0f95cdd"
      },
      "source": [
        "plt.pie([first_inning_percentage_win,second_inning_percentage_win],autopct='%1.0f%%')\n",
        "plt.legend([\"first_inning_percentage_win\",\"second_inning_percentage_win\"])"
      ],
      "execution_count": 20,
      "outputs": [
        {
          "output_type": "execute_result",
          "data": {
            "text/plain": [
              "<matplotlib.legend.Legend at 0x7f3c19c19410>"
            ]
          },
          "metadata": {
            "tags": []
          },
          "execution_count": 20
        },
        {
          "output_type": "display_data",
          "data": {
            "image/png": "[encoded data removed]",
            "text/plain": [
              "<Figure size 432x288 with 1 Axes>"
            ]
          },
          "metadata": {
            "tags": []
          }
        }
      ]
    },
    {
      "cell_type": "code",
      "metadata": {
        "id": "UqCI5Ct245xI"
      },
      "source": [
        "inning_wise_extra_runs=pd.DataFrame(deliveries.groupby([\"match_id\",\"inning\"]).agg({\"extra_runs\":\"sum\"}))\n"
      ],
      "execution_count": 21,
      "outputs": []
    },
    {
      "cell_type": "code",
      "metadata": {
        "colab": {
          "base_uri": "https://localhost:8080/"
        },
        "id": "zYxbEf-T7D_q",
        "outputId": "d4f5e712-b9ab-40b3-c5d5-817650c15546"
      },
      "source": [
        "inning_wise_extra_runs.shape"
      ],
      "execution_count": 22,
      "outputs": [
        {
          "output_type": "execute_result",
          "data": {
            "text/plain": [
              "(1522, 1)"
            ]
          },
          "metadata": {
            "tags": []
          },
          "execution_count": 22
        }
      ]
    },
    {
      "cell_type": "code",
      "metadata": {
        "id": "h2PsP63T7qZD"
      },
      "source": [
        "inning_wise_extra_runs=inning_wise_extra_runs.reset_index()"
      ],
      "execution_count": 23,
      "outputs": []
    },
    {
      "cell_type": "code",
      "metadata": {
        "id": "Gb6EOr6O8ect"
      },
      "source": [
        "inning_wise_extra_runs.drop(inning_wise_extra_runs[inning_wise_extra_runs[\"inning\"]>2].index,inplace=True )"
      ],
      "execution_count": 24,
      "outputs": []
    },
    {
      "cell_type": "code",
      "metadata": {
        "colab": {
          "base_uri": "https://localhost:8080/",
          "height": 419
        },
        "id": "UZCAAsedDZGI",
        "outputId": "a369c98e-4f1e-4507-f6bb-e88f2c093de2"
      },
      "source": [
        "inning_wise_extra_runs"
      ],
      "execution_count": 25,
      "outputs": [
        {
          "output_type": "execute_result",
          "data": {
            "text/html": [
              "<div>\n",
              "<style scoped>\n",
              "    .dataframe tbody tr th:only-of-type {\n",
              "        vertical-align: middle;\n",
              "    }\n",
              "\n",
              "    .dataframe tbody tr th {\n",
              "        vertical-align: top;\n",
              "    }\n",
              "\n",
              "    .dataframe thead th {\n",
              "        text-align: right;\n",
              "    }\n",
              "</style>\n",
              "<table border=\"1\" class=\"dataframe\">\n",
              "  <thead>\n",
              "    <tr style=\"text-align: right;\">\n",
              "      <th></th>\n",
              "      <th>match_id</th>\n",
              "      <th>inning</th>\n",
              "      <th>extra_runs</th>\n",
              "    </tr>\n",
              "  </thead>\n",
              "  <tbody>\n",
              "    <tr>\n",
              "      <th>0</th>\n",
              "      <td>1</td>\n",
              "      <td>1</td>\n",
              "      <td>7</td>\n",
              "    </tr>\n",
              "    <tr>\n",
              "      <th>1</th>\n",
              "      <td>1</td>\n",
              "      <td>2</td>\n",
              "      <td>6</td>\n",
              "    </tr>\n",
              "    <tr>\n",
              "      <th>2</th>\n",
              "      <td>2</td>\n",
              "      <td>1</td>\n",
              "      <td>8</td>\n",
              "    </tr>\n",
              "    <tr>\n",
              "      <th>3</th>\n",
              "      <td>2</td>\n",
              "      <td>2</td>\n",
              "      <td>4</td>\n",
              "    </tr>\n",
              "    <tr>\n",
              "      <th>4</th>\n",
              "      <td>3</td>\n",
              "      <td>1</td>\n",
              "      <td>4</td>\n",
              "    </tr>\n",
              "    <tr>\n",
              "      <th>...</th>\n",
              "      <td>...</td>\n",
              "      <td>...</td>\n",
              "      <td>...</td>\n",
              "    </tr>\n",
              "    <tr>\n",
              "      <th>1517</th>\n",
              "      <td>11413</td>\n",
              "      <td>2</td>\n",
              "      <td>5</td>\n",
              "    </tr>\n",
              "    <tr>\n",
              "      <th>1518</th>\n",
              "      <td>11414</td>\n",
              "      <td>1</td>\n",
              "      <td>8</td>\n",
              "    </tr>\n",
              "    <tr>\n",
              "      <th>1519</th>\n",
              "      <td>11414</td>\n",
              "      <td>2</td>\n",
              "      <td>11</td>\n",
              "    </tr>\n",
              "    <tr>\n",
              "      <th>1520</th>\n",
              "      <td>11415</td>\n",
              "      <td>1</td>\n",
              "      <td>3</td>\n",
              "    </tr>\n",
              "    <tr>\n",
              "      <th>1521</th>\n",
              "      <td>11415</td>\n",
              "      <td>2</td>\n",
              "      <td>9</td>\n",
              "    </tr>\n",
              "  </tbody>\n",
              "</table>\n",
              "<p>1504 rows × 3 columns</p>\n",
              "</div>"
            ],
            "text/plain": [
              "      match_id  inning  extra_runs\n",
              "0            1       1           7\n",
              "1            1       2           6\n",
              "2            2       1           8\n",
              "3            2       2           4\n",
              "4            3       1           4\n",
              "...        ...     ...         ...\n",
              "1517     11413       2           5\n",
              "1518     11414       1           8\n",
              "1519     11414       2          11\n",
              "1520     11415       1           3\n",
              "1521     11415       2           9\n",
              "\n",
              "[1504 rows x 3 columns]"
            ]
          },
          "metadata": {
            "tags": []
          },
          "execution_count": 25
        }
      ]
    },
    {
      "cell_type": "code",
      "metadata": {
        "id": "KSMPEXa6OQxF"
      },
      "source": [
        "def inning_wise_wins(x,temp=match):\n",
        " \"\"\" function return the wins or loose of the match based on the index and the inning with the help of match dataframe which is set as default \"\"\"\n",
        " if int(match.loc[match[\"id\"]==x[\"match_id\"]][\"innings_winner\"])==x[\"inning\"]:\n",
        "     return \"wins\"\n",
        " else:\n",
        "     return \"Loose\"\n",
        "inning_wise_extra_runs[\"win_Loose\"]=inning_wise_extra_runs.apply(lambda x: inning_wise_wins(x),axis=1)"
      ],
      "execution_count": 26,
      "outputs": []
    },
    {
      "cell_type": "code",
      "metadata": {
        "colab": {
          "base_uri": "https://localhost:8080/",
          "height": 419
        },
        "id": "DzE_C7xXQsx6",
        "outputId": "86e580ee-b0a5-4994-d404-b0ef5a3713be"
      },
      "source": [
        "inning_wise_extra_runs"
      ],
      "execution_count": 27,
      "outputs": [
        {
          "output_type": "execute_result",
          "data": {
            "text/html": [
              "<div>\n",
              "<style scoped>\n",
              "    .dataframe tbody tr th:only-of-type {\n",
              "        vertical-align: middle;\n",
              "    }\n",
              "\n",
              "    .dataframe tbody tr th {\n",
              "        vertical-align: top;\n",
              "    }\n",
              "\n",
              "    .dataframe thead th {\n",
              "        text-align: right;\n",
              "    }\n",
              "</style>\n",
              "<table border=\"1\" class=\"dataframe\">\n",
              "  <thead>\n",
              "    <tr style=\"text-align: right;\">\n",
              "      <th></th>\n",
              "      <th>match_id</th>\n",
              "      <th>inning</th>\n",
              "      <th>extra_runs</th>\n",
              "      <th>win_Loose</th>\n",
              "    </tr>\n",
              "  </thead>\n",
              "  <tbody>\n",
              "    <tr>\n",
              "      <th>0</th>\n",
              "      <td>1</td>\n",
              "      <td>1</td>\n",
              "      <td>7</td>\n",
              "      <td>wins</td>\n",
              "    </tr>\n",
              "    <tr>\n",
              "      <th>1</th>\n",
              "      <td>1</td>\n",
              "      <td>2</td>\n",
              "      <td>6</td>\n",
              "      <td>Loose</td>\n",
              "    </tr>\n",
              "    <tr>\n",
              "      <th>2</th>\n",
              "      <td>2</td>\n",
              "      <td>1</td>\n",
              "      <td>8</td>\n",
              "      <td>Loose</td>\n",
              "    </tr>\n",
              "    <tr>\n",
              "      <th>3</th>\n",
              "      <td>2</td>\n",
              "      <td>2</td>\n",
              "      <td>4</td>\n",
              "      <td>wins</td>\n",
              "    </tr>\n",
              "    <tr>\n",
              "      <th>4</th>\n",
              "      <td>3</td>\n",
              "      <td>1</td>\n",
              "      <td>4</td>\n",
              "      <td>Loose</td>\n",
              "    </tr>\n",
              "    <tr>\n",
              "      <th>...</th>\n",
              "      <td>...</td>\n",
              "      <td>...</td>\n",
              "      <td>...</td>\n",
              "      <td>...</td>\n",
              "    </tr>\n",
              "    <tr>\n",
              "      <th>1517</th>\n",
              "      <td>11413</td>\n",
              "      <td>2</td>\n",
              "      <td>5</td>\n",
              "      <td>wins</td>\n",
              "    </tr>\n",
              "    <tr>\n",
              "      <th>1518</th>\n",
              "      <td>11414</td>\n",
              "      <td>1</td>\n",
              "      <td>8</td>\n",
              "      <td>Loose</td>\n",
              "    </tr>\n",
              "    <tr>\n",
              "      <th>1519</th>\n",
              "      <td>11414</td>\n",
              "      <td>2</td>\n",
              "      <td>11</td>\n",
              "      <td>wins</td>\n",
              "    </tr>\n",
              "    <tr>\n",
              "      <th>1520</th>\n",
              "      <td>11415</td>\n",
              "      <td>1</td>\n",
              "      <td>3</td>\n",
              "      <td>wins</td>\n",
              "    </tr>\n",
              "    <tr>\n",
              "      <th>1521</th>\n",
              "      <td>11415</td>\n",
              "      <td>2</td>\n",
              "      <td>9</td>\n",
              "      <td>Loose</td>\n",
              "    </tr>\n",
              "  </tbody>\n",
              "</table>\n",
              "<p>1504 rows × 4 columns</p>\n",
              "</div>"
            ],
            "text/plain": [
              "      match_id  inning  extra_runs win_Loose\n",
              "0            1       1           7      wins\n",
              "1            1       2           6     Loose\n",
              "2            2       1           8     Loose\n",
              "3            2       2           4      wins\n",
              "4            3       1           4     Loose\n",
              "...        ...     ...         ...       ...\n",
              "1517     11413       2           5      wins\n",
              "1518     11414       1           8     Loose\n",
              "1519     11414       2          11      wins\n",
              "1520     11415       1           3      wins\n",
              "1521     11415       2           9     Loose\n",
              "\n",
              "[1504 rows x 4 columns]"
            ]
          },
          "metadata": {
            "tags": []
          },
          "execution_count": 27
        }
      ]
    },
    {
      "cell_type": "code",
      "metadata": {
        "id": "feIxy_ModlYd"
      },
      "source": [
        "inning_wise_extra_runs.reset_index(inplace=True)"
      ],
      "execution_count": 28,
      "outputs": []
    },
    {
      "cell_type": "code",
      "metadata": {
        "colab": {
          "base_uri": "https://localhost:8080/"
        },
        "id": "1rOwC8oPtRA8",
        "outputId": "01129ece-8ed2-4a31-909e-918078dfea05"
      },
      "source": [
        "inning_wise_extra_runs.shape"
      ],
      "execution_count": 29,
      "outputs": [
        {
          "output_type": "execute_result",
          "data": {
            "text/plain": [
              "(1504, 5)"
            ]
          },
          "metadata": {
            "tags": []
          },
          "execution_count": 29
        }
      ]
    },
    {
      "cell_type": "code",
      "metadata": {
        "colab": {
          "base_uri": "https://localhost:8080/"
        },
        "id": "KuDTFjUnrbmU",
        "outputId": "01233fbd-454a-4929-e385-aa8ce17f8a21"
      },
      "source": [
        "MoreXtrarunswins=0\n",
        "lessXtrarunsLoose=0\n",
        "independentxtraruns=0\n",
        "\n",
        "\"\"\" code to count wins when extra runs is greater or lesser or equal\"\"\"\n",
        "for i in range(0,inning_wise_extra_runs.shape[0],2):\n",
        "   if (inning_wise_extra_runs.iloc[i][\"extra_runs\"]>inning_wise_extra_runs.iloc[i+1][\"extra_runs\"]) and inning_wise_extra_runs.iloc[i][\"win_Loose\"]==\"wins\":\n",
        "     MoreXtrarunswins+=1\n",
        "   elif (inning_wise_extra_runs.iloc[i][\"extra_runs\"]<inning_wise_extra_runs.iloc[i+1][\"extra_runs\"]) and inning_wise_extra_runs.iloc[i+1][\"win_Loose\"]==\"wins\":\n",
        "     MoreXtrarunswins+=1\n",
        "   elif (inning_wise_extra_runs.iloc[i][\"extra_runs\"]>inning_wise_extra_runs.iloc[i+1][\"extra_runs\"]) and inning_wise_extra_runs.iloc[i][\"win_Loose\"]==\"Loose\":\n",
        "     lessXtrarunsLoose+=1\n",
        "   elif (inning_wise_extra_runs.iloc[i][\"extra_runs\"]<inning_wise_extra_runs.iloc[i+1][\"extra_runs\"]) and inning_wise_extra_runs.iloc[i+1][\"win_Loose\"]==\"Loose\":\n",
        "     lessXtrarunsLoose+=1\n",
        "   elif (inning_wise_extra_runs.iloc[i][\"extra_runs\"]==inning_wise_extra_runs.iloc[i+1][\"extra_runs\"]):\n",
        "      independentxtraruns+=1\n",
        "print(MoreXtrarunswins)\n",
        "print(lessXtrarunsLoose)\n",
        "print(independentxtraruns)\n",
        "   \n"
      ],
      "execution_count": 30,
      "outputs": [
        {
          "output_type": "stream",
          "text": [
            "353\n",
            "335\n",
            "64\n"
          ],
          "name": "stdout"
        }
      ]
    },
    {
      "cell_type": "code",
      "metadata": {
        "colab": {
          "base_uri": "https://localhost:8080/"
        },
        "id": "7VlseVLb3YvZ",
        "outputId": "25268f3b-7a86-43bb-ddab-df69354b5eb8"
      },
      "source": [
        "win_Count=(inning_wise_extra_runs.shape[0])//2\n",
        "win_Count"
      ],
      "execution_count": 50,
      "outputs": [
        {
          "output_type": "execute_result",
          "data": {
            "text/plain": [
              "752"
            ]
          },
          "metadata": {
            "tags": []
          },
          "execution_count": 50
        }
      ]
    },
    {
      "cell_type": "code",
      "metadata": {
        "colab": {
          "base_uri": "https://localhost:8080/"
        },
        "id": "zy5s4va_sTvc",
        "outputId": "682ec4f5-43d3-4898-a69f-6c5d35ca3765"
      },
      "source": [
        "XtrarunsWinsPercentage=(MoreXtrarunswins/win_Count)*100\n",
        "XtrarunsWinsPercentage"
      ],
      "execution_count": 51,
      "outputs": [
        {
          "output_type": "execute_result",
          "data": {
            "text/plain": [
              "46.941489361702125"
            ]
          },
          "metadata": {
            "tags": []
          },
          "execution_count": 51
        }
      ]
    },
    {
      "cell_type": "code",
      "metadata": {
        "colab": {
          "base_uri": "https://localhost:8080/"
        },
        "id": "OOPF4yyJzPdO",
        "outputId": "aacdae73-e694-4c22-e402-06587040ee81"
      },
      "source": [
        "XtrarunsLoosePercentage=(lessXtrarunsLoose/win_Count)*100\n",
        "XtrarunsLoosePercentage"
      ],
      "execution_count": 52,
      "outputs": [
        {
          "output_type": "execute_result",
          "data": {
            "text/plain": [
              "44.547872340425535"
            ]
          },
          "metadata": {
            "tags": []
          },
          "execution_count": 52
        }
      ]
    },
    {
      "cell_type": "code",
      "metadata": {
        "colab": {
          "base_uri": "https://localhost:8080/"
        },
        "id": "PwtJdv5pzmR0",
        "outputId": "3cca5197-3dfd-4f6c-8375-18a54bd15743"
      },
      "source": [
        "independentxtrarunspercentage=(independentxtraruns/win_Count)*100\n",
        "independentxtrarunspercentage"
      ],
      "execution_count": 53,
      "outputs": [
        {
          "output_type": "execute_result",
          "data": {
            "text/plain": [
              "8.51063829787234"
            ]
          },
          "metadata": {
            "tags": []
          },
          "execution_count": 53
        }
      ]
    },
    {
      "cell_type": "code",
      "metadata": {
        "colab": {
          "base_uri": "https://localhost:8080/",
          "height": 265
        },
        "id": "GIffoNlPz9BS",
        "outputId": "c6e8d347-f2cb-49bf-ea71-3d4ec7822e26"
      },
      "source": [
        "plt.pie([XtrarunsWinsPercentage,XtrarunsLoosePercentage,independentxtrarunspercentage],autopct='%1.01f%%')\n",
        "plt.legend([\"Winning percentage when extra runs is greater\",\"Lossing percentage when extra runs is greater\",\"Percentage when extra runs are equal\"],loc=1)\n"
      ],
      "execution_count": 55,
      "outputs": [
        {
          "output_type": "execute_result",
          "data": {
            "text/plain": [
              "<matplotlib.legend.Legend at 0x7f3c14031990>"
            ]
          },
          "metadata": {
            "tags": []
          },
          "execution_count": 55
        },
        {
          "output_type": "display_data",
          "data": {
            "image/png": "[encoded data removed]",
            "text/plain": [
              "<Figure size 432x288 with 1 Axes>"
            ]
          },
          "metadata": {
            "tags": []
          }
        }
      ]
    },
    {
      "cell_type": "code",
      "metadata": {
        "id": "NUu1UvR10RxP",
        "colab": {
          "base_uri": "https://localhost:8080/",
          "height": 450
        },
        "outputId": "c3a65832-924d-4eba-c3de-2fa94dffb165"
      },
      "source": [
        "total_runs_bowler=pd.DataFrame(deliveries.groupby([\"match_id\",\"bowler\"]).agg({\"total_runs\":\"sum\"}))\n",
        "total_runs_bowler"
      ],
      "execution_count": 214,
      "outputs": [
        {
          "output_type": "execute_result",
          "data": {
            "text/html": [
              "<div>\n",
              "<style scoped>\n",
              "    .dataframe tbody tr th:only-of-type {\n",
              "        vertical-align: middle;\n",
              "    }\n",
              "\n",
              "    .dataframe tbody tr th {\n",
              "        vertical-align: top;\n",
              "    }\n",
              "\n",
              "    .dataframe thead th {\n",
              "        text-align: right;\n",
              "    }\n",
              "</style>\n",
              "<table border=\"1\" class=\"dataframe\">\n",
              "  <thead>\n",
              "    <tr style=\"text-align: right;\">\n",
              "      <th></th>\n",
              "      <th></th>\n",
              "      <th>total_runs</th>\n",
              "    </tr>\n",
              "    <tr>\n",
              "      <th>match_id</th>\n",
              "      <th>bowler</th>\n",
              "      <th></th>\n",
              "    </tr>\n",
              "  </thead>\n",
              "  <tbody>\n",
              "    <tr>\n",
              "      <th rowspan=\"5\" valign=\"top\">1</th>\n",
              "      <th>A Choudhary</th>\n",
              "      <td>55</td>\n",
              "    </tr>\n",
              "    <tr>\n",
              "      <th>A Nehra</th>\n",
              "      <td>42</td>\n",
              "    </tr>\n",
              "    <tr>\n",
              "      <th>B Kumar</th>\n",
              "      <td>28</td>\n",
              "    </tr>\n",
              "    <tr>\n",
              "      <th>BCJ Cutting</th>\n",
              "      <td>35</td>\n",
              "    </tr>\n",
              "    <tr>\n",
              "      <th>Bipul Sharma</th>\n",
              "      <td>4</td>\n",
              "    </tr>\n",
              "    <tr>\n",
              "      <th>...</th>\n",
              "      <th>...</th>\n",
              "      <td>...</td>\n",
              "    </tr>\n",
              "    <tr>\n",
              "      <th rowspan=\"5\" valign=\"top\">11415</th>\n",
              "      <th>MJ McClenaghan</th>\n",
              "      <td>26</td>\n",
              "    </tr>\n",
              "    <tr>\n",
              "      <th>RA Jadeja</th>\n",
              "      <td>12</td>\n",
              "    </tr>\n",
              "    <tr>\n",
              "      <th>RD Chahar</th>\n",
              "      <td>14</td>\n",
              "    </tr>\n",
              "    <tr>\n",
              "      <th>SL Malinga</th>\n",
              "      <td>50</td>\n",
              "    </tr>\n",
              "    <tr>\n",
              "      <th>SN Thakur</th>\n",
              "      <td>37</td>\n",
              "    </tr>\n",
              "  </tbody>\n",
              "</table>\n",
              "<p>8948 rows × 1 columns</p>\n",
              "</div>"
            ],
            "text/plain": [
              "                         total_runs\n",
              "match_id bowler                    \n",
              "1        A Choudhary             55\n",
              "         A Nehra                 42\n",
              "         B Kumar                 28\n",
              "         BCJ Cutting             35\n",
              "         Bipul Sharma             4\n",
              "...                             ...\n",
              "11415    MJ McClenaghan          26\n",
              "         RA Jadeja               12\n",
              "         RD Chahar               14\n",
              "         SL Malinga              50\n",
              "         SN Thakur               37\n",
              "\n",
              "[8948 rows x 1 columns]"
            ]
          },
          "metadata": {
            "tags": []
          },
          "execution_count": 214
        }
      ]
    },
    {
      "cell_type": "code",
      "metadata": {
        "id": "63aTjua_4TJw"
      },
      "source": [
        "total_runs_bowler.reset_index(inplace=True)"
      ],
      "execution_count": 215,
      "outputs": []
    },
    {
      "cell_type": "code",
      "metadata": {
        "colab": {
          "base_uri": "https://localhost:8080/",
          "height": 419
        },
        "id": "Do106i0AEVZa",
        "outputId": "a46e937a-36a4-4fc7-d14a-f6f2193cfc75"
      },
      "source": [
        "total_runs_bowler"
      ],
      "execution_count": 216,
      "outputs": [
        {
          "output_type": "execute_result",
          "data": {
            "text/html": [
              "<div>\n",
              "<style scoped>\n",
              "    .dataframe tbody tr th:only-of-type {\n",
              "        vertical-align: middle;\n",
              "    }\n",
              "\n",
              "    .dataframe tbody tr th {\n",
              "        vertical-align: top;\n",
              "    }\n",
              "\n",
              "    .dataframe thead th {\n",
              "        text-align: right;\n",
              "    }\n",
              "</style>\n",
              "<table border=\"1\" class=\"dataframe\">\n",
              "  <thead>\n",
              "    <tr style=\"text-align: right;\">\n",
              "      <th></th>\n",
              "      <th>match_id</th>\n",
              "      <th>bowler</th>\n",
              "      <th>total_runs</th>\n",
              "    </tr>\n",
              "  </thead>\n",
              "  <tbody>\n",
              "    <tr>\n",
              "      <th>0</th>\n",
              "      <td>1</td>\n",
              "      <td>A Choudhary</td>\n",
              "      <td>55</td>\n",
              "    </tr>\n",
              "    <tr>\n",
              "      <th>1</th>\n",
              "      <td>1</td>\n",
              "      <td>A Nehra</td>\n",
              "      <td>42</td>\n",
              "    </tr>\n",
              "    <tr>\n",
              "      <th>2</th>\n",
              "      <td>1</td>\n",
              "      <td>B Kumar</td>\n",
              "      <td>28</td>\n",
              "    </tr>\n",
              "    <tr>\n",
              "      <th>3</th>\n",
              "      <td>1</td>\n",
              "      <td>BCJ Cutting</td>\n",
              "      <td>35</td>\n",
              "    </tr>\n",
              "    <tr>\n",
              "      <th>4</th>\n",
              "      <td>1</td>\n",
              "      <td>Bipul Sharma</td>\n",
              "      <td>4</td>\n",
              "    </tr>\n",
              "    <tr>\n",
              "      <th>...</th>\n",
              "      <td>...</td>\n",
              "      <td>...</td>\n",
              "      <td>...</td>\n",
              "    </tr>\n",
              "    <tr>\n",
              "      <th>8943</th>\n",
              "      <td>11415</td>\n",
              "      <td>MJ McClenaghan</td>\n",
              "      <td>26</td>\n",
              "    </tr>\n",
              "    <tr>\n",
              "      <th>8944</th>\n",
              "      <td>11415</td>\n",
              "      <td>RA Jadeja</td>\n",
              "      <td>12</td>\n",
              "    </tr>\n",
              "    <tr>\n",
              "      <th>8945</th>\n",
              "      <td>11415</td>\n",
              "      <td>RD Chahar</td>\n",
              "      <td>14</td>\n",
              "    </tr>\n",
              "    <tr>\n",
              "      <th>8946</th>\n",
              "      <td>11415</td>\n",
              "      <td>SL Malinga</td>\n",
              "      <td>50</td>\n",
              "    </tr>\n",
              "    <tr>\n",
              "      <th>8947</th>\n",
              "      <td>11415</td>\n",
              "      <td>SN Thakur</td>\n",
              "      <td>37</td>\n",
              "    </tr>\n",
              "  </tbody>\n",
              "</table>\n",
              "<p>8948 rows × 3 columns</p>\n",
              "</div>"
            ],
            "text/plain": [
              "      match_id          bowler  total_runs\n",
              "0            1     A Choudhary          55\n",
              "1            1         A Nehra          42\n",
              "2            1         B Kumar          28\n",
              "3            1     BCJ Cutting          35\n",
              "4            1    Bipul Sharma           4\n",
              "...        ...             ...         ...\n",
              "8943     11415  MJ McClenaghan          26\n",
              "8944     11415       RA Jadeja          12\n",
              "8945     11415       RD Chahar          14\n",
              "8946     11415      SL Malinga          50\n",
              "8947     11415       SN Thakur          37\n",
              "\n",
              "[8948 rows x 3 columns]"
            ]
          },
          "metadata": {
            "tags": []
          },
          "execution_count": 216
        }
      ]
    },
    {
      "cell_type": "code",
      "metadata": {
        "colab": {
          "base_uri": "https://localhost:8080/",
          "height": 419
        },
        "id": "PshhrfuxEbQh",
        "outputId": "b700c55b-f885-474b-fd2c-f34d84aa4c6f"
      },
      "source": [
        "total_runs_bowler=pd.merge(total_runs_bowler, match.loc[:,[\"id\",\"Season\"]], left_on='match_id', right_on='id', how='inner')\n",
        "total_runs_bowler"
      ],
      "execution_count": 217,
      "outputs": [
        {
          "output_type": "execute_result",
          "data": {
            "text/html": [
              "<div>\n",
              "<style scoped>\n",
              "    .dataframe tbody tr th:only-of-type {\n",
              "        vertical-align: middle;\n",
              "    }\n",
              "\n",
              "    .dataframe tbody tr th {\n",
              "        vertical-align: top;\n",
              "    }\n",
              "\n",
              "    .dataframe thead th {\n",
              "        text-align: right;\n",
              "    }\n",
              "</style>\n",
              "<table border=\"1\" class=\"dataframe\">\n",
              "  <thead>\n",
              "    <tr style=\"text-align: right;\">\n",
              "      <th></th>\n",
              "      <th>match_id</th>\n",
              "      <th>bowler</th>\n",
              "      <th>total_runs</th>\n",
              "      <th>id</th>\n",
              "      <th>Season</th>\n",
              "    </tr>\n",
              "  </thead>\n",
              "  <tbody>\n",
              "    <tr>\n",
              "      <th>0</th>\n",
              "      <td>1</td>\n",
              "      <td>A Choudhary</td>\n",
              "      <td>55</td>\n",
              "      <td>1</td>\n",
              "      <td>IPL-2017</td>\n",
              "    </tr>\n",
              "    <tr>\n",
              "      <th>1</th>\n",
              "      <td>1</td>\n",
              "      <td>A Nehra</td>\n",
              "      <td>42</td>\n",
              "      <td>1</td>\n",
              "      <td>IPL-2017</td>\n",
              "    </tr>\n",
              "    <tr>\n",
              "      <th>2</th>\n",
              "      <td>1</td>\n",
              "      <td>B Kumar</td>\n",
              "      <td>28</td>\n",
              "      <td>1</td>\n",
              "      <td>IPL-2017</td>\n",
              "    </tr>\n",
              "    <tr>\n",
              "      <th>3</th>\n",
              "      <td>1</td>\n",
              "      <td>BCJ Cutting</td>\n",
              "      <td>35</td>\n",
              "      <td>1</td>\n",
              "      <td>IPL-2017</td>\n",
              "    </tr>\n",
              "    <tr>\n",
              "      <th>4</th>\n",
              "      <td>1</td>\n",
              "      <td>Bipul Sharma</td>\n",
              "      <td>4</td>\n",
              "      <td>1</td>\n",
              "      <td>IPL-2017</td>\n",
              "    </tr>\n",
              "    <tr>\n",
              "      <th>...</th>\n",
              "      <td>...</td>\n",
              "      <td>...</td>\n",
              "      <td>...</td>\n",
              "      <td>...</td>\n",
              "      <td>...</td>\n",
              "    </tr>\n",
              "    <tr>\n",
              "      <th>8943</th>\n",
              "      <td>11415</td>\n",
              "      <td>MJ McClenaghan</td>\n",
              "      <td>26</td>\n",
              "      <td>11415</td>\n",
              "      <td>IPL-2019</td>\n",
              "    </tr>\n",
              "    <tr>\n",
              "      <th>8944</th>\n",
              "      <td>11415</td>\n",
              "      <td>RA Jadeja</td>\n",
              "      <td>12</td>\n",
              "      <td>11415</td>\n",
              "      <td>IPL-2019</td>\n",
              "    </tr>\n",
              "    <tr>\n",
              "      <th>8945</th>\n",
              "      <td>11415</td>\n",
              "      <td>RD Chahar</td>\n",
              "      <td>14</td>\n",
              "      <td>11415</td>\n",
              "      <td>IPL-2019</td>\n",
              "    </tr>\n",
              "    <tr>\n",
              "      <th>8946</th>\n",
              "      <td>11415</td>\n",
              "      <td>SL Malinga</td>\n",
              "      <td>50</td>\n",
              "      <td>11415</td>\n",
              "      <td>IPL-2019</td>\n",
              "    </tr>\n",
              "    <tr>\n",
              "      <th>8947</th>\n",
              "      <td>11415</td>\n",
              "      <td>SN Thakur</td>\n",
              "      <td>37</td>\n",
              "      <td>11415</td>\n",
              "      <td>IPL-2019</td>\n",
              "    </tr>\n",
              "  </tbody>\n",
              "</table>\n",
              "<p>8948 rows × 5 columns</p>\n",
              "</div>"
            ],
            "text/plain": [
              "      match_id          bowler  total_runs     id    Season\n",
              "0            1     A Choudhary          55      1  IPL-2017\n",
              "1            1         A Nehra          42      1  IPL-2017\n",
              "2            1         B Kumar          28      1  IPL-2017\n",
              "3            1     BCJ Cutting          35      1  IPL-2017\n",
              "4            1    Bipul Sharma           4      1  IPL-2017\n",
              "...        ...             ...         ...    ...       ...\n",
              "8943     11415  MJ McClenaghan          26  11415  IPL-2019\n",
              "8944     11415       RA Jadeja          12  11415  IPL-2019\n",
              "8945     11415       RD Chahar          14  11415  IPL-2019\n",
              "8946     11415      SL Malinga          50  11415  IPL-2019\n",
              "8947     11415       SN Thakur          37  11415  IPL-2019\n",
              "\n",
              "[8948 rows x 5 columns]"
            ]
          },
          "metadata": {
            "tags": []
          },
          "execution_count": 217
        }
      ]
    },
    {
      "cell_type": "code",
      "metadata": {
        "id": "H02BloH-E4wk"
      },
      "source": [
        "total_runs_bowler.drop([\"id\"],axis=1,inplace=True)"
      ],
      "execution_count": 218,
      "outputs": []
    },
    {
      "cell_type": "code",
      "metadata": {
        "colab": {
          "base_uri": "https://localhost:8080/",
          "height": 419
        },
        "id": "jVZwONmmFrkG",
        "outputId": "c43e73c8-be99-4231-9d16-27be27b4a9e3"
      },
      "source": [
        "total_runs_bowler"
      ],
      "execution_count": 219,
      "outputs": [
        {
          "output_type": "execute_result",
          "data": {
            "text/html": [
              "<div>\n",
              "<style scoped>\n",
              "    .dataframe tbody tr th:only-of-type {\n",
              "        vertical-align: middle;\n",
              "    }\n",
              "\n",
              "    .dataframe tbody tr th {\n",
              "        vertical-align: top;\n",
              "    }\n",
              "\n",
              "    .dataframe thead th {\n",
              "        text-align: right;\n",
              "    }\n",
              "</style>\n",
              "<table border=\"1\" class=\"dataframe\">\n",
              "  <thead>\n",
              "    <tr style=\"text-align: right;\">\n",
              "      <th></th>\n",
              "      <th>match_id</th>\n",
              "      <th>bowler</th>\n",
              "      <th>total_runs</th>\n",
              "      <th>Season</th>\n",
              "    </tr>\n",
              "  </thead>\n",
              "  <tbody>\n",
              "    <tr>\n",
              "      <th>0</th>\n",
              "      <td>1</td>\n",
              "      <td>A Choudhary</td>\n",
              "      <td>55</td>\n",
              "      <td>IPL-2017</td>\n",
              "    </tr>\n",
              "    <tr>\n",
              "      <th>1</th>\n",
              "      <td>1</td>\n",
              "      <td>A Nehra</td>\n",
              "      <td>42</td>\n",
              "      <td>IPL-2017</td>\n",
              "    </tr>\n",
              "    <tr>\n",
              "      <th>2</th>\n",
              "      <td>1</td>\n",
              "      <td>B Kumar</td>\n",
              "      <td>28</td>\n",
              "      <td>IPL-2017</td>\n",
              "    </tr>\n",
              "    <tr>\n",
              "      <th>3</th>\n",
              "      <td>1</td>\n",
              "      <td>BCJ Cutting</td>\n",
              "      <td>35</td>\n",
              "      <td>IPL-2017</td>\n",
              "    </tr>\n",
              "    <tr>\n",
              "      <th>4</th>\n",
              "      <td>1</td>\n",
              "      <td>Bipul Sharma</td>\n",
              "      <td>4</td>\n",
              "      <td>IPL-2017</td>\n",
              "    </tr>\n",
              "    <tr>\n",
              "      <th>...</th>\n",
              "      <td>...</td>\n",
              "      <td>...</td>\n",
              "      <td>...</td>\n",
              "      <td>...</td>\n",
              "    </tr>\n",
              "    <tr>\n",
              "      <th>8943</th>\n",
              "      <td>11415</td>\n",
              "      <td>MJ McClenaghan</td>\n",
              "      <td>26</td>\n",
              "      <td>IPL-2019</td>\n",
              "    </tr>\n",
              "    <tr>\n",
              "      <th>8944</th>\n",
              "      <td>11415</td>\n",
              "      <td>RA Jadeja</td>\n",
              "      <td>12</td>\n",
              "      <td>IPL-2019</td>\n",
              "    </tr>\n",
              "    <tr>\n",
              "      <th>8945</th>\n",
              "      <td>11415</td>\n",
              "      <td>RD Chahar</td>\n",
              "      <td>14</td>\n",
              "      <td>IPL-2019</td>\n",
              "    </tr>\n",
              "    <tr>\n",
              "      <th>8946</th>\n",
              "      <td>11415</td>\n",
              "      <td>SL Malinga</td>\n",
              "      <td>50</td>\n",
              "      <td>IPL-2019</td>\n",
              "    </tr>\n",
              "    <tr>\n",
              "      <th>8947</th>\n",
              "      <td>11415</td>\n",
              "      <td>SN Thakur</td>\n",
              "      <td>37</td>\n",
              "      <td>IPL-2019</td>\n",
              "    </tr>\n",
              "  </tbody>\n",
              "</table>\n",
              "<p>8948 rows × 4 columns</p>\n",
              "</div>"
            ],
            "text/plain": [
              "      match_id          bowler  total_runs    Season\n",
              "0            1     A Choudhary          55  IPL-2017\n",
              "1            1         A Nehra          42  IPL-2017\n",
              "2            1         B Kumar          28  IPL-2017\n",
              "3            1     BCJ Cutting          35  IPL-2017\n",
              "4            1    Bipul Sharma           4  IPL-2017\n",
              "...        ...             ...         ...       ...\n",
              "8943     11415  MJ McClenaghan          26  IPL-2019\n",
              "8944     11415       RA Jadeja          12  IPL-2019\n",
              "8945     11415       RD Chahar          14  IPL-2019\n",
              "8946     11415      SL Malinga          50  IPL-2019\n",
              "8947     11415       SN Thakur          37  IPL-2019\n",
              "\n",
              "[8948 rows x 4 columns]"
            ]
          },
          "metadata": {
            "tags": []
          },
          "execution_count": 219
        }
      ]
    },
    {
      "cell_type": "code",
      "metadata": {
        "colab": {
          "base_uri": "https://localhost:8080/",
          "height": 204
        },
        "id": "f93R9ngbF4Hd",
        "outputId": "72069586-5bd0-4907-f05a-3e2c85317cfc"
      },
      "source": [
        "Players.head()"
      ],
      "execution_count": 220,
      "outputs": [
        {
          "output_type": "execute_result",
          "data": {
            "text/html": [
              "<div>\n",
              "<style scoped>\n",
              "    .dataframe tbody tr th:only-of-type {\n",
              "        vertical-align: middle;\n",
              "    }\n",
              "\n",
              "    .dataframe tbody tr th {\n",
              "        vertical-align: top;\n",
              "    }\n",
              "\n",
              "    .dataframe thead th {\n",
              "        text-align: right;\n",
              "    }\n",
              "</style>\n",
              "<table border=\"1\" class=\"dataframe\">\n",
              "  <thead>\n",
              "    <tr style=\"text-align: right;\">\n",
              "      <th></th>\n",
              "      <th>Player_Name</th>\n",
              "      <th>DOB</th>\n",
              "      <th>Batting_Hand</th>\n",
              "      <th>Bowling_Skill</th>\n",
              "      <th>Country</th>\n",
              "    </tr>\n",
              "  </thead>\n",
              "  <tbody>\n",
              "    <tr>\n",
              "      <th>0</th>\n",
              "      <td>A Ashish Reddy</td>\n",
              "      <td>1991-02-24</td>\n",
              "      <td>Right_Hand</td>\n",
              "      <td>Right-arm medium</td>\n",
              "      <td>India</td>\n",
              "    </tr>\n",
              "    <tr>\n",
              "      <th>1</th>\n",
              "      <td>A Chandila</td>\n",
              "      <td>1983-12-05</td>\n",
              "      <td>Right_Hand</td>\n",
              "      <td>Right-arm offbreak</td>\n",
              "      <td>India</td>\n",
              "    </tr>\n",
              "    <tr>\n",
              "      <th>2</th>\n",
              "      <td>A Chopra</td>\n",
              "      <td>1977-09-19</td>\n",
              "      <td>Right_Hand</td>\n",
              "      <td>Right-arm offbreak</td>\n",
              "      <td>India</td>\n",
              "    </tr>\n",
              "    <tr>\n",
              "      <th>3</th>\n",
              "      <td>A Choudhary</td>\n",
              "      <td>NaT</td>\n",
              "      <td>Right_hand</td>\n",
              "      <td>Left-arm fast-medium</td>\n",
              "      <td>NaN</td>\n",
              "    </tr>\n",
              "    <tr>\n",
              "      <th>4</th>\n",
              "      <td>A Dananjaya</td>\n",
              "      <td>NaT</td>\n",
              "      <td>Right_Hand</td>\n",
              "      <td>Right-arm offbreak</td>\n",
              "      <td>NaN</td>\n",
              "    </tr>\n",
              "  </tbody>\n",
              "</table>\n",
              "</div>"
            ],
            "text/plain": [
              "      Player_Name        DOB Batting_Hand         Bowling_Skill Country\n",
              "0  A Ashish Reddy 1991-02-24   Right_Hand      Right-arm medium   India\n",
              "1      A Chandila 1983-12-05   Right_Hand    Right-arm offbreak   India\n",
              "2        A Chopra 1977-09-19   Right_Hand    Right-arm offbreak   India\n",
              "3     A Choudhary        NaT   Right_hand  Left-arm fast-medium     NaN\n",
              "4     A Dananjaya        NaT   Right_Hand    Right-arm offbreak     NaN"
            ]
          },
          "metadata": {
            "tags": []
          },
          "execution_count": 220
        }
      ]
    },
    {
      "cell_type": "code",
      "metadata": {
        "id": "DTPn8nZ7Gi3c"
      },
      "source": [
        "total_runs_bowler=pd.merge(total_runs_bowler, Players.loc[:,[\"Player_Name\",\"Bowling_Skill\"]], left_on='bowler', right_on='Player_Name', how='inner')\n"
      ],
      "execution_count": 222,
      "outputs": []
    },
    {
      "cell_type": "code",
      "metadata": {
        "colab": {
          "base_uri": "https://localhost:8080/"
        },
        "id": "PF9O-4wSXymY",
        "outputId": "6274ed66-3ce2-4593-e3a4-da739947934b"
      },
      "source": [
        "unique_Bowling_list=list(Players.Bowling_Skill.unique())\n",
        "unique_Bowling_list"
      ],
      "execution_count": 232,
      "outputs": [
        {
          "output_type": "execute_result",
          "data": {
            "text/plain": [
              "['Right-arm medium',\n",
              " 'Right-arm offbreak',\n",
              " 'Left-arm fast-medium',\n",
              " 'Right-arm fast-medium',\n",
              " nan,\n",
              " 'Right-arm fast',\n",
              " 'Legbreak googly',\n",
              " 'Legbreak',\n",
              " 'Left-arm medium-fast',\n",
              " 'Slow left-arm orthodox',\n",
              " 'Right-arm medium-fast',\n",
              " 'Left-arm medium',\n",
              " 'Left-arm fast',\n",
              " 'Slow left-arm chinaman',\n",
              " 'Right-arm bowler',\n",
              " 'Right-arm Medium',\n",
              " 'Right-arm Fast']"
            ]
          },
          "metadata": {
            "tags": []
          },
          "execution_count": 232
        }
      ]
    },
    {
      "cell_type": "code",
      "metadata": {
        "colab": {
          "base_uri": "https://localhost:8080/",
          "height": 419
        },
        "id": "SbR4MhX4G-mS",
        "outputId": "e0f122d0-bb5f-4688-b2f2-f72c7958d915"
      },
      "source": [
        "total_runs_bowler"
      ],
      "execution_count": 196,
      "outputs": [
        {
          "output_type": "execute_result",
          "data": {
            "text/html": [
              "<div>\n",
              "<style scoped>\n",
              "    .dataframe tbody tr th:only-of-type {\n",
              "        vertical-align: middle;\n",
              "    }\n",
              "\n",
              "    .dataframe tbody tr th {\n",
              "        vertical-align: top;\n",
              "    }\n",
              "\n",
              "    .dataframe thead th {\n",
              "        text-align: right;\n",
              "    }\n",
              "</style>\n",
              "<table border=\"1\" class=\"dataframe\">\n",
              "  <thead>\n",
              "    <tr style=\"text-align: right;\">\n",
              "      <th></th>\n",
              "      <th>match_id</th>\n",
              "      <th>bowler</th>\n",
              "      <th>total_runs</th>\n",
              "      <th>Season</th>\n",
              "      <th>Player_Name</th>\n",
              "      <th>Bowling_Skill</th>\n",
              "    </tr>\n",
              "  </thead>\n",
              "  <tbody>\n",
              "    <tr>\n",
              "      <th>0</th>\n",
              "      <td>1</td>\n",
              "      <td>A Choudhary</td>\n",
              "      <td>55</td>\n",
              "      <td>IPL-2017</td>\n",
              "      <td>A Choudhary</td>\n",
              "      <td>Left-arm fast-medium</td>\n",
              "    </tr>\n",
              "    <tr>\n",
              "      <th>1</th>\n",
              "      <td>30</td>\n",
              "      <td>A Choudhary</td>\n",
              "      <td>21</td>\n",
              "      <td>IPL-2017</td>\n",
              "      <td>A Choudhary</td>\n",
              "      <td>Left-arm fast-medium</td>\n",
              "    </tr>\n",
              "    <tr>\n",
              "      <th>2</th>\n",
              "      <td>37</td>\n",
              "      <td>A Choudhary</td>\n",
              "      <td>32</td>\n",
              "      <td>IPL-2017</td>\n",
              "      <td>A Choudhary</td>\n",
              "      <td>Left-arm fast-medium</td>\n",
              "    </tr>\n",
              "    <tr>\n",
              "      <th>3</th>\n",
              "      <td>42</td>\n",
              "      <td>A Choudhary</td>\n",
              "      <td>17</td>\n",
              "      <td>IPL-2017</td>\n",
              "      <td>A Choudhary</td>\n",
              "      <td>Left-arm fast-medium</td>\n",
              "    </tr>\n",
              "    <tr>\n",
              "      <th>4</th>\n",
              "      <td>45</td>\n",
              "      <td>A Choudhary</td>\n",
              "      <td>19</td>\n",
              "      <td>IPL-2017</td>\n",
              "      <td>A Choudhary</td>\n",
              "      <td>Left-arm fast-medium</td>\n",
              "    </tr>\n",
              "    <tr>\n",
              "      <th>...</th>\n",
              "      <td>...</td>\n",
              "      <td>...</td>\n",
              "      <td>...</td>\n",
              "      <td>...</td>\n",
              "      <td>...</td>\n",
              "      <td>...</td>\n",
              "    </tr>\n",
              "    <tr>\n",
              "      <th>8943</th>\n",
              "      <td>11344</td>\n",
              "      <td>O Thomas</td>\n",
              "      <td>13</td>\n",
              "      <td>IPL-2019</td>\n",
              "      <td>O Thomas</td>\n",
              "      <td>Right-arm fast</td>\n",
              "    </tr>\n",
              "    <tr>\n",
              "      <th>8944</th>\n",
              "      <td>11335</td>\n",
              "      <td>A Roy</td>\n",
              "      <td>14</td>\n",
              "      <td>IPL-2019</td>\n",
              "      <td>A Roy</td>\n",
              "      <td>Slow left-arm orthodox</td>\n",
              "    </tr>\n",
              "    <tr>\n",
              "      <th>8945</th>\n",
              "      <td>11338</td>\n",
              "      <td>S Warrier</td>\n",
              "      <td>31</td>\n",
              "      <td>IPL-2019</td>\n",
              "      <td>S Warrier</td>\n",
              "      <td>Right-arm fast-medium</td>\n",
              "    </tr>\n",
              "    <tr>\n",
              "      <th>8946</th>\n",
              "      <td>11343</td>\n",
              "      <td>S Warrier</td>\n",
              "      <td>31</td>\n",
              "      <td>IPL-2019</td>\n",
              "      <td>S Warrier</td>\n",
              "      <td>Right-arm fast-medium</td>\n",
              "    </tr>\n",
              "    <tr>\n",
              "      <th>8947</th>\n",
              "      <td>11347</td>\n",
              "      <td>S Warrier</td>\n",
              "      <td>26</td>\n",
              "      <td>IPL-2019</td>\n",
              "      <td>S Warrier</td>\n",
              "      <td>Right-arm fast-medium</td>\n",
              "    </tr>\n",
              "  </tbody>\n",
              "</table>\n",
              "<p>8948 rows × 6 columns</p>\n",
              "</div>"
            ],
            "text/plain": [
              "      match_id       bowler  ...  Player_Name           Bowling_Skill\n",
              "0            1  A Choudhary  ...  A Choudhary    Left-arm fast-medium\n",
              "1           30  A Choudhary  ...  A Choudhary    Left-arm fast-medium\n",
              "2           37  A Choudhary  ...  A Choudhary    Left-arm fast-medium\n",
              "3           42  A Choudhary  ...  A Choudhary    Left-arm fast-medium\n",
              "4           45  A Choudhary  ...  A Choudhary    Left-arm fast-medium\n",
              "...        ...          ...  ...          ...                     ...\n",
              "8943     11344     O Thomas  ...     O Thomas          Right-arm fast\n",
              "8944     11335        A Roy  ...        A Roy  Slow left-arm orthodox\n",
              "8945     11338    S Warrier  ...    S Warrier   Right-arm fast-medium\n",
              "8946     11343    S Warrier  ...    S Warrier   Right-arm fast-medium\n",
              "8947     11347    S Warrier  ...    S Warrier   Right-arm fast-medium\n",
              "\n",
              "[8948 rows x 6 columns]"
            ]
          },
          "metadata": {
            "tags": []
          },
          "execution_count": 196
        }
      ]
    },
    {
      "cell_type": "code",
      "metadata": {
        "id": "WiS7KI81Xe_H"
      },
      "source": [
        "def classify(x):\n",
        "  if \"fast\" in x or \"medium\" in x:\n",
        "    return \"Pacer\"\n",
        "  else:\n",
        "     return \"Spinner\"\n",
        "total_runs_bowler[\"Broader_classification\"]=total_runs_bowler[\"Bowling_Skill\"].apply(lambda x: classify(x))"
      ],
      "execution_count": 223,
      "outputs": []
    },
    {
      "cell_type": "code",
      "metadata": {
        "id": "VmdR-8b5XgFq"
      },
      "source": [
        "total_runs_bowler.drop(\"Bowling_Skill\",inplace=True,axis=1)"
      ],
      "execution_count": 224,
      "outputs": []
    },
    {
      "cell_type": "code",
      "metadata": {
        "colab": {
          "base_uri": "https://localhost:8080/",
          "height": 419
        },
        "id": "Y-w3PtB7Xkoo",
        "outputId": "b444b24f-53af-4c88-b961-0910bd399530"
      },
      "source": [
        "total_runs_bowler"
      ],
      "execution_count": 225,
      "outputs": [
        {
          "output_type": "execute_result",
          "data": {
            "text/html": [
              "<div>\n",
              "<style scoped>\n",
              "    .dataframe tbody tr th:only-of-type {\n",
              "        vertical-align: middle;\n",
              "    }\n",
              "\n",
              "    .dataframe tbody tr th {\n",
              "        vertical-align: top;\n",
              "    }\n",
              "\n",
              "    .dataframe thead th {\n",
              "        text-align: right;\n",
              "    }\n",
              "</style>\n",
              "<table border=\"1\" class=\"dataframe\">\n",
              "  <thead>\n",
              "    <tr style=\"text-align: right;\">\n",
              "      <th></th>\n",
              "      <th>match_id</th>\n",
              "      <th>bowler</th>\n",
              "      <th>total_runs</th>\n",
              "      <th>Season</th>\n",
              "      <th>Player_Name</th>\n",
              "      <th>Broader_classification</th>\n",
              "    </tr>\n",
              "  </thead>\n",
              "  <tbody>\n",
              "    <tr>\n",
              "      <th>0</th>\n",
              "      <td>1</td>\n",
              "      <td>A Choudhary</td>\n",
              "      <td>55</td>\n",
              "      <td>IPL-2017</td>\n",
              "      <td>A Choudhary</td>\n",
              "      <td>Pacer</td>\n",
              "    </tr>\n",
              "    <tr>\n",
              "      <th>1</th>\n",
              "      <td>30</td>\n",
              "      <td>A Choudhary</td>\n",
              "      <td>21</td>\n",
              "      <td>IPL-2017</td>\n",
              "      <td>A Choudhary</td>\n",
              "      <td>Pacer</td>\n",
              "    </tr>\n",
              "    <tr>\n",
              "      <th>2</th>\n",
              "      <td>37</td>\n",
              "      <td>A Choudhary</td>\n",
              "      <td>32</td>\n",
              "      <td>IPL-2017</td>\n",
              "      <td>A Choudhary</td>\n",
              "      <td>Pacer</td>\n",
              "    </tr>\n",
              "    <tr>\n",
              "      <th>3</th>\n",
              "      <td>42</td>\n",
              "      <td>A Choudhary</td>\n",
              "      <td>17</td>\n",
              "      <td>IPL-2017</td>\n",
              "      <td>A Choudhary</td>\n",
              "      <td>Pacer</td>\n",
              "    </tr>\n",
              "    <tr>\n",
              "      <th>4</th>\n",
              "      <td>45</td>\n",
              "      <td>A Choudhary</td>\n",
              "      <td>19</td>\n",
              "      <td>IPL-2017</td>\n",
              "      <td>A Choudhary</td>\n",
              "      <td>Pacer</td>\n",
              "    </tr>\n",
              "    <tr>\n",
              "      <th>...</th>\n",
              "      <td>...</td>\n",
              "      <td>...</td>\n",
              "      <td>...</td>\n",
              "      <td>...</td>\n",
              "      <td>...</td>\n",
              "      <td>...</td>\n",
              "    </tr>\n",
              "    <tr>\n",
              "      <th>8943</th>\n",
              "      <td>11344</td>\n",
              "      <td>O Thomas</td>\n",
              "      <td>13</td>\n",
              "      <td>IPL-2019</td>\n",
              "      <td>O Thomas</td>\n",
              "      <td>Pacer</td>\n",
              "    </tr>\n",
              "    <tr>\n",
              "      <th>8944</th>\n",
              "      <td>11335</td>\n",
              "      <td>A Roy</td>\n",
              "      <td>14</td>\n",
              "      <td>IPL-2019</td>\n",
              "      <td>A Roy</td>\n",
              "      <td>Spinner</td>\n",
              "    </tr>\n",
              "    <tr>\n",
              "      <th>8945</th>\n",
              "      <td>11338</td>\n",
              "      <td>S Warrier</td>\n",
              "      <td>31</td>\n",
              "      <td>IPL-2019</td>\n",
              "      <td>S Warrier</td>\n",
              "      <td>Pacer</td>\n",
              "    </tr>\n",
              "    <tr>\n",
              "      <th>8946</th>\n",
              "      <td>11343</td>\n",
              "      <td>S Warrier</td>\n",
              "      <td>31</td>\n",
              "      <td>IPL-2019</td>\n",
              "      <td>S Warrier</td>\n",
              "      <td>Pacer</td>\n",
              "    </tr>\n",
              "    <tr>\n",
              "      <th>8947</th>\n",
              "      <td>11347</td>\n",
              "      <td>S Warrier</td>\n",
              "      <td>26</td>\n",
              "      <td>IPL-2019</td>\n",
              "      <td>S Warrier</td>\n",
              "      <td>Pacer</td>\n",
              "    </tr>\n",
              "  </tbody>\n",
              "</table>\n",
              "<p>8948 rows × 6 columns</p>\n",
              "</div>"
            ],
            "text/plain": [
              "      match_id       bowler  ...  Player_Name Broader_classification\n",
              "0            1  A Choudhary  ...  A Choudhary                  Pacer\n",
              "1           30  A Choudhary  ...  A Choudhary                  Pacer\n",
              "2           37  A Choudhary  ...  A Choudhary                  Pacer\n",
              "3           42  A Choudhary  ...  A Choudhary                  Pacer\n",
              "4           45  A Choudhary  ...  A Choudhary                  Pacer\n",
              "...        ...          ...  ...          ...                    ...\n",
              "8943     11344     O Thomas  ...     O Thomas                  Pacer\n",
              "8944     11335        A Roy  ...        A Roy                Spinner\n",
              "8945     11338    S Warrier  ...    S Warrier                  Pacer\n",
              "8946     11343    S Warrier  ...    S Warrier                  Pacer\n",
              "8947     11347    S Warrier  ...    S Warrier                  Pacer\n",
              "\n",
              "[8948 rows x 6 columns]"
            ]
          },
          "metadata": {
            "tags": []
          },
          "execution_count": 225
        }
      ]
    },
    {
      "cell_type": "code",
      "metadata": {
        "id": "btJcvSOnHAdT"
      },
      "source": [
        "total_runs_bowler=total_runs_bowler.groupby([\"Season\",\"Broader_classification\"]).agg({\"total_runs\":\"sum\"})"
      ],
      "execution_count": 226,
      "outputs": []
    },
    {
      "cell_type": "code",
      "metadata": {
        "colab": {
          "base_uri": "https://localhost:8080/",
          "height": 793
        },
        "id": "zBFwELP1Hrze",
        "outputId": "144f5b71-a020-4009-9de3-99e4599c0022"
      },
      "source": [
        "total_runs_bowler.reset_index(inplace=True)\n",
        "total_runs_bowler"
      ],
      "execution_count": 227,
      "outputs": [
        {
          "output_type": "execute_result",
          "data": {
            "text/html": [
              "<div>\n",
              "<style scoped>\n",
              "    .dataframe tbody tr th:only-of-type {\n",
              "        vertical-align: middle;\n",
              "    }\n",
              "\n",
              "    .dataframe tbody tr th {\n",
              "        vertical-align: top;\n",
              "    }\n",
              "\n",
              "    .dataframe thead th {\n",
              "        text-align: right;\n",
              "    }\n",
              "</style>\n",
              "<table border=\"1\" class=\"dataframe\">\n",
              "  <thead>\n",
              "    <tr style=\"text-align: right;\">\n",
              "      <th></th>\n",
              "      <th>Season</th>\n",
              "      <th>Broader_classification</th>\n",
              "      <th>total_runs</th>\n",
              "    </tr>\n",
              "  </thead>\n",
              "  <tbody>\n",
              "    <tr>\n",
              "      <th>0</th>\n",
              "      <td>IPL-2008</td>\n",
              "      <td>Pacer</td>\n",
              "      <td>13662</td>\n",
              "    </tr>\n",
              "    <tr>\n",
              "      <th>1</th>\n",
              "      <td>IPL-2008</td>\n",
              "      <td>Spinner</td>\n",
              "      <td>4275</td>\n",
              "    </tr>\n",
              "    <tr>\n",
              "      <th>2</th>\n",
              "      <td>IPL-2009</td>\n",
              "      <td>Pacer</td>\n",
              "      <td>10223</td>\n",
              "    </tr>\n",
              "    <tr>\n",
              "      <th>3</th>\n",
              "      <td>IPL-2009</td>\n",
              "      <td>Spinner</td>\n",
              "      <td>6130</td>\n",
              "    </tr>\n",
              "    <tr>\n",
              "      <th>4</th>\n",
              "      <td>IPL-2010</td>\n",
              "      <td>Pacer</td>\n",
              "      <td>12119</td>\n",
              "    </tr>\n",
              "    <tr>\n",
              "      <th>5</th>\n",
              "      <td>IPL-2010</td>\n",
              "      <td>Spinner</td>\n",
              "      <td>6764</td>\n",
              "    </tr>\n",
              "    <tr>\n",
              "      <th>6</th>\n",
              "      <td>IPL-2011</td>\n",
              "      <td>Pacer</td>\n",
              "      <td>13466</td>\n",
              "    </tr>\n",
              "    <tr>\n",
              "      <th>7</th>\n",
              "      <td>IPL-2011</td>\n",
              "      <td>Spinner</td>\n",
              "      <td>7632</td>\n",
              "    </tr>\n",
              "    <tr>\n",
              "      <th>8</th>\n",
              "      <td>IPL-2012</td>\n",
              "      <td>Pacer</td>\n",
              "      <td>14570</td>\n",
              "    </tr>\n",
              "    <tr>\n",
              "      <th>9</th>\n",
              "      <td>IPL-2012</td>\n",
              "      <td>Spinner</td>\n",
              "      <td>7883</td>\n",
              "    </tr>\n",
              "    <tr>\n",
              "      <th>10</th>\n",
              "      <td>IPL-2013</td>\n",
              "      <td>Pacer</td>\n",
              "      <td>16490</td>\n",
              "    </tr>\n",
              "    <tr>\n",
              "      <th>11</th>\n",
              "      <td>IPL-2013</td>\n",
              "      <td>Spinner</td>\n",
              "      <td>6112</td>\n",
              "    </tr>\n",
              "    <tr>\n",
              "      <th>12</th>\n",
              "      <td>IPL-2014</td>\n",
              "      <td>Pacer</td>\n",
              "      <td>11868</td>\n",
              "    </tr>\n",
              "    <tr>\n",
              "      <th>13</th>\n",
              "      <td>IPL-2014</td>\n",
              "      <td>Spinner</td>\n",
              "      <td>7063</td>\n",
              "    </tr>\n",
              "    <tr>\n",
              "      <th>14</th>\n",
              "      <td>IPL-2015</td>\n",
              "      <td>Pacer</td>\n",
              "      <td>12058</td>\n",
              "    </tr>\n",
              "    <tr>\n",
              "      <th>15</th>\n",
              "      <td>IPL-2015</td>\n",
              "      <td>Spinner</td>\n",
              "      <td>5906</td>\n",
              "    </tr>\n",
              "    <tr>\n",
              "      <th>16</th>\n",
              "      <td>IPL-2016</td>\n",
              "      <td>Pacer</td>\n",
              "      <td>12179</td>\n",
              "    </tr>\n",
              "    <tr>\n",
              "      <th>17</th>\n",
              "      <td>IPL-2016</td>\n",
              "      <td>Spinner</td>\n",
              "      <td>6683</td>\n",
              "    </tr>\n",
              "    <tr>\n",
              "      <th>18</th>\n",
              "      <td>IPL-2017</td>\n",
              "      <td>Pacer</td>\n",
              "      <td>12465</td>\n",
              "    </tr>\n",
              "    <tr>\n",
              "      <th>19</th>\n",
              "      <td>IPL-2017</td>\n",
              "      <td>Spinner</td>\n",
              "      <td>6321</td>\n",
              "    </tr>\n",
              "    <tr>\n",
              "      <th>20</th>\n",
              "      <td>IPL-2018</td>\n",
              "      <td>Pacer</td>\n",
              "      <td>12852</td>\n",
              "    </tr>\n",
              "    <tr>\n",
              "      <th>21</th>\n",
              "      <td>IPL-2018</td>\n",
              "      <td>Spinner</td>\n",
              "      <td>7854</td>\n",
              "    </tr>\n",
              "    <tr>\n",
              "      <th>22</th>\n",
              "      <td>IPL-2019</td>\n",
              "      <td>Pacer</td>\n",
              "      <td>12464</td>\n",
              "    </tr>\n",
              "    <tr>\n",
              "      <th>23</th>\n",
              "      <td>IPL-2019</td>\n",
              "      <td>Spinner</td>\n",
              "      <td>7699</td>\n",
              "    </tr>\n",
              "  </tbody>\n",
              "</table>\n",
              "</div>"
            ],
            "text/plain": [
              "      Season Broader_classification  total_runs\n",
              "0   IPL-2008                  Pacer       13662\n",
              "1   IPL-2008                Spinner        4275\n",
              "2   IPL-2009                  Pacer       10223\n",
              "3   IPL-2009                Spinner        6130\n",
              "4   IPL-2010                  Pacer       12119\n",
              "5   IPL-2010                Spinner        6764\n",
              "6   IPL-2011                  Pacer       13466\n",
              "7   IPL-2011                Spinner        7632\n",
              "8   IPL-2012                  Pacer       14570\n",
              "9   IPL-2012                Spinner        7883\n",
              "10  IPL-2013                  Pacer       16490\n",
              "11  IPL-2013                Spinner        6112\n",
              "12  IPL-2014                  Pacer       11868\n",
              "13  IPL-2014                Spinner        7063\n",
              "14  IPL-2015                  Pacer       12058\n",
              "15  IPL-2015                Spinner        5906\n",
              "16  IPL-2016                  Pacer       12179\n",
              "17  IPL-2016                Spinner        6683\n",
              "18  IPL-2017                  Pacer       12465\n",
              "19  IPL-2017                Spinner        6321\n",
              "20  IPL-2018                  Pacer       12852\n",
              "21  IPL-2018                Spinner        7854\n",
              "22  IPL-2019                  Pacer       12464\n",
              "23  IPL-2019                Spinner        7699"
            ]
          },
          "metadata": {
            "tags": []
          },
          "execution_count": 227
        }
      ]
    },
    {
      "cell_type": "code",
      "metadata": {
        "id": "YFYFbjT6H1cB"
      },
      "source": [
        ""
      ],
      "execution_count": 229,
      "outputs": []
    },
    {
      "cell_type": "code",
      "metadata": {
        "colab": {
          "base_uri": "https://localhost:8080/",
          "height": 452
        },
        "id": "vrWbOprtJf6S",
        "outputId": "589492ef-6755-4575-e97d-fb51a2229272"
      },
      "source": [
        "df = total_runs_bowler.pivot(index='Season', columns='Broader_classification', values='total_runs')\n",
        "df.replace(np.NaN,0,inplace=True)\n",
        "df"
      ],
      "execution_count": 233,
      "outputs": [
        {
          "output_type": "execute_result",
          "data": {
            "text/html": [
              "<div>\n",
              "<style scoped>\n",
              "    .dataframe tbody tr th:only-of-type {\n",
              "        vertical-align: middle;\n",
              "    }\n",
              "\n",
              "    .dataframe tbody tr th {\n",
              "        vertical-align: top;\n",
              "    }\n",
              "\n",
              "    .dataframe thead th {\n",
              "        text-align: right;\n",
              "    }\n",
              "</style>\n",
              "<table border=\"1\" class=\"dataframe\">\n",
              "  <thead>\n",
              "    <tr style=\"text-align: right;\">\n",
              "      <th>Broader_classification</th>\n",
              "      <th>Pacer</th>\n",
              "      <th>Spinner</th>\n",
              "    </tr>\n",
              "    <tr>\n",
              "      <th>Season</th>\n",
              "      <th></th>\n",
              "      <th></th>\n",
              "    </tr>\n",
              "  </thead>\n",
              "  <tbody>\n",
              "    <tr>\n",
              "      <th>IPL-2008</th>\n",
              "      <td>13662</td>\n",
              "      <td>4275</td>\n",
              "    </tr>\n",
              "    <tr>\n",
              "      <th>IPL-2009</th>\n",
              "      <td>10223</td>\n",
              "      <td>6130</td>\n",
              "    </tr>\n",
              "    <tr>\n",
              "      <th>IPL-2010</th>\n",
              "      <td>12119</td>\n",
              "      <td>6764</td>\n",
              "    </tr>\n",
              "    <tr>\n",
              "      <th>IPL-2011</th>\n",
              "      <td>13466</td>\n",
              "      <td>7632</td>\n",
              "    </tr>\n",
              "    <tr>\n",
              "      <th>IPL-2012</th>\n",
              "      <td>14570</td>\n",
              "      <td>7883</td>\n",
              "    </tr>\n",
              "    <tr>\n",
              "      <th>IPL-2013</th>\n",
              "      <td>16490</td>\n",
              "      <td>6112</td>\n",
              "    </tr>\n",
              "    <tr>\n",
              "      <th>IPL-2014</th>\n",
              "      <td>11868</td>\n",
              "      <td>7063</td>\n",
              "    </tr>\n",
              "    <tr>\n",
              "      <th>IPL-2015</th>\n",
              "      <td>12058</td>\n",
              "      <td>5906</td>\n",
              "    </tr>\n",
              "    <tr>\n",
              "      <th>IPL-2016</th>\n",
              "      <td>12179</td>\n",
              "      <td>6683</td>\n",
              "    </tr>\n",
              "    <tr>\n",
              "      <th>IPL-2017</th>\n",
              "      <td>12465</td>\n",
              "      <td>6321</td>\n",
              "    </tr>\n",
              "    <tr>\n",
              "      <th>IPL-2018</th>\n",
              "      <td>12852</td>\n",
              "      <td>7854</td>\n",
              "    </tr>\n",
              "    <tr>\n",
              "      <th>IPL-2019</th>\n",
              "      <td>12464</td>\n",
              "      <td>7699</td>\n",
              "    </tr>\n",
              "  </tbody>\n",
              "</table>\n",
              "</div>"
            ],
            "text/plain": [
              "Broader_classification  Pacer  Spinner\n",
              "Season                                \n",
              "IPL-2008                13662     4275\n",
              "IPL-2009                10223     6130\n",
              "IPL-2010                12119     6764\n",
              "IPL-2011                13466     7632\n",
              "IPL-2012                14570     7883\n",
              "IPL-2013                16490     6112\n",
              "IPL-2014                11868     7063\n",
              "IPL-2015                12058     5906\n",
              "IPL-2016                12179     6683\n",
              "IPL-2017                12465     6321\n",
              "IPL-2018                12852     7854\n",
              "IPL-2019                12464     7699"
            ]
          },
          "metadata": {
            "tags": []
          },
          "execution_count": 233
        }
      ]
    },
    {
      "cell_type": "code",
      "metadata": {
        "colab": {
          "base_uri": "https://localhost:8080/",
          "height": 351
        },
        "id": "q2CtMeYtKAlp",
        "outputId": "84637e3f-c30a-498e-a756-f81fbcdc8a72"
      },
      "source": [
        "\n",
        "df.plot(figsize=(10,5))\n",
        "plt.legend(loc='right')"
      ],
      "execution_count": 236,
      "outputs": [
        {
          "output_type": "execute_result",
          "data": {
            "text/plain": [
              "<matplotlib.legend.Legend at 0x7f3c1128d8d0>"
            ]
          },
          "metadata": {
            "tags": []
          },
          "execution_count": 236
        },
        {
          "output_type": "display_data",
          "data": {
            "image/png": "[encoded data removed]",
            "text/plain": [
              "<Figure size 720x360 with 1 Axes>"
            ]
          },
          "metadata": {
            "tags": [],
            "needs_background": "light"
          }
        }
      ]
    },
    {
      "cell_type": "code",
      "metadata": {
        "colab": {
          "base_uri": "https://localhost:8080/"
        },
        "id": "n7BPclH-OvrF",
        "outputId": "8e4387ae-910a-4c10-f84b-c22b54b94159"
      },
      "source": [
        "Players.Batting_Hand.unique()"
      ],
      "execution_count": 181,
      "outputs": [
        {
          "output_type": "execute_result",
          "data": {
            "text/plain": [
              "array(['Right_Hand', 'Right_hand', 'Left_Hand', nan], dtype=object)"
            ]
          },
          "metadata": {
            "tags": []
          },
          "execution_count": 181
        }
      ]
    },
    {
      "cell_type": "code",
      "metadata": {
        "colab": {
          "base_uri": "https://localhost:8080/",
          "height": 503
        },
        "id": "X88hmIw5RYxc",
        "outputId": "1cd910a0-957b-40a1-bdd5-192d6085a0df"
      },
      "source": [
        "df"
      ],
      "execution_count": 182,
      "outputs": [
        {
          "output_type": "execute_result",
          "data": {
            "text/html": [
              "<div>\n",
              "<style scoped>\n",
              "    .dataframe tbody tr th:only-of-type {\n",
              "        vertical-align: middle;\n",
              "    }\n",
              "\n",
              "    .dataframe tbody tr th {\n",
              "        vertical-align: top;\n",
              "    }\n",
              "\n",
              "    .dataframe thead th {\n",
              "        text-align: right;\n",
              "    }\n",
              "</style>\n",
              "<table border=\"1\" class=\"dataframe\">\n",
              "  <thead>\n",
              "    <tr style=\"text-align: right;\">\n",
              "      <th>Bowling_Skill</th>\n",
              "      <th>Left-arm fast</th>\n",
              "      <th>Left-arm fast-medium</th>\n",
              "      <th>Left-arm medium</th>\n",
              "      <th>Left-arm medium-fast</th>\n",
              "      <th>Legbreak</th>\n",
              "      <th>Legbreak googly</th>\n",
              "      <th>Right-arm Fast</th>\n",
              "      <th>Right-arm Medium</th>\n",
              "      <th>Right-arm fast</th>\n",
              "      <th>Right-arm fast-medium</th>\n",
              "      <th>Right-arm medium</th>\n",
              "      <th>Right-arm medium-fast</th>\n",
              "      <th>Right-arm offbreak</th>\n",
              "      <th>Slow left-arm chinaman</th>\n",
              "      <th>Slow left-arm orthodox</th>\n",
              "    </tr>\n",
              "    <tr>\n",
              "      <th>Season</th>\n",
              "      <th></th>\n",
              "      <th></th>\n",
              "      <th></th>\n",
              "      <th></th>\n",
              "      <th></th>\n",
              "      <th></th>\n",
              "      <th></th>\n",
              "      <th></th>\n",
              "      <th></th>\n",
              "      <th></th>\n",
              "      <th></th>\n",
              "      <th></th>\n",
              "      <th></th>\n",
              "      <th></th>\n",
              "      <th></th>\n",
              "    </tr>\n",
              "  </thead>\n",
              "  <tbody>\n",
              "    <tr>\n",
              "      <th>IPL-2008</th>\n",
              "      <td>NaN</td>\n",
              "      <td>1074.0</td>\n",
              "      <td>221.0</td>\n",
              "      <td>993.0</td>\n",
              "      <td>637.0</td>\n",
              "      <td>1003.0</td>\n",
              "      <td>NaN</td>\n",
              "      <td>NaN</td>\n",
              "      <td>905.0</td>\n",
              "      <td>3839.0</td>\n",
              "      <td>3287.0</td>\n",
              "      <td>3343.0</td>\n",
              "      <td>1726.0</td>\n",
              "      <td>NaN</td>\n",
              "      <td>909.0</td>\n",
              "    </tr>\n",
              "    <tr>\n",
              "      <th>IPL-2009</th>\n",
              "      <td>384.0</td>\n",
              "      <td>950.0</td>\n",
              "      <td>385.0</td>\n",
              "      <td>900.0</td>\n",
              "      <td>683.0</td>\n",
              "      <td>770.0</td>\n",
              "      <td>NaN</td>\n",
              "      <td>NaN</td>\n",
              "      <td>1237.0</td>\n",
              "      <td>2019.0</td>\n",
              "      <td>2487.0</td>\n",
              "      <td>1861.0</td>\n",
              "      <td>2685.0</td>\n",
              "      <td>NaN</td>\n",
              "      <td>1992.0</td>\n",
              "    </tr>\n",
              "    <tr>\n",
              "      <th>IPL-2010</th>\n",
              "      <td>235.0</td>\n",
              "      <td>1560.0</td>\n",
              "      <td>412.0</td>\n",
              "      <td>606.0</td>\n",
              "      <td>886.0</td>\n",
              "      <td>841.0</td>\n",
              "      <td>NaN</td>\n",
              "      <td>NaN</td>\n",
              "      <td>2020.0</td>\n",
              "      <td>2441.0</td>\n",
              "      <td>2471.0</td>\n",
              "      <td>2374.0</td>\n",
              "      <td>3082.0</td>\n",
              "      <td>NaN</td>\n",
              "      <td>1955.0</td>\n",
              "    </tr>\n",
              "    <tr>\n",
              "      <th>IPL-2011</th>\n",
              "      <td>31.0</td>\n",
              "      <td>1360.0</td>\n",
              "      <td>387.0</td>\n",
              "      <td>1130.0</td>\n",
              "      <td>751.0</td>\n",
              "      <td>338.0</td>\n",
              "      <td>NaN</td>\n",
              "      <td>NaN</td>\n",
              "      <td>2406.0</td>\n",
              "      <td>2007.0</td>\n",
              "      <td>2983.0</td>\n",
              "      <td>3162.0</td>\n",
              "      <td>3278.0</td>\n",
              "      <td>NaN</td>\n",
              "      <td>3265.0</td>\n",
              "    </tr>\n",
              "    <tr>\n",
              "      <th>IPL-2012</th>\n",
              "      <td>NaN</td>\n",
              "      <td>1030.0</td>\n",
              "      <td>289.0</td>\n",
              "      <td>1069.0</td>\n",
              "      <td>822.0</td>\n",
              "      <td>32.0</td>\n",
              "      <td>NaN</td>\n",
              "      <td>NaN</td>\n",
              "      <td>2766.0</td>\n",
              "      <td>2277.0</td>\n",
              "      <td>4080.0</td>\n",
              "      <td>3059.0</td>\n",
              "      <td>3315.0</td>\n",
              "      <td>262.0</td>\n",
              "      <td>3452.0</td>\n",
              "    </tr>\n",
              "    <tr>\n",
              "      <th>IPL-2013</th>\n",
              "      <td>636.0</td>\n",
              "      <td>819.0</td>\n",
              "      <td>447.0</td>\n",
              "      <td>851.0</td>\n",
              "      <td>972.0</td>\n",
              "      <td>286.0</td>\n",
              "      <td>NaN</td>\n",
              "      <td>NaN</td>\n",
              "      <td>1691.0</td>\n",
              "      <td>3774.0</td>\n",
              "      <td>4759.0</td>\n",
              "      <td>3513.0</td>\n",
              "      <td>2700.0</td>\n",
              "      <td>31.0</td>\n",
              "      <td>2123.0</td>\n",
              "    </tr>\n",
              "    <tr>\n",
              "      <th>IPL-2014</th>\n",
              "      <td>869.0</td>\n",
              "      <td>732.0</td>\n",
              "      <td>404.0</td>\n",
              "      <td>775.0</td>\n",
              "      <td>1286.0</td>\n",
              "      <td>1150.0</td>\n",
              "      <td>NaN</td>\n",
              "      <td>NaN</td>\n",
              "      <td>1791.0</td>\n",
              "      <td>1627.0</td>\n",
              "      <td>3565.0</td>\n",
              "      <td>2105.0</td>\n",
              "      <td>2258.0</td>\n",
              "      <td>NaN</td>\n",
              "      <td>2369.0</td>\n",
              "    </tr>\n",
              "    <tr>\n",
              "      <th>IPL-2015</th>\n",
              "      <td>617.0</td>\n",
              "      <td>1312.0</td>\n",
              "      <td>163.0</td>\n",
              "      <td>618.0</td>\n",
              "      <td>897.0</td>\n",
              "      <td>1202.0</td>\n",
              "      <td>NaN</td>\n",
              "      <td>NaN</td>\n",
              "      <td>1812.0</td>\n",
              "      <td>1727.0</td>\n",
              "      <td>3977.0</td>\n",
              "      <td>1832.0</td>\n",
              "      <td>1751.0</td>\n",
              "      <td>148.0</td>\n",
              "      <td>1908.0</td>\n",
              "    </tr>\n",
              "    <tr>\n",
              "      <th>IPL-2016</th>\n",
              "      <td>108.0</td>\n",
              "      <td>1538.0</td>\n",
              "      <td>518.0</td>\n",
              "      <td>483.0</td>\n",
              "      <td>966.0</td>\n",
              "      <td>1238.0</td>\n",
              "      <td>NaN</td>\n",
              "      <td>NaN</td>\n",
              "      <td>1010.0</td>\n",
              "      <td>2828.0</td>\n",
              "      <td>3520.0</td>\n",
              "      <td>2174.0</td>\n",
              "      <td>1760.0</td>\n",
              "      <td>592.0</td>\n",
              "      <td>2127.0</td>\n",
              "    </tr>\n",
              "    <tr>\n",
              "      <th>IPL-2017</th>\n",
              "      <td>304.0</td>\n",
              "      <td>1630.0</td>\n",
              "      <td>542.0</td>\n",
              "      <td>689.0</td>\n",
              "      <td>1174.0</td>\n",
              "      <td>1604.0</td>\n",
              "      <td>NaN</td>\n",
              "      <td>NaN</td>\n",
              "      <td>2323.0</td>\n",
              "      <td>3151.0</td>\n",
              "      <td>3246.0</td>\n",
              "      <td>580.0</td>\n",
              "      <td>1398.0</td>\n",
              "      <td>454.0</td>\n",
              "      <td>1691.0</td>\n",
              "    </tr>\n",
              "    <tr>\n",
              "      <th>IPL-2018</th>\n",
              "      <td>227.0</td>\n",
              "      <td>1354.0</td>\n",
              "      <td>764.0</td>\n",
              "      <td>124.0</td>\n",
              "      <td>1265.0</td>\n",
              "      <td>1860.0</td>\n",
              "      <td>NaN</td>\n",
              "      <td>35.0</td>\n",
              "      <td>1934.0</td>\n",
              "      <td>3384.0</td>\n",
              "      <td>3816.0</td>\n",
              "      <td>1249.0</td>\n",
              "      <td>2468.0</td>\n",
              "      <td>436.0</td>\n",
              "      <td>1790.0</td>\n",
              "    </tr>\n",
              "    <tr>\n",
              "      <th>IPL-2019</th>\n",
              "      <td>NaN</td>\n",
              "      <td>834.0</td>\n",
              "      <td>525.0</td>\n",
              "      <td>336.0</td>\n",
              "      <td>1401.0</td>\n",
              "      <td>2235.0</td>\n",
              "      <td>45.0</td>\n",
              "      <td>NaN</td>\n",
              "      <td>3627.0</td>\n",
              "      <td>3180.0</td>\n",
              "      <td>2920.0</td>\n",
              "      <td>1042.0</td>\n",
              "      <td>2140.0</td>\n",
              "      <td>290.0</td>\n",
              "      <td>1588.0</td>\n",
              "    </tr>\n",
              "  </tbody>\n",
              "</table>\n",
              "</div>"
            ],
            "text/plain": [
              "Bowling_Skill  Left-arm fast  ...  Slow left-arm orthodox\n",
              "Season                        ...                        \n",
              "IPL-2008                 NaN  ...                   909.0\n",
              "IPL-2009               384.0  ...                  1992.0\n",
              "IPL-2010               235.0  ...                  1955.0\n",
              "IPL-2011                31.0  ...                  3265.0\n",
              "IPL-2012                 NaN  ...                  3452.0\n",
              "IPL-2013               636.0  ...                  2123.0\n",
              "IPL-2014               869.0  ...                  2369.0\n",
              "IPL-2015               617.0  ...                  1908.0\n",
              "IPL-2016               108.0  ...                  2127.0\n",
              "IPL-2017               304.0  ...                  1691.0\n",
              "IPL-2018               227.0  ...                  1790.0\n",
              "IPL-2019                 NaN  ...                  1588.0\n",
              "\n",
              "[12 rows x 15 columns]"
            ]
          },
          "metadata": {
            "tags": []
          },
          "execution_count": 182
        }
      ]
    },
    {
      "cell_type": "code",
      "metadata": {
        "colab": {
          "base_uri": "https://localhost:8080/",
          "height": 394
        },
        "id": "XVQIk8ifUPJF",
        "outputId": "becf0e3a-fbcb-449d-f650-2bf00c3fcc5d"
      },
      "source": [
        "deliveries.head()"
      ],
      "execution_count": 237,
      "outputs": [
        {
          "output_type": "execute_result",
          "data": {
            "text/html": [
              "<div>\n",
              "<style scoped>\n",
              "    .dataframe tbody tr th:only-of-type {\n",
              "        vertical-align: middle;\n",
              "    }\n",
              "\n",
              "    .dataframe tbody tr th {\n",
              "        vertical-align: top;\n",
              "    }\n",
              "\n",
              "    .dataframe thead th {\n",
              "        text-align: right;\n",
              "    }\n",
              "</style>\n",
              "<table border=\"1\" class=\"dataframe\">\n",
              "  <thead>\n",
              "    <tr style=\"text-align: right;\">\n",
              "      <th></th>\n",
              "      <th>match_id</th>\n",
              "      <th>inning</th>\n",
              "      <th>batting_team</th>\n",
              "      <th>bowling_team</th>\n",
              "      <th>over</th>\n",
              "      <th>ball</th>\n",
              "      <th>batsman</th>\n",
              "      <th>non_striker</th>\n",
              "      <th>bowler</th>\n",
              "      <th>is_super_over</th>\n",
              "      <th>wide_runs</th>\n",
              "      <th>bye_runs</th>\n",
              "      <th>legbye_runs</th>\n",
              "      <th>noball_runs</th>\n",
              "      <th>penalty_runs</th>\n",
              "      <th>batsman_runs</th>\n",
              "      <th>extra_runs</th>\n",
              "      <th>total_runs</th>\n",
              "      <th>player_dismissed</th>\n",
              "      <th>dismissal_kind</th>\n",
              "      <th>fielder</th>\n",
              "    </tr>\n",
              "  </thead>\n",
              "  <tbody>\n",
              "    <tr>\n",
              "      <th>0</th>\n",
              "      <td>1</td>\n",
              "      <td>1</td>\n",
              "      <td>Sunrisers Hyderabad</td>\n",
              "      <td>Royal Challengers Bangalore</td>\n",
              "      <td>1</td>\n",
              "      <td>1</td>\n",
              "      <td>DA Warner</td>\n",
              "      <td>S Dhawan</td>\n",
              "      <td>TS Mills</td>\n",
              "      <td>0</td>\n",
              "      <td>0</td>\n",
              "      <td>0</td>\n",
              "      <td>0</td>\n",
              "      <td>0</td>\n",
              "      <td>0</td>\n",
              "      <td>0</td>\n",
              "      <td>0</td>\n",
              "      <td>0</td>\n",
              "      <td>NaN</td>\n",
              "      <td>NaN</td>\n",
              "      <td>NaN</td>\n",
              "    </tr>\n",
              "    <tr>\n",
              "      <th>1</th>\n",
              "      <td>1</td>\n",
              "      <td>1</td>\n",
              "      <td>Sunrisers Hyderabad</td>\n",
              "      <td>Royal Challengers Bangalore</td>\n",
              "      <td>1</td>\n",
              "      <td>2</td>\n",
              "      <td>DA Warner</td>\n",
              "      <td>S Dhawan</td>\n",
              "      <td>TS Mills</td>\n",
              "      <td>0</td>\n",
              "      <td>0</td>\n",
              "      <td>0</td>\n",
              "      <td>0</td>\n",
              "      <td>0</td>\n",
              "      <td>0</td>\n",
              "      <td>0</td>\n",
              "      <td>0</td>\n",
              "      <td>0</td>\n",
              "      <td>NaN</td>\n",
              "      <td>NaN</td>\n",
              "      <td>NaN</td>\n",
              "    </tr>\n",
              "    <tr>\n",
              "      <th>2</th>\n",
              "      <td>1</td>\n",
              "      <td>1</td>\n",
              "      <td>Sunrisers Hyderabad</td>\n",
              "      <td>Royal Challengers Bangalore</td>\n",
              "      <td>1</td>\n",
              "      <td>3</td>\n",
              "      <td>DA Warner</td>\n",
              "      <td>S Dhawan</td>\n",
              "      <td>TS Mills</td>\n",
              "      <td>0</td>\n",
              "      <td>0</td>\n",
              "      <td>0</td>\n",
              "      <td>0</td>\n",
              "      <td>0</td>\n",
              "      <td>0</td>\n",
              "      <td>4</td>\n",
              "      <td>0</td>\n",
              "      <td>4</td>\n",
              "      <td>NaN</td>\n",
              "      <td>NaN</td>\n",
              "      <td>NaN</td>\n",
              "    </tr>\n",
              "    <tr>\n",
              "      <th>3</th>\n",
              "      <td>1</td>\n",
              "      <td>1</td>\n",
              "      <td>Sunrisers Hyderabad</td>\n",
              "      <td>Royal Challengers Bangalore</td>\n",
              "      <td>1</td>\n",
              "      <td>4</td>\n",
              "      <td>DA Warner</td>\n",
              "      <td>S Dhawan</td>\n",
              "      <td>TS Mills</td>\n",
              "      <td>0</td>\n",
              "      <td>0</td>\n",
              "      <td>0</td>\n",
              "      <td>0</td>\n",
              "      <td>0</td>\n",
              "      <td>0</td>\n",
              "      <td>0</td>\n",
              "      <td>0</td>\n",
              "      <td>0</td>\n",
              "      <td>NaN</td>\n",
              "      <td>NaN</td>\n",
              "      <td>NaN</td>\n",
              "    </tr>\n",
              "    <tr>\n",
              "      <th>4</th>\n",
              "      <td>1</td>\n",
              "      <td>1</td>\n",
              "      <td>Sunrisers Hyderabad</td>\n",
              "      <td>Royal Challengers Bangalore</td>\n",
              "      <td>1</td>\n",
              "      <td>5</td>\n",
              "      <td>DA Warner</td>\n",
              "      <td>S Dhawan</td>\n",
              "      <td>TS Mills</td>\n",
              "      <td>0</td>\n",
              "      <td>2</td>\n",
              "      <td>0</td>\n",
              "      <td>0</td>\n",
              "      <td>0</td>\n",
              "      <td>0</td>\n",
              "      <td>0</td>\n",
              "      <td>2</td>\n",
              "      <td>2</td>\n",
              "      <td>NaN</td>\n",
              "      <td>NaN</td>\n",
              "      <td>NaN</td>\n",
              "    </tr>\n",
              "  </tbody>\n",
              "</table>\n",
              "</div>"
            ],
            "text/plain": [
              "   match_id  inning  ... dismissal_kind fielder\n",
              "0         1       1  ...            NaN     NaN\n",
              "1         1       1  ...            NaN     NaN\n",
              "2         1       1  ...            NaN     NaN\n",
              "3         1       1  ...            NaN     NaN\n",
              "4         1       1  ...            NaN     NaN\n",
              "\n",
              "[5 rows x 21 columns]"
            ]
          },
          "metadata": {
            "tags": []
          },
          "execution_count": 237
        }
      ]
    },
    {
      "cell_type": "code",
      "metadata": {
        "colab": {
          "base_uri": "https://localhost:8080/",
          "height": 450
        },
        "id": "Z38W-7ZMbaTN",
        "outputId": "ea5f3744-9ce9-4c99-d198-330550cbf079"
      },
      "source": [
        "total_runs_batsman=pd.DataFrame(deliveries.groupby([\"match_id\",\"batsman\"]).agg({\"batsman_runs\":\"sum\"}))\n",
        "total_runs_batsman"
      ],
      "execution_count": 296,
      "outputs": [
        {
          "output_type": "execute_result",
          "data": {
            "text/html": [
              "<div>\n",
              "<style scoped>\n",
              "    .dataframe tbody tr th:only-of-type {\n",
              "        vertical-align: middle;\n",
              "    }\n",
              "\n",
              "    .dataframe tbody tr th {\n",
              "        vertical-align: top;\n",
              "    }\n",
              "\n",
              "    .dataframe thead th {\n",
              "        text-align: right;\n",
              "    }\n",
              "</style>\n",
              "<table border=\"1\" class=\"dataframe\">\n",
              "  <thead>\n",
              "    <tr style=\"text-align: right;\">\n",
              "      <th></th>\n",
              "      <th></th>\n",
              "      <th>batsman_runs</th>\n",
              "    </tr>\n",
              "    <tr>\n",
              "      <th>match_id</th>\n",
              "      <th>batsman</th>\n",
              "      <th></th>\n",
              "    </tr>\n",
              "  </thead>\n",
              "  <tbody>\n",
              "    <tr>\n",
              "      <th rowspan=\"5\" valign=\"top\">1</th>\n",
              "      <th>A Choudhary</th>\n",
              "      <td>6</td>\n",
              "    </tr>\n",
              "    <tr>\n",
              "      <th>BCJ Cutting</th>\n",
              "      <td>16</td>\n",
              "    </tr>\n",
              "    <tr>\n",
              "      <th>CH Gayle</th>\n",
              "      <td>32</td>\n",
              "    </tr>\n",
              "    <tr>\n",
              "      <th>DA Warner</th>\n",
              "      <td>14</td>\n",
              "    </tr>\n",
              "    <tr>\n",
              "      <th>DJ Hooda</th>\n",
              "      <td>16</td>\n",
              "    </tr>\n",
              "    <tr>\n",
              "      <th>...</th>\n",
              "      <th>...</th>\n",
              "      <td>...</td>\n",
              "    </tr>\n",
              "    <tr>\n",
              "      <th rowspan=\"5\" valign=\"top\">11415</th>\n",
              "      <th>RD Chahar</th>\n",
              "      <td>0</td>\n",
              "    </tr>\n",
              "    <tr>\n",
              "      <th>RG Sharma</th>\n",
              "      <td>15</td>\n",
              "    </tr>\n",
              "    <tr>\n",
              "      <th>SK Raina</th>\n",
              "      <td>9</td>\n",
              "    </tr>\n",
              "    <tr>\n",
              "      <th>SN Thakur</th>\n",
              "      <td>2</td>\n",
              "    </tr>\n",
              "    <tr>\n",
              "      <th>SR Watson</th>\n",
              "      <td>84</td>\n",
              "    </tr>\n",
              "  </tbody>\n",
              "</table>\n",
              "<p>11262 rows × 1 columns</p>\n",
              "</div>"
            ],
            "text/plain": [
              "                      batsman_runs\n",
              "match_id batsman                  \n",
              "1        A Choudhary             6\n",
              "         BCJ Cutting            16\n",
              "         CH Gayle               32\n",
              "         DA Warner              14\n",
              "         DJ Hooda               16\n",
              "...                            ...\n",
              "11415    RD Chahar               0\n",
              "         RG Sharma              15\n",
              "         SK Raina                9\n",
              "         SN Thakur               2\n",
              "         SR Watson              84\n",
              "\n",
              "[11262 rows x 1 columns]"
            ]
          },
          "metadata": {
            "tags": []
          },
          "execution_count": 296
        }
      ]
    },
    {
      "cell_type": "code",
      "metadata": {
        "colab": {
          "base_uri": "https://localhost:8080/",
          "height": 419
        },
        "id": "mX_UkTDJlPmW",
        "outputId": "a4c58412-4896-4b05-8fac-ad85242b23d9"
      },
      "source": [
        "total_runs_batsman.reset_index(inplace=True)\n",
        "total_runs_batsman"
      ],
      "execution_count": 297,
      "outputs": [
        {
          "output_type": "execute_result",
          "data": {
            "text/html": [
              "<div>\n",
              "<style scoped>\n",
              "    .dataframe tbody tr th:only-of-type {\n",
              "        vertical-align: middle;\n",
              "    }\n",
              "\n",
              "    .dataframe tbody tr th {\n",
              "        vertical-align: top;\n",
              "    }\n",
              "\n",
              "    .dataframe thead th {\n",
              "        text-align: right;\n",
              "    }\n",
              "</style>\n",
              "<table border=\"1\" class=\"dataframe\">\n",
              "  <thead>\n",
              "    <tr style=\"text-align: right;\">\n",
              "      <th></th>\n",
              "      <th>match_id</th>\n",
              "      <th>batsman</th>\n",
              "      <th>batsman_runs</th>\n",
              "    </tr>\n",
              "  </thead>\n",
              "  <tbody>\n",
              "    <tr>\n",
              "      <th>0</th>\n",
              "      <td>1</td>\n",
              "      <td>A Choudhary</td>\n",
              "      <td>6</td>\n",
              "    </tr>\n",
              "    <tr>\n",
              "      <th>1</th>\n",
              "      <td>1</td>\n",
              "      <td>BCJ Cutting</td>\n",
              "      <td>16</td>\n",
              "    </tr>\n",
              "    <tr>\n",
              "      <th>2</th>\n",
              "      <td>1</td>\n",
              "      <td>CH Gayle</td>\n",
              "      <td>32</td>\n",
              "    </tr>\n",
              "    <tr>\n",
              "      <th>3</th>\n",
              "      <td>1</td>\n",
              "      <td>DA Warner</td>\n",
              "      <td>14</td>\n",
              "    </tr>\n",
              "    <tr>\n",
              "      <th>4</th>\n",
              "      <td>1</td>\n",
              "      <td>DJ Hooda</td>\n",
              "      <td>16</td>\n",
              "    </tr>\n",
              "    <tr>\n",
              "      <th>...</th>\n",
              "      <td>...</td>\n",
              "      <td>...</td>\n",
              "      <td>...</td>\n",
              "    </tr>\n",
              "    <tr>\n",
              "      <th>11257</th>\n",
              "      <td>11415</td>\n",
              "      <td>RD Chahar</td>\n",
              "      <td>0</td>\n",
              "    </tr>\n",
              "    <tr>\n",
              "      <th>11258</th>\n",
              "      <td>11415</td>\n",
              "      <td>RG Sharma</td>\n",
              "      <td>15</td>\n",
              "    </tr>\n",
              "    <tr>\n",
              "      <th>11259</th>\n",
              "      <td>11415</td>\n",
              "      <td>SK Raina</td>\n",
              "      <td>9</td>\n",
              "    </tr>\n",
              "    <tr>\n",
              "      <th>11260</th>\n",
              "      <td>11415</td>\n",
              "      <td>SN Thakur</td>\n",
              "      <td>2</td>\n",
              "    </tr>\n",
              "    <tr>\n",
              "      <th>11261</th>\n",
              "      <td>11415</td>\n",
              "      <td>SR Watson</td>\n",
              "      <td>84</td>\n",
              "    </tr>\n",
              "  </tbody>\n",
              "</table>\n",
              "<p>11262 rows × 3 columns</p>\n",
              "</div>"
            ],
            "text/plain": [
              "       match_id      batsman  batsman_runs\n",
              "0             1  A Choudhary             6\n",
              "1             1  BCJ Cutting            16\n",
              "2             1     CH Gayle            32\n",
              "3             1    DA Warner            14\n",
              "4             1     DJ Hooda            16\n",
              "...         ...          ...           ...\n",
              "11257     11415    RD Chahar             0\n",
              "11258     11415    RG Sharma            15\n",
              "11259     11415     SK Raina             9\n",
              "11260     11415    SN Thakur             2\n",
              "11261     11415    SR Watson            84\n",
              "\n",
              "[11262 rows x 3 columns]"
            ]
          },
          "metadata": {
            "tags": []
          },
          "execution_count": 297
        }
      ]
    },
    {
      "cell_type": "code",
      "metadata": {
        "colab": {
          "base_uri": "https://localhost:8080/",
          "height": 419
        },
        "id": "VsTlPvmTkMCH",
        "outputId": "0eb2f521-c92c-4ab0-9cd6-e28f2d2648aa"
      },
      "source": [
        "total_runs_batsman=pd.merge(total_runs_batsman, match.loc[:,[\"id\",\"Season\"]], left_on='match_id', right_on='id', how='inner')\n",
        "total_runs_batsman"
      ],
      "execution_count": 298,
      "outputs": [
        {
          "output_type": "execute_result",
          "data": {
            "text/html": [
              "<div>\n",
              "<style scoped>\n",
              "    .dataframe tbody tr th:only-of-type {\n",
              "        vertical-align: middle;\n",
              "    }\n",
              "\n",
              "    .dataframe tbody tr th {\n",
              "        vertical-align: top;\n",
              "    }\n",
              "\n",
              "    .dataframe thead th {\n",
              "        text-align: right;\n",
              "    }\n",
              "</style>\n",
              "<table border=\"1\" class=\"dataframe\">\n",
              "  <thead>\n",
              "    <tr style=\"text-align: right;\">\n",
              "      <th></th>\n",
              "      <th>match_id</th>\n",
              "      <th>batsman</th>\n",
              "      <th>batsman_runs</th>\n",
              "      <th>id</th>\n",
              "      <th>Season</th>\n",
              "    </tr>\n",
              "  </thead>\n",
              "  <tbody>\n",
              "    <tr>\n",
              "      <th>0</th>\n",
              "      <td>1</td>\n",
              "      <td>A Choudhary</td>\n",
              "      <td>6</td>\n",
              "      <td>1</td>\n",
              "      <td>IPL-2017</td>\n",
              "    </tr>\n",
              "    <tr>\n",
              "      <th>1</th>\n",
              "      <td>1</td>\n",
              "      <td>BCJ Cutting</td>\n",
              "      <td>16</td>\n",
              "      <td>1</td>\n",
              "      <td>IPL-2017</td>\n",
              "    </tr>\n",
              "    <tr>\n",
              "      <th>2</th>\n",
              "      <td>1</td>\n",
              "      <td>CH Gayle</td>\n",
              "      <td>32</td>\n",
              "      <td>1</td>\n",
              "      <td>IPL-2017</td>\n",
              "    </tr>\n",
              "    <tr>\n",
              "      <th>3</th>\n",
              "      <td>1</td>\n",
              "      <td>DA Warner</td>\n",
              "      <td>14</td>\n",
              "      <td>1</td>\n",
              "      <td>IPL-2017</td>\n",
              "    </tr>\n",
              "    <tr>\n",
              "      <th>4</th>\n",
              "      <td>1</td>\n",
              "      <td>DJ Hooda</td>\n",
              "      <td>16</td>\n",
              "      <td>1</td>\n",
              "      <td>IPL-2017</td>\n",
              "    </tr>\n",
              "    <tr>\n",
              "      <th>...</th>\n",
              "      <td>...</td>\n",
              "      <td>...</td>\n",
              "      <td>...</td>\n",
              "      <td>...</td>\n",
              "      <td>...</td>\n",
              "    </tr>\n",
              "    <tr>\n",
              "      <th>11257</th>\n",
              "      <td>11415</td>\n",
              "      <td>RD Chahar</td>\n",
              "      <td>0</td>\n",
              "      <td>11415</td>\n",
              "      <td>IPL-2019</td>\n",
              "    </tr>\n",
              "    <tr>\n",
              "      <th>11258</th>\n",
              "      <td>11415</td>\n",
              "      <td>RG Sharma</td>\n",
              "      <td>15</td>\n",
              "      <td>11415</td>\n",
              "      <td>IPL-2019</td>\n",
              "    </tr>\n",
              "    <tr>\n",
              "      <th>11259</th>\n",
              "      <td>11415</td>\n",
              "      <td>SK Raina</td>\n",
              "      <td>9</td>\n",
              "      <td>11415</td>\n",
              "      <td>IPL-2019</td>\n",
              "    </tr>\n",
              "    <tr>\n",
              "      <th>11260</th>\n",
              "      <td>11415</td>\n",
              "      <td>SN Thakur</td>\n",
              "      <td>2</td>\n",
              "      <td>11415</td>\n",
              "      <td>IPL-2019</td>\n",
              "    </tr>\n",
              "    <tr>\n",
              "      <th>11261</th>\n",
              "      <td>11415</td>\n",
              "      <td>SR Watson</td>\n",
              "      <td>84</td>\n",
              "      <td>11415</td>\n",
              "      <td>IPL-2019</td>\n",
              "    </tr>\n",
              "  </tbody>\n",
              "</table>\n",
              "<p>11262 rows × 5 columns</p>\n",
              "</div>"
            ],
            "text/plain": [
              "       match_id      batsman  batsman_runs     id    Season\n",
              "0             1  A Choudhary             6      1  IPL-2017\n",
              "1             1  BCJ Cutting            16      1  IPL-2017\n",
              "2             1     CH Gayle            32      1  IPL-2017\n",
              "3             1    DA Warner            14      1  IPL-2017\n",
              "4             1     DJ Hooda            16      1  IPL-2017\n",
              "...         ...          ...           ...    ...       ...\n",
              "11257     11415    RD Chahar             0  11415  IPL-2019\n",
              "11258     11415    RG Sharma            15  11415  IPL-2019\n",
              "11259     11415     SK Raina             9  11415  IPL-2019\n",
              "11260     11415    SN Thakur             2  11415  IPL-2019\n",
              "11261     11415    SR Watson            84  11415  IPL-2019\n",
              "\n",
              "[11262 rows x 5 columns]"
            ]
          },
          "metadata": {
            "tags": []
          },
          "execution_count": 298
        }
      ]
    },
    {
      "cell_type": "code",
      "metadata": {
        "colab": {
          "base_uri": "https://localhost:8080/",
          "height": 419
        },
        "id": "iXWQz-BIkwlk",
        "outputId": "45dca240-40ab-41a0-a25b-5f722206ddd6"
      },
      "source": [
        "total_runs_batsman=pd.merge(total_runs_batsman, Players.loc[:,[\"Player_Name\",\"Batting_Hand\"]], left_on='batsman', right_on='Player_Name', how='inner')\n",
        "total_runs_batsman"
      ],
      "execution_count": 299,
      "outputs": [
        {
          "output_type": "execute_result",
          "data": {
            "text/html": [
              "<div>\n",
              "<style scoped>\n",
              "    .dataframe tbody tr th:only-of-type {\n",
              "        vertical-align: middle;\n",
              "    }\n",
              "\n",
              "    .dataframe tbody tr th {\n",
              "        vertical-align: top;\n",
              "    }\n",
              "\n",
              "    .dataframe thead th {\n",
              "        text-align: right;\n",
              "    }\n",
              "</style>\n",
              "<table border=\"1\" class=\"dataframe\">\n",
              "  <thead>\n",
              "    <tr style=\"text-align: right;\">\n",
              "      <th></th>\n",
              "      <th>match_id</th>\n",
              "      <th>batsman</th>\n",
              "      <th>batsman_runs</th>\n",
              "      <th>id</th>\n",
              "      <th>Season</th>\n",
              "      <th>Player_Name</th>\n",
              "      <th>Batting_Hand</th>\n",
              "    </tr>\n",
              "  </thead>\n",
              "  <tbody>\n",
              "    <tr>\n",
              "      <th>0</th>\n",
              "      <td>1</td>\n",
              "      <td>A Choudhary</td>\n",
              "      <td>6</td>\n",
              "      <td>1</td>\n",
              "      <td>IPL-2017</td>\n",
              "      <td>A Choudhary</td>\n",
              "      <td>Right_hand</td>\n",
              "    </tr>\n",
              "    <tr>\n",
              "      <th>1</th>\n",
              "      <td>30</td>\n",
              "      <td>A Choudhary</td>\n",
              "      <td>15</td>\n",
              "      <td>30</td>\n",
              "      <td>IPL-2017</td>\n",
              "      <td>A Choudhary</td>\n",
              "      <td>Right_hand</td>\n",
              "    </tr>\n",
              "    <tr>\n",
              "      <th>2</th>\n",
              "      <td>42</td>\n",
              "      <td>A Choudhary</td>\n",
              "      <td>4</td>\n",
              "      <td>42</td>\n",
              "      <td>IPL-2017</td>\n",
              "      <td>A Choudhary</td>\n",
              "      <td>Right_hand</td>\n",
              "    </tr>\n",
              "    <tr>\n",
              "      <th>3</th>\n",
              "      <td>1</td>\n",
              "      <td>BCJ Cutting</td>\n",
              "      <td>16</td>\n",
              "      <td>1</td>\n",
              "      <td>IPL-2017</td>\n",
              "      <td>BCJ Cutting</td>\n",
              "      <td>Right_Hand</td>\n",
              "    </tr>\n",
              "    <tr>\n",
              "      <th>4</th>\n",
              "      <td>10</td>\n",
              "      <td>BCJ Cutting</td>\n",
              "      <td>20</td>\n",
              "      <td>10</td>\n",
              "      <td>IPL-2017</td>\n",
              "      <td>BCJ Cutting</td>\n",
              "      <td>Right_Hand</td>\n",
              "    </tr>\n",
              "    <tr>\n",
              "      <th>...</th>\n",
              "      <td>...</td>\n",
              "      <td>...</td>\n",
              "      <td>...</td>\n",
              "      <td>...</td>\n",
              "      <td>...</td>\n",
              "      <td>...</td>\n",
              "      <td>...</td>\n",
              "    </tr>\n",
              "    <tr>\n",
              "      <th>11257</th>\n",
              "      <td>11344</td>\n",
              "      <td>S Rutherford</td>\n",
              "      <td>12</td>\n",
              "      <td>11344</td>\n",
              "      <td>IPL-2019</td>\n",
              "      <td>S Rutherford</td>\n",
              "      <td>Left_Hand</td>\n",
              "    </tr>\n",
              "    <tr>\n",
              "      <th>11258</th>\n",
              "      <td>11413</td>\n",
              "      <td>S Rutherford</td>\n",
              "      <td>9</td>\n",
              "      <td>11413</td>\n",
              "      <td>IPL-2019</td>\n",
              "      <td>S Rutherford</td>\n",
              "      <td>Left_Hand</td>\n",
              "    </tr>\n",
              "    <tr>\n",
              "      <th>11259</th>\n",
              "      <td>11414</td>\n",
              "      <td>S Rutherford</td>\n",
              "      <td>14</td>\n",
              "      <td>11414</td>\n",
              "      <td>IPL-2019</td>\n",
              "      <td>S Rutherford</td>\n",
              "      <td>Left_Hand</td>\n",
              "    </tr>\n",
              "    <tr>\n",
              "      <th>11260</th>\n",
              "      <td>11329</td>\n",
              "      <td>P Raj</td>\n",
              "      <td>0</td>\n",
              "      <td>11329</td>\n",
              "      <td>IPL-2019</td>\n",
              "      <td>P Raj</td>\n",
              "      <td>Right_Hand</td>\n",
              "    </tr>\n",
              "    <tr>\n",
              "      <th>11261</th>\n",
              "      <td>11339</td>\n",
              "      <td>S Singh</td>\n",
              "      <td>17</td>\n",
              "      <td>11339</td>\n",
              "      <td>IPL-2019</td>\n",
              "      <td>S Singh</td>\n",
              "      <td>Right_hand</td>\n",
              "    </tr>\n",
              "  </tbody>\n",
              "</table>\n",
              "<p>11262 rows × 7 columns</p>\n",
              "</div>"
            ],
            "text/plain": [
              "       match_id       batsman  ...   Player_Name  Batting_Hand\n",
              "0             1   A Choudhary  ...   A Choudhary    Right_hand\n",
              "1            30   A Choudhary  ...   A Choudhary    Right_hand\n",
              "2            42   A Choudhary  ...   A Choudhary    Right_hand\n",
              "3             1   BCJ Cutting  ...   BCJ Cutting    Right_Hand\n",
              "4            10   BCJ Cutting  ...   BCJ Cutting    Right_Hand\n",
              "...         ...           ...  ...           ...           ...\n",
              "11257     11344  S Rutherford  ...  S Rutherford     Left_Hand\n",
              "11258     11413  S Rutherford  ...  S Rutherford     Left_Hand\n",
              "11259     11414  S Rutherford  ...  S Rutherford     Left_Hand\n",
              "11260     11329         P Raj  ...         P Raj    Right_Hand\n",
              "11261     11339       S Singh  ...       S Singh    Right_hand\n",
              "\n",
              "[11262 rows x 7 columns]"
            ]
          },
          "metadata": {
            "tags": []
          },
          "execution_count": 299
        }
      ]
    },
    {
      "cell_type": "code",
      "metadata": {
        "colab": {
          "base_uri": "https://localhost:8080/",
          "height": 419
        },
        "id": "QCe75_hsk95H",
        "outputId": "7eac2cbb-7ee1-493d-cd55-96da055243a4"
      },
      "source": [
        "print(total_runs_batsman.Batting_Hand.unique())\n",
        "total_runs_batsman.loc[total_runs_batsman[\"Batting_Hand\"]==\"Right_hand\",\"Batting_Hand\"]=\"Right_Hand\"\n",
        "total_runs_batsman"
      ],
      "execution_count": 300,
      "outputs": [
        {
          "output_type": "execute_result",
          "data": {
            "text/html": [
              "<div>\n",
              "<style scoped>\n",
              "    .dataframe tbody tr th:only-of-type {\n",
              "        vertical-align: middle;\n",
              "    }\n",
              "\n",
              "    .dataframe tbody tr th {\n",
              "        vertical-align: top;\n",
              "    }\n",
              "\n",
              "    .dataframe thead th {\n",
              "        text-align: right;\n",
              "    }\n",
              "</style>\n",
              "<table border=\"1\" class=\"dataframe\">\n",
              "  <thead>\n",
              "    <tr style=\"text-align: right;\">\n",
              "      <th></th>\n",
              "      <th>match_id</th>\n",
              "      <th>batsman</th>\n",
              "      <th>batsman_runs</th>\n",
              "      <th>id</th>\n",
              "      <th>Season</th>\n",
              "      <th>Player_Name</th>\n",
              "      <th>Batting_Hand</th>\n",
              "    </tr>\n",
              "  </thead>\n",
              "  <tbody>\n",
              "    <tr>\n",
              "      <th>0</th>\n",
              "      <td>1</td>\n",
              "      <td>A Choudhary</td>\n",
              "      <td>6</td>\n",
              "      <td>1</td>\n",
              "      <td>IPL-2017</td>\n",
              "      <td>A Choudhary</td>\n",
              "      <td>Right_Hand</td>\n",
              "    </tr>\n",
              "    <tr>\n",
              "      <th>1</th>\n",
              "      <td>30</td>\n",
              "      <td>A Choudhary</td>\n",
              "      <td>15</td>\n",
              "      <td>30</td>\n",
              "      <td>IPL-2017</td>\n",
              "      <td>A Choudhary</td>\n",
              "      <td>Right_Hand</td>\n",
              "    </tr>\n",
              "    <tr>\n",
              "      <th>2</th>\n",
              "      <td>42</td>\n",
              "      <td>A Choudhary</td>\n",
              "      <td>4</td>\n",
              "      <td>42</td>\n",
              "      <td>IPL-2017</td>\n",
              "      <td>A Choudhary</td>\n",
              "      <td>Right_Hand</td>\n",
              "    </tr>\n",
              "    <tr>\n",
              "      <th>3</th>\n",
              "      <td>1</td>\n",
              "      <td>BCJ Cutting</td>\n",
              "      <td>16</td>\n",
              "      <td>1</td>\n",
              "      <td>IPL-2017</td>\n",
              "      <td>BCJ Cutting</td>\n",
              "      <td>Right_Hand</td>\n",
              "    </tr>\n",
              "    <tr>\n",
              "      <th>4</th>\n",
              "      <td>10</td>\n",
              "      <td>BCJ Cutting</td>\n",
              "      <td>20</td>\n",
              "      <td>10</td>\n",
              "      <td>IPL-2017</td>\n",
              "      <td>BCJ Cutting</td>\n",
              "      <td>Right_Hand</td>\n",
              "    </tr>\n",
              "    <tr>\n",
              "      <th>...</th>\n",
              "      <td>...</td>\n",
              "      <td>...</td>\n",
              "      <td>...</td>\n",
              "      <td>...</td>\n",
              "      <td>...</td>\n",
              "      <td>...</td>\n",
              "      <td>...</td>\n",
              "    </tr>\n",
              "    <tr>\n",
              "      <th>11257</th>\n",
              "      <td>11344</td>\n",
              "      <td>S Rutherford</td>\n",
              "      <td>12</td>\n",
              "      <td>11344</td>\n",
              "      <td>IPL-2019</td>\n",
              "      <td>S Rutherford</td>\n",
              "      <td>Left_Hand</td>\n",
              "    </tr>\n",
              "    <tr>\n",
              "      <th>11258</th>\n",
              "      <td>11413</td>\n",
              "      <td>S Rutherford</td>\n",
              "      <td>9</td>\n",
              "      <td>11413</td>\n",
              "      <td>IPL-2019</td>\n",
              "      <td>S Rutherford</td>\n",
              "      <td>Left_Hand</td>\n",
              "    </tr>\n",
              "    <tr>\n",
              "      <th>11259</th>\n",
              "      <td>11414</td>\n",
              "      <td>S Rutherford</td>\n",
              "      <td>14</td>\n",
              "      <td>11414</td>\n",
              "      <td>IPL-2019</td>\n",
              "      <td>S Rutherford</td>\n",
              "      <td>Left_Hand</td>\n",
              "    </tr>\n",
              "    <tr>\n",
              "      <th>11260</th>\n",
              "      <td>11329</td>\n",
              "      <td>P Raj</td>\n",
              "      <td>0</td>\n",
              "      <td>11329</td>\n",
              "      <td>IPL-2019</td>\n",
              "      <td>P Raj</td>\n",
              "      <td>Right_Hand</td>\n",
              "    </tr>\n",
              "    <tr>\n",
              "      <th>11261</th>\n",
              "      <td>11339</td>\n",
              "      <td>S Singh</td>\n",
              "      <td>17</td>\n",
              "      <td>11339</td>\n",
              "      <td>IPL-2019</td>\n",
              "      <td>S Singh</td>\n",
              "      <td>Right_Hand</td>\n",
              "    </tr>\n",
              "  </tbody>\n",
              "</table>\n",
              "<p>11262 rows × 7 columns</p>\n",
              "</div>"
            ],
            "text/plain": [
              "       match_id       batsman  ...   Player_Name  Batting_Hand\n",
              "0             1   A Choudhary  ...   A Choudhary    Right_Hand\n",
              "1            30   A Choudhary  ...   A Choudhary    Right_Hand\n",
              "2            42   A Choudhary  ...   A Choudhary    Right_Hand\n",
              "3             1   BCJ Cutting  ...   BCJ Cutting    Right_Hand\n",
              "4            10   BCJ Cutting  ...   BCJ Cutting    Right_Hand\n",
              "...         ...           ...  ...           ...           ...\n",
              "11257     11344  S Rutherford  ...  S Rutherford     Left_Hand\n",
              "11258     11413  S Rutherford  ...  S Rutherford     Left_Hand\n",
              "11259     11414  S Rutherford  ...  S Rutherford     Left_Hand\n",
              "11260     11329         P Raj  ...         P Raj    Right_Hand\n",
              "11261     11339       S Singh  ...       S Singh    Right_Hand\n",
              "\n",
              "[11262 rows x 7 columns]"
            ]
          },
          "metadata": {
            "tags": []
          },
          "execution_count": 300
        }
      ]
    },
    {
      "cell_type": "code",
      "metadata": {
        "id": "_SQQVWPrl4q0"
      },
      "source": [
        "total_runs_batsman=total_runs_batsman.groupby([\"Season\",\"Batting_Hand\"]).agg({\"batsman_runs\":\"sum\"})"
      ],
      "execution_count": 301,
      "outputs": []
    },
    {
      "cell_type": "code",
      "metadata": {
        "colab": {
          "base_uri": "https://localhost:8080/",
          "height": 824
        },
        "id": "iCv2n3gmmh3g",
        "outputId": "1adcf692-ad9a-456b-c960-f23b1afc89c2"
      },
      "source": [
        "total_runs_batsman"
      ],
      "execution_count": 302,
      "outputs": [
        {
          "output_type": "execute_result",
          "data": {
            "text/html": [
              "<div>\n",
              "<style scoped>\n",
              "    .dataframe tbody tr th:only-of-type {\n",
              "        vertical-align: middle;\n",
              "    }\n",
              "\n",
              "    .dataframe tbody tr th {\n",
              "        vertical-align: top;\n",
              "    }\n",
              "\n",
              "    .dataframe thead th {\n",
              "        text-align: right;\n",
              "    }\n",
              "</style>\n",
              "<table border=\"1\" class=\"dataframe\">\n",
              "  <thead>\n",
              "    <tr style=\"text-align: right;\">\n",
              "      <th></th>\n",
              "      <th></th>\n",
              "      <th>batsman_runs</th>\n",
              "    </tr>\n",
              "    <tr>\n",
              "      <th>Season</th>\n",
              "      <th>Batting_Hand</th>\n",
              "      <th></th>\n",
              "    </tr>\n",
              "  </thead>\n",
              "  <tbody>\n",
              "    <tr>\n",
              "      <th rowspan=\"2\" valign=\"top\">IPL-2008</th>\n",
              "      <th>Left_Hand</th>\n",
              "      <td>6980</td>\n",
              "    </tr>\n",
              "    <tr>\n",
              "      <th>Right_Hand</th>\n",
              "      <td>9829</td>\n",
              "    </tr>\n",
              "    <tr>\n",
              "      <th rowspan=\"2\" valign=\"top\">IPL-2009</th>\n",
              "      <th>Left_Hand</th>\n",
              "      <td>5636</td>\n",
              "    </tr>\n",
              "    <tr>\n",
              "      <th>Right_Hand</th>\n",
              "      <td>9740</td>\n",
              "    </tr>\n",
              "    <tr>\n",
              "      <th rowspan=\"2\" valign=\"top\">IPL-2010</th>\n",
              "      <th>Left_Hand</th>\n",
              "      <td>5669</td>\n",
              "    </tr>\n",
              "    <tr>\n",
              "      <th>Right_Hand</th>\n",
              "      <td>12085</td>\n",
              "    </tr>\n",
              "    <tr>\n",
              "      <th rowspan=\"2\" valign=\"top\">IPL-2011</th>\n",
              "      <th>Left_Hand</th>\n",
              "      <td>6962</td>\n",
              "    </tr>\n",
              "    <tr>\n",
              "      <th>Right_Hand</th>\n",
              "      <td>12915</td>\n",
              "    </tr>\n",
              "    <tr>\n",
              "      <th rowspan=\"2\" valign=\"top\">IPL-2012</th>\n",
              "      <th>Left_Hand</th>\n",
              "      <td>6388</td>\n",
              "    </tr>\n",
              "    <tr>\n",
              "      <th>Right_Hand</th>\n",
              "      <td>14934</td>\n",
              "    </tr>\n",
              "    <tr>\n",
              "      <th rowspan=\"2\" valign=\"top\">IPL-2013</th>\n",
              "      <th>Left_Hand</th>\n",
              "      <td>6697</td>\n",
              "    </tr>\n",
              "    <tr>\n",
              "      <th>Right_Hand</th>\n",
              "      <td>14790</td>\n",
              "    </tr>\n",
              "    <tr>\n",
              "      <th rowspan=\"2\" valign=\"top\">IPL-2014</th>\n",
              "      <th>Left_Hand</th>\n",
              "      <td>5140</td>\n",
              "    </tr>\n",
              "    <tr>\n",
              "      <th>Right_Hand</th>\n",
              "      <td>12803</td>\n",
              "    </tr>\n",
              "    <tr>\n",
              "      <th rowspan=\"2\" valign=\"top\">IPL-2015</th>\n",
              "      <th>Left_Hand</th>\n",
              "      <td>4903</td>\n",
              "    </tr>\n",
              "    <tr>\n",
              "      <th>Right_Hand</th>\n",
              "      <td>12157</td>\n",
              "    </tr>\n",
              "    <tr>\n",
              "      <th rowspan=\"2\" valign=\"top\">IPL-2016</th>\n",
              "      <th>Left_Hand</th>\n",
              "      <td>5905</td>\n",
              "    </tr>\n",
              "    <tr>\n",
              "      <th>Right_Hand</th>\n",
              "      <td>12058</td>\n",
              "    </tr>\n",
              "    <tr>\n",
              "      <th rowspan=\"2\" valign=\"top\">IPL-2017</th>\n",
              "      <th>Left_Hand</th>\n",
              "      <td>6259</td>\n",
              "    </tr>\n",
              "    <tr>\n",
              "      <th>Right_Hand</th>\n",
              "      <td>11661</td>\n",
              "    </tr>\n",
              "    <tr>\n",
              "      <th rowspan=\"2\" valign=\"top\">IPL-2018</th>\n",
              "      <th>Left_Hand</th>\n",
              "      <td>5646</td>\n",
              "    </tr>\n",
              "    <tr>\n",
              "      <th>Right_Hand</th>\n",
              "      <td>14260</td>\n",
              "    </tr>\n",
              "    <tr>\n",
              "      <th rowspan=\"2\" valign=\"top\">IPL-2019</th>\n",
              "      <th>Left_Hand</th>\n",
              "      <td>6418</td>\n",
              "    </tr>\n",
              "    <tr>\n",
              "      <th>Right_Hand</th>\n",
              "      <td>12930</td>\n",
              "    </tr>\n",
              "  </tbody>\n",
              "</table>\n",
              "</div>"
            ],
            "text/plain": [
              "                       batsman_runs\n",
              "Season   Batting_Hand              \n",
              "IPL-2008 Left_Hand             6980\n",
              "         Right_Hand            9829\n",
              "IPL-2009 Left_Hand             5636\n",
              "         Right_Hand            9740\n",
              "IPL-2010 Left_Hand             5669\n",
              "         Right_Hand           12085\n",
              "IPL-2011 Left_Hand             6962\n",
              "         Right_Hand           12915\n",
              "IPL-2012 Left_Hand             6388\n",
              "         Right_Hand           14934\n",
              "IPL-2013 Left_Hand             6697\n",
              "         Right_Hand           14790\n",
              "IPL-2014 Left_Hand             5140\n",
              "         Right_Hand           12803\n",
              "IPL-2015 Left_Hand             4903\n",
              "         Right_Hand           12157\n",
              "IPL-2016 Left_Hand             5905\n",
              "         Right_Hand           12058\n",
              "IPL-2017 Left_Hand             6259\n",
              "         Right_Hand           11661\n",
              "IPL-2018 Left_Hand             5646\n",
              "         Right_Hand           14260\n",
              "IPL-2019 Left_Hand             6418\n",
              "         Right_Hand           12930"
            ]
          },
          "metadata": {
            "tags": []
          },
          "execution_count": 302
        }
      ]
    },
    {
      "cell_type": "code",
      "metadata": {
        "colab": {
          "base_uri": "https://localhost:8080/",
          "height": 793
        },
        "id": "KcdSJsk2mpe8",
        "outputId": "654cc634-a60c-4208-88d7-9e0446488009"
      },
      "source": [
        "total_runs_batsman.reset_index(inplace=True)\n",
        "total_runs_batsman"
      ],
      "execution_count": 303,
      "outputs": [
        {
          "output_type": "execute_result",
          "data": {
            "text/html": [
              "<div>\n",
              "<style scoped>\n",
              "    .dataframe tbody tr th:only-of-type {\n",
              "        vertical-align: middle;\n",
              "    }\n",
              "\n",
              "    .dataframe tbody tr th {\n",
              "        vertical-align: top;\n",
              "    }\n",
              "\n",
              "    .dataframe thead th {\n",
              "        text-align: right;\n",
              "    }\n",
              "</style>\n",
              "<table border=\"1\" class=\"dataframe\">\n",
              "  <thead>\n",
              "    <tr style=\"text-align: right;\">\n",
              "      <th></th>\n",
              "      <th>Season</th>\n",
              "      <th>Batting_Hand</th>\n",
              "      <th>batsman_runs</th>\n",
              "    </tr>\n",
              "  </thead>\n",
              "  <tbody>\n",
              "    <tr>\n",
              "      <th>0</th>\n",
              "      <td>IPL-2008</td>\n",
              "      <td>Left_Hand</td>\n",
              "      <td>6980</td>\n",
              "    </tr>\n",
              "    <tr>\n",
              "      <th>1</th>\n",
              "      <td>IPL-2008</td>\n",
              "      <td>Right_Hand</td>\n",
              "      <td>9829</td>\n",
              "    </tr>\n",
              "    <tr>\n",
              "      <th>2</th>\n",
              "      <td>IPL-2009</td>\n",
              "      <td>Left_Hand</td>\n",
              "      <td>5636</td>\n",
              "    </tr>\n",
              "    <tr>\n",
              "      <th>3</th>\n",
              "      <td>IPL-2009</td>\n",
              "      <td>Right_Hand</td>\n",
              "      <td>9740</td>\n",
              "    </tr>\n",
              "    <tr>\n",
              "      <th>4</th>\n",
              "      <td>IPL-2010</td>\n",
              "      <td>Left_Hand</td>\n",
              "      <td>5669</td>\n",
              "    </tr>\n",
              "    <tr>\n",
              "      <th>5</th>\n",
              "      <td>IPL-2010</td>\n",
              "      <td>Right_Hand</td>\n",
              "      <td>12085</td>\n",
              "    </tr>\n",
              "    <tr>\n",
              "      <th>6</th>\n",
              "      <td>IPL-2011</td>\n",
              "      <td>Left_Hand</td>\n",
              "      <td>6962</td>\n",
              "    </tr>\n",
              "    <tr>\n",
              "      <th>7</th>\n",
              "      <td>IPL-2011</td>\n",
              "      <td>Right_Hand</td>\n",
              "      <td>12915</td>\n",
              "    </tr>\n",
              "    <tr>\n",
              "      <th>8</th>\n",
              "      <td>IPL-2012</td>\n",
              "      <td>Left_Hand</td>\n",
              "      <td>6388</td>\n",
              "    </tr>\n",
              "    <tr>\n",
              "      <th>9</th>\n",
              "      <td>IPL-2012</td>\n",
              "      <td>Right_Hand</td>\n",
              "      <td>14934</td>\n",
              "    </tr>\n",
              "    <tr>\n",
              "      <th>10</th>\n",
              "      <td>IPL-2013</td>\n",
              "      <td>Left_Hand</td>\n",
              "      <td>6697</td>\n",
              "    </tr>\n",
              "    <tr>\n",
              "      <th>11</th>\n",
              "      <td>IPL-2013</td>\n",
              "      <td>Right_Hand</td>\n",
              "      <td>14790</td>\n",
              "    </tr>\n",
              "    <tr>\n",
              "      <th>12</th>\n",
              "      <td>IPL-2014</td>\n",
              "      <td>Left_Hand</td>\n",
              "      <td>5140</td>\n",
              "    </tr>\n",
              "    <tr>\n",
              "      <th>13</th>\n",
              "      <td>IPL-2014</td>\n",
              "      <td>Right_Hand</td>\n",
              "      <td>12803</td>\n",
              "    </tr>\n",
              "    <tr>\n",
              "      <th>14</th>\n",
              "      <td>IPL-2015</td>\n",
              "      <td>Left_Hand</td>\n",
              "      <td>4903</td>\n",
              "    </tr>\n",
              "    <tr>\n",
              "      <th>15</th>\n",
              "      <td>IPL-2015</td>\n",
              "      <td>Right_Hand</td>\n",
              "      <td>12157</td>\n",
              "    </tr>\n",
              "    <tr>\n",
              "      <th>16</th>\n",
              "      <td>IPL-2016</td>\n",
              "      <td>Left_Hand</td>\n",
              "      <td>5905</td>\n",
              "    </tr>\n",
              "    <tr>\n",
              "      <th>17</th>\n",
              "      <td>IPL-2016</td>\n",
              "      <td>Right_Hand</td>\n",
              "      <td>12058</td>\n",
              "    </tr>\n",
              "    <tr>\n",
              "      <th>18</th>\n",
              "      <td>IPL-2017</td>\n",
              "      <td>Left_Hand</td>\n",
              "      <td>6259</td>\n",
              "    </tr>\n",
              "    <tr>\n",
              "      <th>19</th>\n",
              "      <td>IPL-2017</td>\n",
              "      <td>Right_Hand</td>\n",
              "      <td>11661</td>\n",
              "    </tr>\n",
              "    <tr>\n",
              "      <th>20</th>\n",
              "      <td>IPL-2018</td>\n",
              "      <td>Left_Hand</td>\n",
              "      <td>5646</td>\n",
              "    </tr>\n",
              "    <tr>\n",
              "      <th>21</th>\n",
              "      <td>IPL-2018</td>\n",
              "      <td>Right_Hand</td>\n",
              "      <td>14260</td>\n",
              "    </tr>\n",
              "    <tr>\n",
              "      <th>22</th>\n",
              "      <td>IPL-2019</td>\n",
              "      <td>Left_Hand</td>\n",
              "      <td>6418</td>\n",
              "    </tr>\n",
              "    <tr>\n",
              "      <th>23</th>\n",
              "      <td>IPL-2019</td>\n",
              "      <td>Right_Hand</td>\n",
              "      <td>12930</td>\n",
              "    </tr>\n",
              "  </tbody>\n",
              "</table>\n",
              "</div>"
            ],
            "text/plain": [
              "      Season Batting_Hand  batsman_runs\n",
              "0   IPL-2008    Left_Hand          6980\n",
              "1   IPL-2008   Right_Hand          9829\n",
              "2   IPL-2009    Left_Hand          5636\n",
              "3   IPL-2009   Right_Hand          9740\n",
              "4   IPL-2010    Left_Hand          5669\n",
              "5   IPL-2010   Right_Hand         12085\n",
              "6   IPL-2011    Left_Hand          6962\n",
              "7   IPL-2011   Right_Hand         12915\n",
              "8   IPL-2012    Left_Hand          6388\n",
              "9   IPL-2012   Right_Hand         14934\n",
              "10  IPL-2013    Left_Hand          6697\n",
              "11  IPL-2013   Right_Hand         14790\n",
              "12  IPL-2014    Left_Hand          5140\n",
              "13  IPL-2014   Right_Hand         12803\n",
              "14  IPL-2015    Left_Hand          4903\n",
              "15  IPL-2015   Right_Hand         12157\n",
              "16  IPL-2016    Left_Hand          5905\n",
              "17  IPL-2016   Right_Hand         12058\n",
              "18  IPL-2017    Left_Hand          6259\n",
              "19  IPL-2017   Right_Hand         11661\n",
              "20  IPL-2018    Left_Hand          5646\n",
              "21  IPL-2018   Right_Hand         14260\n",
              "22  IPL-2019    Left_Hand          6418\n",
              "23  IPL-2019   Right_Hand         12930"
            ]
          },
          "metadata": {
            "tags": []
          },
          "execution_count": 303
        }
      ]
    },
    {
      "cell_type": "code",
      "metadata": {
        "colab": {
          "base_uri": "https://localhost:8080/",
          "height": 452
        },
        "id": "Q90Yh1DCog9f",
        "outputId": "a7e30c4c-1eef-4a20-9ed5-e9aa9ca652dd"
      },
      "source": [
        "df = total_runs_batsman.pivot(index='Season', columns='Batting_Hand', values='batsman_runs')\n",
        "df.replace(np.NaN,0,inplace=True)\n",
        "df"
      ],
      "execution_count": 304,
      "outputs": [
        {
          "output_type": "execute_result",
          "data": {
            "text/html": [
              "<div>\n",
              "<style scoped>\n",
              "    .dataframe tbody tr th:only-of-type {\n",
              "        vertical-align: middle;\n",
              "    }\n",
              "\n",
              "    .dataframe tbody tr th {\n",
              "        vertical-align: top;\n",
              "    }\n",
              "\n",
              "    .dataframe thead th {\n",
              "        text-align: right;\n",
              "    }\n",
              "</style>\n",
              "<table border=\"1\" class=\"dataframe\">\n",
              "  <thead>\n",
              "    <tr style=\"text-align: right;\">\n",
              "      <th>Batting_Hand</th>\n",
              "      <th>Left_Hand</th>\n",
              "      <th>Right_Hand</th>\n",
              "    </tr>\n",
              "    <tr>\n",
              "      <th>Season</th>\n",
              "      <th></th>\n",
              "      <th></th>\n",
              "    </tr>\n",
              "  </thead>\n",
              "  <tbody>\n",
              "    <tr>\n",
              "      <th>IPL-2008</th>\n",
              "      <td>6980</td>\n",
              "      <td>9829</td>\n",
              "    </tr>\n",
              "    <tr>\n",
              "      <th>IPL-2009</th>\n",
              "      <td>5636</td>\n",
              "      <td>9740</td>\n",
              "    </tr>\n",
              "    <tr>\n",
              "      <th>IPL-2010</th>\n",
              "      <td>5669</td>\n",
              "      <td>12085</td>\n",
              "    </tr>\n",
              "    <tr>\n",
              "      <th>IPL-2011</th>\n",
              "      <td>6962</td>\n",
              "      <td>12915</td>\n",
              "    </tr>\n",
              "    <tr>\n",
              "      <th>IPL-2012</th>\n",
              "      <td>6388</td>\n",
              "      <td>14934</td>\n",
              "    </tr>\n",
              "    <tr>\n",
              "      <th>IPL-2013</th>\n",
              "      <td>6697</td>\n",
              "      <td>14790</td>\n",
              "    </tr>\n",
              "    <tr>\n",
              "      <th>IPL-2014</th>\n",
              "      <td>5140</td>\n",
              "      <td>12803</td>\n",
              "    </tr>\n",
              "    <tr>\n",
              "      <th>IPL-2015</th>\n",
              "      <td>4903</td>\n",
              "      <td>12157</td>\n",
              "    </tr>\n",
              "    <tr>\n",
              "      <th>IPL-2016</th>\n",
              "      <td>5905</td>\n",
              "      <td>12058</td>\n",
              "    </tr>\n",
              "    <tr>\n",
              "      <th>IPL-2017</th>\n",
              "      <td>6259</td>\n",
              "      <td>11661</td>\n",
              "    </tr>\n",
              "    <tr>\n",
              "      <th>IPL-2018</th>\n",
              "      <td>5646</td>\n",
              "      <td>14260</td>\n",
              "    </tr>\n",
              "    <tr>\n",
              "      <th>IPL-2019</th>\n",
              "      <td>6418</td>\n",
              "      <td>12930</td>\n",
              "    </tr>\n",
              "  </tbody>\n",
              "</table>\n",
              "</div>"
            ],
            "text/plain": [
              "Batting_Hand  Left_Hand  Right_Hand\n",
              "Season                             \n",
              "IPL-2008           6980        9829\n",
              "IPL-2009           5636        9740\n",
              "IPL-2010           5669       12085\n",
              "IPL-2011           6962       12915\n",
              "IPL-2012           6388       14934\n",
              "IPL-2013           6697       14790\n",
              "IPL-2014           5140       12803\n",
              "IPL-2015           4903       12157\n",
              "IPL-2016           5905       12058\n",
              "IPL-2017           6259       11661\n",
              "IPL-2018           5646       14260\n",
              "IPL-2019           6418       12930"
            ]
          },
          "metadata": {
            "tags": []
          },
          "execution_count": 304
        }
      ]
    },
    {
      "cell_type": "code",
      "metadata": {
        "colab": {
          "base_uri": "https://localhost:8080/",
          "height": 351
        },
        "id": "g9z1_BAOouPn",
        "outputId": "cff58b88-5df0-4790-de8d-3e36298591a3"
      },
      "source": [
        "\n",
        "df.plot(figsize=(10,5))\n",
        "plt.legend()"
      ],
      "execution_count": 307,
      "outputs": [
        {
          "output_type": "execute_result",
          "data": {
            "text/plain": [
              "<matplotlib.legend.Legend at 0x7f3c10fe5050>"
            ]
          },
          "metadata": {
            "tags": []
          },
          "execution_count": 307
        },
        {
          "output_type": "display_data",
          "data": {
            "image/png": "[encoded data removed]",
            "text/plain": [
              "<Figure size 720x360 with 1 Axes>"
            ]
          },
          "metadata": {
            "tags": [],
            "needs_background": "light"
          }
        }
      ]
    },
    {
      "cell_type": "code",
      "metadata": {
        "colab": {
          "base_uri": "https://localhost:8080/",
          "height": 514
        },
        "id": "vhVee-QAo-EQ",
        "outputId": "ffcfa85b-865d-46f6-c83b-f7726443fc70"
      },
      "source": [
        "deliveries[deliveries[\"match_id\"]==1].groupby([\"match_id\",\"bowler\"]).agg({\"dismissal_kind\":\"count\"})"
      ],
      "execution_count": 321,
      "outputs": [
        {
          "output_type": "execute_result",
          "data": {
            "text/html": [
              "<div>\n",
              "<style scoped>\n",
              "    .dataframe tbody tr th:only-of-type {\n",
              "        vertical-align: middle;\n",
              "    }\n",
              "\n",
              "    .dataframe tbody tr th {\n",
              "        vertical-align: top;\n",
              "    }\n",
              "\n",
              "    .dataframe thead th {\n",
              "        text-align: right;\n",
              "    }\n",
              "</style>\n",
              "<table border=\"1\" class=\"dataframe\">\n",
              "  <thead>\n",
              "    <tr style=\"text-align: right;\">\n",
              "      <th></th>\n",
              "      <th></th>\n",
              "      <th>dismissal_kind</th>\n",
              "    </tr>\n",
              "    <tr>\n",
              "      <th>match_id</th>\n",
              "      <th>bowler</th>\n",
              "      <th></th>\n",
              "    </tr>\n",
              "  </thead>\n",
              "  <tbody>\n",
              "    <tr>\n",
              "      <th rowspan=\"14\" valign=\"top\">1</th>\n",
              "      <th>A Choudhary</th>\n",
              "      <td>1</td>\n",
              "    </tr>\n",
              "    <tr>\n",
              "      <th>A Nehra</th>\n",
              "      <td>2</td>\n",
              "    </tr>\n",
              "    <tr>\n",
              "      <th>B Kumar</th>\n",
              "      <td>2</td>\n",
              "    </tr>\n",
              "    <tr>\n",
              "      <th>BCJ Cutting</th>\n",
              "      <td>1</td>\n",
              "    </tr>\n",
              "    <tr>\n",
              "      <th>Bipul Sharma</th>\n",
              "      <td>1</td>\n",
              "    </tr>\n",
              "    <tr>\n",
              "      <th>DJ Hooda</th>\n",
              "      <td>1</td>\n",
              "    </tr>\n",
              "    <tr>\n",
              "      <th>MC Henriques</th>\n",
              "      <td>1</td>\n",
              "    </tr>\n",
              "    <tr>\n",
              "      <th>Rashid Khan</th>\n",
              "      <td>2</td>\n",
              "    </tr>\n",
              "    <tr>\n",
              "      <th>S Aravind</th>\n",
              "      <td>0</td>\n",
              "    </tr>\n",
              "    <tr>\n",
              "      <th>SR Watson</th>\n",
              "      <td>0</td>\n",
              "    </tr>\n",
              "    <tr>\n",
              "      <th>STR Binny</th>\n",
              "      <td>1</td>\n",
              "    </tr>\n",
              "    <tr>\n",
              "      <th>TM Head</th>\n",
              "      <td>0</td>\n",
              "    </tr>\n",
              "    <tr>\n",
              "      <th>TS Mills</th>\n",
              "      <td>1</td>\n",
              "    </tr>\n",
              "    <tr>\n",
              "      <th>YS Chahal</th>\n",
              "      <td>1</td>\n",
              "    </tr>\n",
              "  </tbody>\n",
              "</table>\n",
              "</div>"
            ],
            "text/plain": [
              "                       dismissal_kind\n",
              "match_id bowler                      \n",
              "1        A Choudhary                1\n",
              "         A Nehra                    2\n",
              "         B Kumar                    2\n",
              "         BCJ Cutting                1\n",
              "         Bipul Sharma               1\n",
              "         DJ Hooda                   1\n",
              "         MC Henriques               1\n",
              "         Rashid Khan                2\n",
              "         S Aravind                  0\n",
              "         SR Watson                  0\n",
              "         STR Binny                  1\n",
              "         TM Head                    0\n",
              "         TS Mills                   1\n",
              "         YS Chahal                  1"
            ]
          },
          "metadata": {
            "tags": []
          },
          "execution_count": 321
        }
      ]
    },
    {
      "cell_type": "code",
      "metadata": {
        "colab": {
          "base_uri": "https://localhost:8080/",
          "height": 450
        },
        "id": "YuFzeePEpbOT",
        "outputId": "3425f14e-2ecd-40ef-c35e-b80bb014e410"
      },
      "source": [
        "deliveries.groupby(\"match_id\").agg({\"player_dismissed\":\"count\"})"
      ],
      "execution_count": 325,
      "outputs": [
        {
          "output_type": "execute_result",
          "data": {
            "text/html": [
              "<div>\n",
              "<style scoped>\n",
              "    .dataframe tbody tr th:only-of-type {\n",
              "        vertical-align: middle;\n",
              "    }\n",
              "\n",
              "    .dataframe tbody tr th {\n",
              "        vertical-align: top;\n",
              "    }\n",
              "\n",
              "    .dataframe thead th {\n",
              "        text-align: right;\n",
              "    }\n",
              "</style>\n",
              "<table border=\"1\" class=\"dataframe\">\n",
              "  <thead>\n",
              "    <tr style=\"text-align: right;\">\n",
              "      <th></th>\n",
              "      <th>player_dismissed</th>\n",
              "    </tr>\n",
              "    <tr>\n",
              "      <th>match_id</th>\n",
              "      <th></th>\n",
              "    </tr>\n",
              "  </thead>\n",
              "  <tbody>\n",
              "    <tr>\n",
              "      <th>1</th>\n",
              "      <td>14</td>\n",
              "    </tr>\n",
              "    <tr>\n",
              "      <th>2</th>\n",
              "      <td>11</td>\n",
              "    </tr>\n",
              "    <tr>\n",
              "      <th>3</th>\n",
              "      <td>4</td>\n",
              "    </tr>\n",
              "    <tr>\n",
              "      <th>4</th>\n",
              "      <td>10</td>\n",
              "    </tr>\n",
              "    <tr>\n",
              "      <th>5</th>\n",
              "      <td>17</td>\n",
              "    </tr>\n",
              "    <tr>\n",
              "      <th>...</th>\n",
              "      <td>...</td>\n",
              "    </tr>\n",
              "    <tr>\n",
              "      <th>11347</th>\n",
              "      <td>8</td>\n",
              "    </tr>\n",
              "    <tr>\n",
              "      <th>11412</th>\n",
              "      <td>8</td>\n",
              "    </tr>\n",
              "    <tr>\n",
              "      <th>11413</th>\n",
              "      <td>14</td>\n",
              "    </tr>\n",
              "    <tr>\n",
              "      <th>11414</th>\n",
              "      <td>13</td>\n",
              "    </tr>\n",
              "    <tr>\n",
              "      <th>11415</th>\n",
              "      <td>15</td>\n",
              "    </tr>\n",
              "  </tbody>\n",
              "</table>\n",
              "<p>752 rows × 1 columns</p>\n",
              "</div>"
            ],
            "text/plain": [
              "          player_dismissed\n",
              "match_id                  \n",
              "1                       14\n",
              "2                       11\n",
              "3                        4\n",
              "4                       10\n",
              "5                       17\n",
              "...                    ...\n",
              "11347                    8\n",
              "11412                    8\n",
              "11413                   14\n",
              "11414                   13\n",
              "11415                   15\n",
              "\n",
              "[752 rows x 1 columns]"
            ]
          },
          "metadata": {
            "tags": []
          },
          "execution_count": 325
        }
      ]
    },
    {
      "cell_type": "code",
      "metadata": {
        "id": "aMQ0FWcPqkWG"
      },
      "source": [
        ""
      ],
      "execution_count": null,
      "outputs": []
    }
  ]
}